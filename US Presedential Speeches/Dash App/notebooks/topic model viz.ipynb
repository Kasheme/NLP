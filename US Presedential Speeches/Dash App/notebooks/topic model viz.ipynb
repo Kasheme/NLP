{
 "cells": [
  {
   "cell_type": "markdown",
   "metadata": {},
   "source": [
    "## Top2Vec Model Visualisation"
   ]
  },
  {
   "cell_type": "code",
   "execution_count": 1,
   "metadata": {},
   "outputs": [
    {
     "name": "stderr",
     "output_type": "stream",
     "text": [
      "c:\\Users\\User\\miniconda3\\envs\\rainbow2\\lib\\site-packages\\umap\\distances.py:1063: NumbaDeprecationWarning: \u001b[1mThe 'nopython' keyword argument was not supplied to the 'numba.jit' decorator. The implicit default value for this argument is currently False, but it will be changed to True in Numba 0.59.0. See https://numba.readthedocs.io/en/stable/reference/deprecation.html#deprecation-of-object-mode-fall-back-behaviour-when-using-jit for details.\u001b[0m\n",
      "  @numba.jit()\n",
      "c:\\Users\\User\\miniconda3\\envs\\rainbow2\\lib\\site-packages\\umap\\distances.py:1071: NumbaDeprecationWarning: \u001b[1mThe 'nopython' keyword argument was not supplied to the 'numba.jit' decorator. The implicit default value for this argument is currently False, but it will be changed to True in Numba 0.59.0. See https://numba.readthedocs.io/en/stable/reference/deprecation.html#deprecation-of-object-mode-fall-back-behaviour-when-using-jit for details.\u001b[0m\n",
      "  @numba.jit()\n",
      "c:\\Users\\User\\miniconda3\\envs\\rainbow2\\lib\\site-packages\\umap\\distances.py:1086: NumbaDeprecationWarning: \u001b[1mThe 'nopython' keyword argument was not supplied to the 'numba.jit' decorator. The implicit default value for this argument is currently False, but it will be changed to True in Numba 0.59.0. See https://numba.readthedocs.io/en/stable/reference/deprecation.html#deprecation-of-object-mode-fall-back-behaviour-when-using-jit for details.\u001b[0m\n",
      "  @numba.jit()\n",
      "c:\\Users\\User\\miniconda3\\envs\\rainbow2\\lib\\site-packages\\tqdm\\auto.py:21: TqdmWarning: IProgress not found. Please update jupyter and ipywidgets. See https://ipywidgets.readthedocs.io/en/stable/user_install.html\n",
      "  from .autonotebook import tqdm as notebook_tqdm\n",
      "c:\\Users\\User\\miniconda3\\envs\\rainbow2\\lib\\site-packages\\umap\\umap_.py:660: NumbaDeprecationWarning: \u001b[1mThe 'nopython' keyword argument was not supplied to the 'numba.jit' decorator. The implicit default value for this argument is currently False, but it will be changed to True in Numba 0.59.0. See https://numba.readthedocs.io/en/stable/reference/deprecation.html#deprecation-of-object-mode-fall-back-behaviour-when-using-jit for details.\u001b[0m\n",
      "  @numba.jit()\n"
     ]
    }
   ],
   "source": [
    "from top2vec import Top2Vec\n",
    "import pandas as pd\n",
    "import numpy as np\n",
    "import nltk"
   ]
  },
  {
   "cell_type": "code",
   "execution_count": 2,
   "metadata": {},
   "outputs": [],
   "source": [
    "model = Top2Vec.load(\"C:\\\\Users\\\\User\\\\OneDrive\\\\Documents\\\\GitHub\\\\NLP\\\\US Presedential Speeches\\\\Analysis\\\\Topic Modelling\\\\US_Speech_Top2Vec_Model\")"
   ]
  },
  {
   "cell_type": "code",
   "execution_count": 3,
   "metadata": {},
   "outputs": [],
   "source": [
    "# print('Topic-Term shape: %s' % str(np.array(movies_model_data['topic_term_dists']).shape))\n",
    "# print('Doc-Topic shape: %s' % str(np.array(movies_model_data['doc_topic_dists']).shape))"
   ]
  },
  {
   "cell_type": "code",
   "execution_count": 4,
   "metadata": {},
   "outputs": [
    {
     "data": {
      "text/plain": [
       "array(['east', 'middle', 'forces', 'do', 'what', 'democracy',\n",
       "       'government', 'when', 'will', 'make', 'afghan', 'help', 'these',\n",
       "       'work', 'support', 'are', 'end', 'an', 'continue', 'must', 'just',\n",
       "       'people', 'all', 'its', 'new', 'that', 'so', 'be', 'them', 'it',\n",
       "       'military', 'more', 'as', 'with', 'up', 'their', 're', 'security',\n",
       "       'nations', 'they', 'freedom', 'peace', 'we', 'american', 'the',\n",
       "       'to', 'can', 'men', 'out', 'not'], dtype='<U11')"
      ]
     },
     "execution_count": 4,
     "metadata": {},
     "output_type": "execute_result"
    }
   ],
   "source": [
    "model.topic_words[0]"
   ]
  },
  {
   "cell_type": "code",
   "execution_count": 5,
   "metadata": {},
   "outputs": [
    {
     "data": {
      "text/plain": [
       "array([0.67477405, 0.63805985, 0.6299089 , 0.6290581 , 0.59228843,\n",
       "       0.5903019 , 0.5901095 , 0.5855586 , 0.5828405 , 0.5753587 ,\n",
       "       0.5700595 , 0.57004297, 0.5565223 , 0.55433404, 0.54776967,\n",
       "       0.52583665, 0.5210756 , 0.5159689 , 0.49648976, 0.49293354,\n",
       "       0.49021783, 0.48792988, 0.48229238, 0.48037338, 0.47364694,\n",
       "       0.46739438, 0.46725667, 0.4665366 , 0.46556503, 0.4644153 ,\n",
       "       0.46256417, 0.4561973 , 0.45541787, 0.4513286 , 0.44424698,\n",
       "       0.43716955, 0.42938596, 0.42763013, 0.42593297, 0.424935  ,\n",
       "       0.42368734, 0.42126086, 0.42090103, 0.41762766, 0.41356388,\n",
       "       0.41277483, 0.41209033, 0.41137803, 0.41005558, 0.40963483],\n",
       "      dtype=float32)"
      ]
     },
     "execution_count": 5,
     "metadata": {},
     "output_type": "execute_result"
    }
   ],
   "source": [
    "model.topic_word_scores[0]"
   ]
  },
  {
   "cell_type": "code",
   "execution_count": null,
   "metadata": {},
   "outputs": [],
   "source": []
  }
 ],
 "metadata": {
  "kernelspec": {
   "display_name": "rainbow",
   "language": "python",
   "name": "python3"
  },
  "language_info": {
   "codemirror_mode": {
    "name": "ipython",
    "version": 3
   },
   "file_extension": ".py",
   "mimetype": "text/x-python",
   "name": "python",
   "nbconvert_exporter": "python",
   "pygments_lexer": "ipython3",
   "version": "3.10.12"
  },
  "orig_nbformat": 4
 },
 "nbformat": 4,
 "nbformat_minor": 2
}
