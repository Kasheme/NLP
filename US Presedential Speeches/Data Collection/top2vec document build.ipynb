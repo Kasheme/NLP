{
 "cells": [
  {
   "cell_type": "markdown",
   "metadata": {},
   "source": [
    "# Top2Vec Document Build"
   ]
  },
  {
   "cell_type": "code",
   "execution_count": 1,
   "metadata": {},
   "outputs": [
    {
     "name": "stderr",
     "output_type": "stream",
     "text": [
      "c:\\Users\\User\\miniconda3\\envs\\rainbow\\lib\\site-packages\\umap\\distances.py:1063: NumbaDeprecationWarning: \u001b[1mThe 'nopython' keyword argument was not supplied to the 'numba.jit' decorator. The implicit default value for this argument is currently False, but it will be changed to True in Numba 0.59.0. See https://numba.readthedocs.io/en/stable/reference/deprecation.html#deprecation-of-object-mode-fall-back-behaviour-when-using-jit for details.\u001b[0m\n",
      "  @numba.jit()\n",
      "c:\\Users\\User\\miniconda3\\envs\\rainbow\\lib\\site-packages\\umap\\distances.py:1071: NumbaDeprecationWarning: \u001b[1mThe 'nopython' keyword argument was not supplied to the 'numba.jit' decorator. The implicit default value for this argument is currently False, but it will be changed to True in Numba 0.59.0. See https://numba.readthedocs.io/en/stable/reference/deprecation.html#deprecation-of-object-mode-fall-back-behaviour-when-using-jit for details.\u001b[0m\n",
      "  @numba.jit()\n",
      "c:\\Users\\User\\miniconda3\\envs\\rainbow\\lib\\site-packages\\umap\\distances.py:1086: NumbaDeprecationWarning: \u001b[1mThe 'nopython' keyword argument was not supplied to the 'numba.jit' decorator. The implicit default value for this argument is currently False, but it will be changed to True in Numba 0.59.0. See https://numba.readthedocs.io/en/stable/reference/deprecation.html#deprecation-of-object-mode-fall-back-behaviour-when-using-jit for details.\u001b[0m\n",
      "  @numba.jit()\n",
      "c:\\Users\\User\\miniconda3\\envs\\rainbow\\lib\\site-packages\\tqdm\\auto.py:21: TqdmWarning: IProgress not found. Please update jupyter and ipywidgets. See https://ipywidgets.readthedocs.io/en/stable/user_install.html\n",
      "  from .autonotebook import tqdm as notebook_tqdm\n",
      "c:\\Users\\User\\miniconda3\\envs\\rainbow\\lib\\site-packages\\umap\\umap_.py:660: NumbaDeprecationWarning: \u001b[1mThe 'nopython' keyword argument was not supplied to the 'numba.jit' decorator. The implicit default value for this argument is currently False, but it will be changed to True in Numba 0.59.0. See https://numba.readthedocs.io/en/stable/reference/deprecation.html#deprecation-of-object-mode-fall-back-behaviour-when-using-jit for details.\u001b[0m\n",
      "  @numba.jit()\n"
     ]
    }
   ],
   "source": [
    "from top2vec import Top2Vec"
   ]
  },
  {
   "cell_type": "code",
   "execution_count": 2,
   "metadata": {},
   "outputs": [],
   "source": [
    "import pandas as pd\n",
    "import os\n",
    "import pickle"
   ]
  },
  {
   "cell_type": "code",
   "execution_count": 3,
   "metadata": {},
   "outputs": [],
   "source": [
    "def import_pickle(relative_path):\n",
    "    current_directory = os.getcwd()\n",
    "    file_path = os.path.join(current_directory, relative_path)\n",
    "    with open(file_path, 'rb') as file:\n",
    "        df = pickle.load(file)\n",
    "    return df"
   ]
  },
  {
   "cell_type": "code",
   "execution_count": 4,
   "metadata": {},
   "outputs": [],
   "source": [
    "JB_Jul2021 = import_pickle(\"Biden\\\\Biden Speeches Raw\\\\JB_Jul2021_df.pkl\")\n",
    "JB_Aug2021 = import_pickle(\"Biden\\\\Biden Speeches Raw\\\\JB_Aug2021_df.pkl\")\n",
    "JB_Aug2021_2 = import_pickle(\"Biden\\\\Biden Speeches Raw\\\\JB_Aug2021_2_df.pkl\")"
   ]
  },
  {
   "cell_type": "code",
   "execution_count": 5,
   "metadata": {},
   "outputs": [],
   "source": [
    "DT_Dec2017 = import_pickle(\"Trump\\\\Trump Speeches Raw\\\\DT_Dec2017.pkl\")\n",
    "DT_Jan2020 = import_pickle(\"Trump\\\\Trump Speeches Raw\\\\DT_Jan2020.pkl\")\n",
    "DT_Oct2019 = import_pickle(\"Trump\\\\Trump Speeches Raw\\\\DT_Oct2019.pkl\")"
   ]
  },
  {
   "cell_type": "code",
   "execution_count": 7,
   "metadata": {},
   "outputs": [],
   "source": [
    "BO_Aug2014 = import_pickle(\"Obama\\\\Obama Speeches Raw\\\\BO_Aug2014_df.pkl\")\n",
    "BO_Feb2009 = import_pickle(\"Obama\\\\Obama Speeches Raw\\\\BO_Feb2009_df.pkl\")\n",
    "BO_May2011 = import_pickle(\"Obama\\\\Obama Speeches Raw\\\\BO_May2011_df.pkl\")\n",
    "BO_Nov2006 = import_pickle(\"Obama\\\\Obama Speeches Raw\\\\BO_Nov2006_df.pkl\")"
   ]
  },
  {
   "cell_type": "code",
   "execution_count": 9,
   "metadata": {},
   "outputs": [],
   "source": [
    "GB_Feb2003 = import_pickle(\"Bush\\\\Bush Speeches Raw\\\\GB_Feb2003_df.pkl\")\n",
    "GB_Nov2005 = import_pickle(\"Bush\\\\Bush Speeches Raw\\\\GB_Nov2005_df.pkl\")\n",
    "GB_Jan2008 = import_pickle(\"Bush\\\\Bush Speeches Raw\\\\GB_Jan2008_df.pkl\")\n",
    "GB_Mar2008 = import_pickle(\"Bush\\\\Bush Speeches Raw\\\\GB_Mar2008_df.pkl\")"
   ]
  },
  {
   "cell_type": "markdown",
   "metadata": {},
   "source": [
    "### Combine the Dataframes into one"
   ]
  },
  {
   "cell_type": "code",
   "execution_count": 12,
   "metadata": {},
   "outputs": [],
   "source": [
    "speech_documents = pd.concat([JB_Jul2021, JB_Aug2021, JB_Aug2021_2, DT_Dec2017, DT_Jan2020, DT_Oct2019, BO_Aug2014, BO_Feb2009\n",
    "                              ,BO_May2011, BO_Nov2006, GB_Feb2003, GB_Nov2005, GB_Jan2008, GB_Mar2008], axis=0)"
   ]
  },
  {
   "cell_type": "code",
   "execution_count": 13,
   "metadata": {},
   "outputs": [
    {
     "data": {
      "text/html": [
       "<div>\n",
       "<style scoped>\n",
       "    .dataframe tbody tr th:only-of-type {\n",
       "        vertical-align: middle;\n",
       "    }\n",
       "\n",
       "    .dataframe tbody tr th {\n",
       "        vertical-align: top;\n",
       "    }\n",
       "\n",
       "    .dataframe thead th {\n",
       "        text-align: right;\n",
       "    }\n",
       "</style>\n",
       "<table border=\"1\" class=\"dataframe\">\n",
       "  <thead>\n",
       "    <tr style=\"text-align: right;\">\n",
       "      <th></th>\n",
       "      <th>sentence</th>\n",
       "    </tr>\n",
       "  </thead>\n",
       "  <tbody>\n",
       "    <tr>\n",
       "      <th>0</th>\n",
       "      <td>Good afternoon.</td>\n",
       "    </tr>\n",
       "    <tr>\n",
       "      <th>1</th>\n",
       "      <td>Earlier today, I was briefed by our senior mil...</td>\n",
       "    </tr>\n",
       "    <tr>\n",
       "      <th>2</th>\n",
       "      <td>When I announced our drawdown in April, I said...</td>\n",
       "    </tr>\n",
       "    <tr>\n",
       "      <th>3</th>\n",
       "      <td>Our military mission in Afghanistan will concl...</td>\n",
       "    </tr>\n",
       "    <tr>\n",
       "      <th>4</th>\n",
       "      <td>The drawdown is proceeding in a secure and ord...</td>\n",
       "    </tr>\n",
       "    <tr>\n",
       "      <th>...</th>\n",
       "      <td>...</td>\n",
       "    </tr>\n",
       "    <tr>\n",
       "      <th>165</th>\n",
       "      <td>Five years ago tonight, I promised the America...</td>\n",
       "    </tr>\n",
       "    <tr>\n",
       "      <th>166</th>\n",
       "      <td>Today, standing before menand women who helped...</td>\n",
       "    </tr>\n",
       "    <tr>\n",
       "      <th>167</th>\n",
       "      <td>The battle in Ir aq is noble, it is necessary,...</td>\n",
       "    </tr>\n",
       "    <tr>\n",
       "      <th>168</th>\n",
       "      <td>And with your courage, the battle in Iraq will...</td>\n",
       "    </tr>\n",
       "    <tr>\n",
       "      <th>169</th>\n",
       "      <td>God bless.</td>\n",
       "    </tr>\n",
       "  </tbody>\n",
       "</table>\n",
       "<p>1957 rows × 1 columns</p>\n",
       "</div>"
      ],
      "text/plain": [
       "                                              sentence\n",
       "0                                      Good afternoon.\n",
       "1    Earlier today, I was briefed by our senior mil...\n",
       "2    When I announced our drawdown in April, I said...\n",
       "3    Our military mission in Afghanistan will concl...\n",
       "4    The drawdown is proceeding in a secure and ord...\n",
       "..                                                 ...\n",
       "165  Five years ago tonight, I promised the America...\n",
       "166  Today, standing before menand women who helped...\n",
       "167  The battle in Ir aq is noble, it is necessary,...\n",
       "168  And with your courage, the battle in Iraq will...\n",
       "169                                         God bless.\n",
       "\n",
       "[1957 rows x 1 columns]"
      ]
     },
     "execution_count": 13,
     "metadata": {},
     "output_type": "execute_result"
    }
   ],
   "source": [
    "speech_documents"
   ]
  },
  {
   "cell_type": "code",
   "execution_count": 15,
   "metadata": {},
   "outputs": [
    {
     "data": {
      "text/plain": [
       "'c:\\\\Users\\\\User\\\\OneDrive\\\\Documents\\\\GitHub\\\\NLP\\\\US Presedential Speeches\\\\Data Collection'"
      ]
     },
     "execution_count": 15,
     "metadata": {},
     "output_type": "execute_result"
    }
   ],
   "source": [
    "os.getcwd()"
   ]
  },
  {
   "cell_type": "code",
   "execution_count": 17,
   "metadata": {},
   "outputs": [],
   "source": [
    "speech_documents.to_pickle(\"c:\\\\Users\\\\User\\\\OneDrive\\\\Documents\\\\GitHub\\\\NLP\\\\US Presedential Speeches\\\\Topic Modelling//speech_documents.pkl\")"
   ]
  }
 ],
 "metadata": {
  "kernelspec": {
   "display_name": "rainbow",
   "language": "python",
   "name": "python3"
  },
  "language_info": {
   "codemirror_mode": {
    "name": "ipython",
    "version": 3
   },
   "file_extension": ".py",
   "mimetype": "text/x-python",
   "name": "python",
   "nbconvert_exporter": "python",
   "pygments_lexer": "ipython3",
   "version": "3.10.12"
  },
  "orig_nbformat": 4
 },
 "nbformat": 4,
 "nbformat_minor": 2
}
