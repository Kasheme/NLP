{
 "cells": [
  {
   "cell_type": "markdown",
   "metadata": {},
   "source": [
    "# Top2Vec Document Build"
   ]
  },
  {
   "cell_type": "code",
   "execution_count": 1,
   "metadata": {},
   "outputs": [],
   "source": [
    "import pandas as pd\n",
    "import os\n",
    "import pickle"
   ]
  },
  {
   "cell_type": "code",
   "execution_count": 2,
   "metadata": {},
   "outputs": [],
   "source": [
    "def import_pickle(relative_path):\n",
    "    current_directory = os.getcwd()\n",
    "    file_path = os.path.join(current_directory, relative_path)\n",
    "    with open(file_path, 'rb') as file:\n",
    "        df = pickle.load(file)\n",
    "    return df"
   ]
  },
  {
   "cell_type": "code",
   "execution_count": 3,
   "metadata": {},
   "outputs": [],
   "source": [
    "JB_Jul2021 = import_pickle(\"Biden\\\\Biden Speeches Raw\\\\JB_Jul2021_df.pkl\")\n",
    "JB_Aug2021 = import_pickle(\"Biden\\\\Biden Speeches Raw\\\\JB_Aug2021_df.pkl\")\n",
    "JB_Aug2021_2 = import_pickle(\"Biden\\\\Biden Speeches Raw\\\\JB_Aug2021_2_df.pkl\")"
   ]
  },
  {
   "cell_type": "code",
   "execution_count": 4,
   "metadata": {},
   "outputs": [],
   "source": [
    "DT_Dec2017 = import_pickle(\"Trump\\\\Trump Speeches Raw\\\\DT_Dec2017.pkl\")\n",
    "DT_Jan2020 = import_pickle(\"Trump\\\\Trump Speeches Raw\\\\DT_Jan2020.pkl\")\n",
    "DT_Oct2019 = import_pickle(\"Trump\\\\Trump Speeches Raw\\\\DT_Oct2019.pkl\")"
   ]
  },
  {
   "cell_type": "code",
   "execution_count": 5,
   "metadata": {},
   "outputs": [],
   "source": [
    "BO_Aug2014 = import_pickle(\"Obama\\\\Obama Speeches Raw\\\\BO_Aug2014_df.pkl\")\n",
    "BO_Dec2009 = import_pickle(\"Obama\\\\Obama Speeches Raw\\\\BO_Dec2009_df.pkl\")\n",
    "BO_May2011 = import_pickle(\"Obama\\\\Obama Speeches Raw\\\\BO_May2011_df.pkl\")\n",
    "BO_Nov2006 = import_pickle(\"Obama\\\\Obama Speeches Raw\\\\BO_Nov2006_df.pkl\")\n",
    "BO_Jun2011 = import_pickle(\"Obama\\\\Obama Speeches Raw\\\\BO_Jun2011_df.pkl\")\n",
    "BO_Oct2011 = import_pickle(\"Obama\\\\Obama Speeches Raw\\\\BO_Oct2011_df.pkl\")"
   ]
  },
  {
   "cell_type": "code",
   "execution_count": 6,
   "metadata": {},
   "outputs": [],
   "source": [
    "GB_Mar2003 = import_pickle(\"Bush\\\\Bush Speeches Raw\\\\GB_Mar2003_df.pkl\")\n",
    "GB_Dec2005 = import_pickle(\"Bush\\\\Bush Speeches Raw\\\\GB_Dec2005_df.pkl\")\n",
    "GB_Nov2002 = import_pickle(\"Bush\\\\Bush Speeches Raw\\\\GB_Nov2002_df.pkl\")\n",
    "GB_Mar2008 = import_pickle(\"Bush\\\\Bush Speeches Raw\\\\GB_Mar2008_df.pkl\")\n",
    "GB_Jul2004 = import_pickle(\"Bush\\\\Bush Speeches Raw\\\\GB_Jul2004_df.pkl\")\n",
    "GB_Jan2007 = import_pickle(\"Bush\\\\Bush Speeches Raw\\\\GB_Jan2007_df.pkl\")"
   ]
  },
  {
   "cell_type": "markdown",
   "metadata": {},
   "source": [
    "### Add Speech Name, US President and Speech Date as Columns in each df"
   ]
  },
  {
   "cell_type": "code",
   "execution_count": 10,
   "metadata": {},
   "outputs": [],
   "source": [
    "def df_add_cols(df, speech_name, president, speech_date):\n",
    "    df[\"speech\"] = speech_name\n",
    "    df[\"president\"] = president\n",
    "    df[\"speech_date\"] = pd.to_datetime(speech_date)\n",
    "    return df"
   ]
  },
  {
   "cell_type": "code",
   "execution_count": 40,
   "metadata": {},
   "outputs": [],
   "source": [
    "JB_Jul2021 = df_add_cols(\n",
    "    JB_Jul2021, \n",
    "    \"Speech on the Drawdown of US Forces in Afghanistan\",\n",
    "    \"Joe Biden\",\n",
    "    \"07/01/2021\")"
   ]
  },
  {
   "cell_type": "code",
   "execution_count": 41,
   "metadata": {},
   "outputs": [
    {
     "data": {
      "text/html": [
       "<div>\n",
       "<style scoped>\n",
       "    .dataframe tbody tr th:only-of-type {\n",
       "        vertical-align: middle;\n",
       "    }\n",
       "\n",
       "    .dataframe tbody tr th {\n",
       "        vertical-align: top;\n",
       "    }\n",
       "\n",
       "    .dataframe thead th {\n",
       "        text-align: right;\n",
       "    }\n",
       "</style>\n",
       "<table border=\"1\" class=\"dataframe\">\n",
       "  <thead>\n",
       "    <tr style=\"text-align: right;\">\n",
       "      <th></th>\n",
       "      <th>sentence</th>\n",
       "      <th>speech</th>\n",
       "      <th>president</th>\n",
       "      <th>speech_date</th>\n",
       "    </tr>\n",
       "  </thead>\n",
       "  <tbody>\n",
       "    <tr>\n",
       "      <th>0</th>\n",
       "      <td>Good afternoon.</td>\n",
       "      <td>Speech on the Drawdown of US Forces in Afghani...</td>\n",
       "      <td>Joe Biden</td>\n",
       "      <td>2021-07-01</td>\n",
       "    </tr>\n",
       "    <tr>\n",
       "      <th>1</th>\n",
       "      <td>Earlier today, I was briefed by our senior mil...</td>\n",
       "      <td>Speech on the Drawdown of US Forces in Afghani...</td>\n",
       "      <td>Joe Biden</td>\n",
       "      <td>2021-07-01</td>\n",
       "    </tr>\n",
       "    <tr>\n",
       "      <th>2</th>\n",
       "      <td>When I announced our drawdown in April, I said...</td>\n",
       "      <td>Speech on the Drawdown of US Forces in Afghani...</td>\n",
       "      <td>Joe Biden</td>\n",
       "      <td>2021-07-01</td>\n",
       "    </tr>\n",
       "    <tr>\n",
       "      <th>3</th>\n",
       "      <td>Our military mission in Afghanistan will concl...</td>\n",
       "      <td>Speech on the Drawdown of US Forces in Afghani...</td>\n",
       "      <td>Joe Biden</td>\n",
       "      <td>2021-07-01</td>\n",
       "    </tr>\n",
       "    <tr>\n",
       "      <th>4</th>\n",
       "      <td>The drawdown is proceeding in a secure and ord...</td>\n",
       "      <td>Speech on the Drawdown of US Forces in Afghani...</td>\n",
       "      <td>Joe Biden</td>\n",
       "      <td>2021-07-01</td>\n",
       "    </tr>\n",
       "    <tr>\n",
       "      <th>...</th>\n",
       "      <td>...</td>\n",
       "      <td>...</td>\n",
       "      <td>...</td>\n",
       "      <td>...</td>\n",
       "    </tr>\n",
       "    <tr>\n",
       "      <th>87</th>\n",
       "      <td>I want to honor the significance of what they’...</td>\n",
       "      <td>Speech on the Drawdown of US Forces in Afghani...</td>\n",
       "      <td>Joe Biden</td>\n",
       "      <td>2021-07-01</td>\n",
       "    </tr>\n",
       "    <tr>\n",
       "      <th>88</th>\n",
       "      <td>I want to thank you all for your service and t...</td>\n",
       "      <td>Speech on the Drawdown of US Forces in Afghani...</td>\n",
       "      <td>Joe Biden</td>\n",
       "      <td>2021-07-01</td>\n",
       "    </tr>\n",
       "    <tr>\n",
       "      <th>89</th>\n",
       "      <td>We’ll never forget those who gave the last ful...</td>\n",
       "      <td>Speech on the Drawdown of US Forces in Afghani...</td>\n",
       "      <td>Joe Biden</td>\n",
       "      <td>2021-07-01</td>\n",
       "    </tr>\n",
       "    <tr>\n",
       "      <th>90</th>\n",
       "      <td>We’re ending America’s longest war, but we’ll ...</td>\n",
       "      <td>Speech on the Drawdown of US Forces in Afghani...</td>\n",
       "      <td>Joe Biden</td>\n",
       "      <td>2021-07-01</td>\n",
       "    </tr>\n",
       "    <tr>\n",
       "      <th>91</th>\n",
       "      <td>May God bless you all, and may God protect our...</td>\n",
       "      <td>Speech on the Drawdown of US Forces in Afghani...</td>\n",
       "      <td>Joe Biden</td>\n",
       "      <td>2021-07-01</td>\n",
       "    </tr>\n",
       "  </tbody>\n",
       "</table>\n",
       "<p>92 rows × 4 columns</p>\n",
       "</div>"
      ],
      "text/plain": [
       "                                             sentence  \\\n",
       "0                                     Good afternoon.   \n",
       "1   Earlier today, I was briefed by our senior mil...   \n",
       "2   When I announced our drawdown in April, I said...   \n",
       "3   Our military mission in Afghanistan will concl...   \n",
       "4   The drawdown is proceeding in a secure and ord...   \n",
       "..                                                ...   \n",
       "87  I want to honor the significance of what they’...   \n",
       "88  I want to thank you all for your service and t...   \n",
       "89  We’ll never forget those who gave the last ful...   \n",
       "90  We’re ending America’s longest war, but we’ll ...   \n",
       "91  May God bless you all, and may God protect our...   \n",
       "\n",
       "                                               speech  president speech_date  \n",
       "0   Speech on the Drawdown of US Forces in Afghani...  Joe Biden  2021-07-01  \n",
       "1   Speech on the Drawdown of US Forces in Afghani...  Joe Biden  2021-07-01  \n",
       "2   Speech on the Drawdown of US Forces in Afghani...  Joe Biden  2021-07-01  \n",
       "3   Speech on the Drawdown of US Forces in Afghani...  Joe Biden  2021-07-01  \n",
       "4   Speech on the Drawdown of US Forces in Afghani...  Joe Biden  2021-07-01  \n",
       "..                                                ...        ...         ...  \n",
       "87  Speech on the Drawdown of US Forces in Afghani...  Joe Biden  2021-07-01  \n",
       "88  Speech on the Drawdown of US Forces in Afghani...  Joe Biden  2021-07-01  \n",
       "89  Speech on the Drawdown of US Forces in Afghani...  Joe Biden  2021-07-01  \n",
       "90  Speech on the Drawdown of US Forces in Afghani...  Joe Biden  2021-07-01  \n",
       "91  Speech on the Drawdown of US Forces in Afghani...  Joe Biden  2021-07-01  \n",
       "\n",
       "[92 rows x 4 columns]"
      ]
     },
     "execution_count": 41,
     "metadata": {},
     "output_type": "execute_result"
    }
   ],
   "source": [
    "JB_Jul2021"
   ]
  },
  {
   "cell_type": "code",
   "execution_count": 32,
   "metadata": {},
   "outputs": [],
   "source": [
    "JB_Aug2021 = df_add_cols(\n",
    "    JB_Aug2021, \n",
    "    \"Remarks on Situation in Afghansitan\",\n",
    "    \"Joe Biden\",\n",
    "    \"08/01/2021\")"
   ]
  },
  {
   "cell_type": "code",
   "execution_count": 33,
   "metadata": {},
   "outputs": [],
   "source": [
    "JB_Aug2021_2 = df_add_cols(\n",
    "    JB_Aug2021_2, \n",
    "    \"Statement on Terror Attacks in Afghanistan\",\n",
    "    \"Joe Biden\",\n",
    "    \"08/01/2021\")"
   ]
  },
  {
   "cell_type": "code",
   "execution_count": 34,
   "metadata": {},
   "outputs": [],
   "source": [
    "DT_Dec2017 = df_add_cols(\n",
    "    DT_Dec2017, \n",
    "    \"Remarks on National Security Strategy\",\n",
    "    \"Donald Trump\",\n",
    "    \"12/01/2017\")"
   ]
  },
  {
   "cell_type": "code",
   "execution_count": 35,
   "metadata": {},
   "outputs": [],
   "source": [
    "DT_Oct2019 = df_add_cols(\n",
    "    DT_Oct2019, \n",
    "    \"Statement on the Death of Abu Bakr al-Baghdadi\",\n",
    "    \"Donald Trump\",\n",
    "    \"10/01/2019\")"
   ]
  },
  {
   "cell_type": "code",
   "execution_count": 43,
   "metadata": {},
   "outputs": [],
   "source": [
    "DT_Jan2020 = df_add_cols(\n",
    "    DT_Jan2020, \n",
    "    \"Statement on Iran\",\n",
    "    \"Donald Trump\",\n",
    "    \"01/01/2020\")"
   ]
  },
  {
   "cell_type": "code",
   "execution_count": null,
   "metadata": {},
   "outputs": [],
   "source": []
  },
  {
   "cell_type": "code",
   "execution_count": null,
   "metadata": {},
   "outputs": [],
   "source": []
  },
  {
   "cell_type": "markdown",
   "metadata": {},
   "source": [
    "### Combine the Dataframes into one"
   ]
  },
  {
   "cell_type": "code",
   "execution_count": 7,
   "metadata": {},
   "outputs": [],
   "source": [
    "speech_documents = pd.concat([JB_Jul2021, JB_Aug2021, JB_Aug2021_2, \n",
    "                              DT_Dec2017, DT_Jan2020, DT_Oct2019, \n",
    "                              BO_Aug2014, BO_Dec2009, BO_Oct2011, BO_Jun2011, BO_May2011, BO_Nov2006,\n",
    "                              GB_Mar2003, GB_Nov2002, GB_Jan2007, GB_Mar2008, GB_Dec2005, GB_Jul2004], \n",
    "                            axis=0)"
   ]
  },
  {
   "cell_type": "code",
   "execution_count": 8,
   "metadata": {},
   "outputs": [
    {
     "data": {
      "text/html": [
       "<div>\n",
       "<style scoped>\n",
       "    .dataframe tbody tr th:only-of-type {\n",
       "        vertical-align: middle;\n",
       "    }\n",
       "\n",
       "    .dataframe tbody tr th {\n",
       "        vertical-align: top;\n",
       "    }\n",
       "\n",
       "    .dataframe thead th {\n",
       "        text-align: right;\n",
       "    }\n",
       "</style>\n",
       "<table border=\"1\" class=\"dataframe\">\n",
       "  <thead>\n",
       "    <tr style=\"text-align: right;\">\n",
       "      <th></th>\n",
       "      <th>sentence</th>\n",
       "    </tr>\n",
       "  </thead>\n",
       "  <tbody>\n",
       "    <tr>\n",
       "      <th>0</th>\n",
       "      <td>Good afternoon.</td>\n",
       "    </tr>\n",
       "    <tr>\n",
       "      <th>1</th>\n",
       "      <td>Earlier today, I was briefed by our senior mil...</td>\n",
       "    </tr>\n",
       "    <tr>\n",
       "      <th>2</th>\n",
       "      <td>When I announced our drawdown in April, I said...</td>\n",
       "    </tr>\n",
       "    <tr>\n",
       "      <th>3</th>\n",
       "      <td>Our military mission in Afghanistan will concl...</td>\n",
       "    </tr>\n",
       "    <tr>\n",
       "      <th>4</th>\n",
       "      <td>The drawdown is proceeding in a secure and ord...</td>\n",
       "    </tr>\n",
       "    <tr>\n",
       "      <th>...</th>\n",
       "      <td>...</td>\n",
       "    </tr>\n",
       "    <tr>\n",
       "      <th>161</th>\n",
       "      <td>You'll serve your country and our values.</td>\n",
       "    </tr>\n",
       "    <tr>\n",
       "      <th>162</th>\n",
       "      <td>You'll protect your fellow citizens.</td>\n",
       "    </tr>\n",
       "    <tr>\n",
       "      <th>163</th>\n",
       "      <td>And, by your effort and example, you will adva...</td>\n",
       "    </tr>\n",
       "    <tr>\n",
       "      <th>164</th>\n",
       "      <td>And so I'm here to thank you for your commitme...</td>\n",
       "    </tr>\n",
       "    <tr>\n",
       "      <th>165</th>\n",
       "      <td>May God bless you all, and may God bless America.</td>\n",
       "    </tr>\n",
       "  </tbody>\n",
       "</table>\n",
       "<p>2293 rows × 1 columns</p>\n",
       "</div>"
      ],
      "text/plain": [
       "                                              sentence\n",
       "0                                      Good afternoon.\n",
       "1    Earlier today, I was briefed by our senior mil...\n",
       "2    When I announced our drawdown in April, I said...\n",
       "3    Our military mission in Afghanistan will concl...\n",
       "4    The drawdown is proceeding in a secure and ord...\n",
       "..                                                 ...\n",
       "161          You'll serve your country and our values.\n",
       "162               You'll protect your fellow citizens.\n",
       "163  And, by your effort and example, you will adva...\n",
       "164  And so I'm here to thank you for your commitme...\n",
       "165  May God bless you all, and may God bless America.\n",
       "\n",
       "[2293 rows x 1 columns]"
      ]
     },
     "execution_count": 8,
     "metadata": {},
     "output_type": "execute_result"
    }
   ],
   "source": [
    "speech_documents"
   ]
  },
  {
   "cell_type": "code",
   "execution_count": 9,
   "metadata": {},
   "outputs": [
    {
     "data": {
      "text/plain": [
       "'c:\\\\Users\\\\User\\\\OneDrive\\\\Documents\\\\GitHub\\\\NLP\\\\US Presedential Speeches\\\\Data Collection'"
      ]
     },
     "execution_count": 9,
     "metadata": {},
     "output_type": "execute_result"
    }
   ],
   "source": [
    "os.getcwd()"
   ]
  },
  {
   "cell_type": "code",
   "execution_count": 10,
   "metadata": {},
   "outputs": [],
   "source": [
    "speech_documents.to_pickle(\"c:\\\\Users\\\\User\\\\OneDrive\\\\Documents\\\\GitHub\\\\NLP\\\\US Presedential Speeches\\\\Topic Modelling//speech_documents.pkl\")"
   ]
  },
  {
   "cell_type": "markdown",
   "metadata": {},
   "source": [
    "---"
   ]
  }
 ],
 "metadata": {
  "kernelspec": {
   "display_name": "rainbow",
   "language": "python",
   "name": "python3"
  },
  "language_info": {
   "codemirror_mode": {
    "name": "ipython",
    "version": 3
   },
   "file_extension": ".py",
   "mimetype": "text/x-python",
   "name": "python",
   "nbconvert_exporter": "python",
   "pygments_lexer": "ipython3",
   "version": "3.10.12"
  },
  "orig_nbformat": 4
 },
 "nbformat": 4,
 "nbformat_minor": 2
}
