{
 "cells": [
  {
   "cell_type": "markdown",
   "metadata": {},
   "source": [
    "# Trump Speech Gathering"
   ]
  },
  {
   "cell_type": "code",
   "execution_count": 2,
   "metadata": {},
   "outputs": [
    {
     "name": "stderr",
     "output_type": "stream",
     "text": [
      "c:\\Users\\User\\miniconda3\\envs\\rainbow\\lib\\site-packages\\tqdm\\auto.py:21: TqdmWarning: IProgress not found. Please update jupyter and ipywidgets. See https://ipywidgets.readthedocs.io/en/stable/user_install.html\n",
      "  from .autonotebook import tqdm as notebook_tqdm\n"
     ]
    }
   ],
   "source": [
    "import functions"
   ]
  },
  {
   "cell_type": "markdown",
   "metadata": {},
   "source": [
    "## Data Collection"
   ]
  },
  {
   "cell_type": "code",
   "execution_count": 3,
   "metadata": {},
   "outputs": [],
   "source": [
    "import requests\n",
    "from bs4 import BeautifulSoup"
   ]
  },
  {
   "cell_type": "markdown",
   "metadata": {},
   "source": [
    "### Trump - Remarks on National Security Strategy: 18 December 2017"
   ]
  },
  {
   "cell_type": "code",
   "execution_count": 4,
   "metadata": {},
   "outputs": [],
   "source": [
    "transcript_url = \"https://millercenter.org/the-presidency/presidential-speeches/december-18-2017-remarks-national-security-strategy\"\n",
    "response = requests.get(transcript_url)\n",
    "soup = BeautifulSoup(response.content, 'html.parser')"
   ]
  },
  {
   "cell_type": "code",
   "execution_count": 13,
   "metadata": {},
   "outputs": [
    {
     "name": "stdout",
     "output_type": "stream",
     "text": [
      "\n",
      "Transcript\n",
      "THE PRESIDENT: Thank you very much. Thank you. Please. I want to thank Vice President Pence, along with the many members of my Cabinet here with us today.\n",
      "I also want to thank all of the dedicated professionals—military, civilian, and law enforcement—who devote their lives to serving our nation. In particular, I want to recognize General Dunford and the members of the Joint Chiefs of Staff. Thank you, thank you, thank you. (Applause.)\n",
      "In addition, we are honored to be joined by House Majority Leader Kevin McCarthy, Homeland Security Chairman Mike McCaul, and Senate Majority Whip John Cornyn. Thank you very much. Thank you for being here. Thank you. Thank you. (Applause.)\n",
      "Let me begin by expressing our deepest sympathies and most heartfelt prayers for the victims of the train derailment in Washington State. We are closely monitoring the situation and coordinating with local authorities. It is all the more reason why we must start immediately fixing the infrastructure of the United States.\n",
      "We’re here today to discuss matters of vital importance to us all: America’s security, prosperity, and standing in the world. I want to talk about where we’ve been, where we are now, and, finally, our strategy for where we are going in the years ahead.\n",
      "Over the past 11 months, I have traveled tens of thousands of miles to visit 13 countries. I have met with more than 100 world leaders. I have carried America’s message to a grand hall in Saudi Arabia, a great square in Warsaw, to the General Assembly of the United Nations, and to the seat of democracy on the Korean Peninsula. Everywhere I traveled, it was my highest privilege and greatest honor to represent the American people.\n",
      "Throughout our history, the American people have always been the true source of American greatness. Our people have promoted our culture and promoted our values. Americans have fought and sacrificed on the battlefields all over the world. We have liberated captive nations, transformed former enemies into the best of friends, and lifted entire regions of the planet from poverty to prosperity.\n",
      "Because of our people, America has been among the greatest forces for peace and justice in the history of the world. The American people are generous. You are determined, you are brave, you are strong, and you are wise.\n",
      "When the American people speak, all of us should listen. And just over one year ago, you spoke loud and you spoke clear. On November 8, 2016, you voted to make America great again. (Applause.) You embraced new leadership and very new strategies, and also a glorious new hope. That is why we are here today.\n",
      "But to seize the opportunities of the future, we must first understand the failures of the past. For many years, our citizens watched as Washington politicians presided over one disappointment after another. To many of our leaders—so many who forgot whose voices they were to respect and whose interests they were supposed to defend—our leaders in Washington negotiated disastrous trade deals that brought massive profits to many foreign nations, but sent thousands of American factories, and millions of American jobs, to those other countries.\n",
      "Our leaders engaged in nation-building abroad, while they failed to build up and replenish our nation at home. They undercut and shortchanged our men and women in uniform with inadequate resources, unstable funding, and unclear missions. They failed to insist that our often very wealthy allies pay their fair share for defense, putting a massive and unfair burden on the U.S. taxpayer and our great U.S. military.\n",
      "They neglected a nuclear menace in North Korea; made a disastrous, weak, and incomprehensibly bad deal with Iran; and allowed terrorists such as ISIS to gain control of vast parts of territory all across the Middle East.\n",
      "They put American energy under lock and key. They imposed punishing regulations and crippling taxes. They surrendered our sovereignty to foreign bureaucrats in faraway and distant capitals.\n",
      "And over the profound objections of the American people, our politicians left our borders wide open. Millions of immigrants entered illegally. Millions more were admitted into our country without the proper vetting needed to protect our security and our economy. Leaders in Washington imposed on the country an immigration policy that Americans never voted for, never asked for, and never approved—a policy where the wrong people are allowed into our country and the right people are rejected. American citizens, as usual, have been left to bear the cost and to pick up the tab.\n",
      "On top of everything else, our leaders drifted from American principles. They lost sight of America’s destiny. And they lost their belief in American greatness. As a result, our citizens lost something as well. The people lost confidence in their government and, eventually, even lost confidence in their future.\n",
      "But last year, all of that began to change. The American people rejected the failures of the past. You rediscovered your voice and reclaimed ownership of this nation and its destiny.\n",
      "On January 20th, 2017, I stood on the steps of the Capitol to herald the day the people became the rulers of their nation again. (Applause.) Thank you. Now, less than one year later, I am proud to report that the entire world has heard the news and has already seen the signs. America is coming back, and America is coming back strong.\n",
      "Upon my inauguration, I announced that the United States would return to a simple principle: The first duty of our government is to serve its citizens, many of whom have been forgotten. But they are not forgotten anymore. With every decision and every action, we are now putting America first.\n",
      "We are rebuilding our nation, our confidence, and our standing in the world. We have moved swiftly to confront our challenges, and we have confronted them head-on.\n",
      "We are once again investing in our defense—almost $700 billion, a record, this coming year. We are demanding extraordinary strength, which will hopefully lead to long and extraordinary peace. We are giving our courageous military men and women the support they need and so dearly deserve.\n",
      "We have withdrawn the United States from job-killing deals such as the Trans-Pacific Partnership and the very expensive and unfair Paris Climate Accord. And on our trip to Asia last month, I announced that we will no longer tolerate trading abuse.\n",
      "We have established strict new vetting procedures to keep terrorists out of the United States, and our vetting is getting tougher each month.\n",
      "To counter Iran and block its path to a nuclear weapon, I sanctioned the Islamic Revolutionary Guard Corps for its support of terrorism, and I declined to certify the Iran Deal to Congress.\n",
      "Following my trip to the Middle East, the Gulf states and other Muslim-majority nations joined together to fight radical Islamist ideology and terrorist financing. We have dealt ISIS one devastating defeat after another. The coalition to defeat ISIS has now recaptured almost 100 percent of the land once held by these terrorists in Iraq and Syria. Great job. (Applause.) Great job. Really good. Thank you. Thank you. We have a great military. We’re now chasing them wherever they flee, and we will not let them into the United States.\n",
      "In Afghanistan, our troops are no longer undermined by artificial timelines, and we no longer tell our enemies of our plans. We are beginning to see results on the battlefield. And we have made clear to Pakistan that while we desire continued partnership, we must see decisive action against terrorist groups operating on their territory. And we make massive payments every year to Pakistan. They have to help.\n",
      "Our efforts to strengthen the NATO Alliance set the stage for significant increases in member contributions, with tens of billions of dollars more pouring in because I would not allow member states to be delinquent in the payment while we guarantee their safety and are willing to fight wars for them. We have made clear that countries that are immensely wealthy should reimburse the United States for the cost of defending them. This is a major departure from the past, but a fair and necessary one—necessary for our country, necessary for our taxpayer, necessary for our own thought process.\n",
      "Our campaign of maximum pressure on the North Korean regime has resulted in the toughest-ever sanctions. We have united our allies in an unprecedented effort to isolate North Korea. However, there is much more work to do. America and its allies will take all necessary steps to achieve a denuclearization and ensure that this regime cannot threaten the world. (Applause.) Thank you. This situation should have been taken care of long before I got into office, when it was much easier to handle. But it will be taken care of. We have no choice.\n",
      "At home, we are keeping our promises and liberating the American economy. We have created more than 2 million jobs since the election. Unemployment is at a 17-year-low. The stock market is at an all-time high and, just a little while ago, hit yet another all-time high—the 85th time since my election. (Applause.)\n",
      "We have cut 22 regulations for every one new regulation, the most in the history of our country. We have unlocked America’s vast energy resources.\n",
      "As the world watches—and the world is indeed watching—we are days away from passing historic tax cuts for American families and businesses. It will be the biggest tax cut and tax reform in the history of our country. (Applause.) Thank you. Thank you. Thank you.\n",
      "And we are seeing the response we fully expected. Economic growth has topped 3 percent for two quarters in a row. GDP growth, which is way ahead of schedule under my administration, will be one of America’s truly greatest weapons.\n",
      "Optimism has surged. Confidence has returned. With this new confidence, we are also bringing back clarity to our thinking. We are reasserting these fundamental truths:\n",
      "A nation without borders is not a nation. (Applause.)\n",
      "A nation that does not protect prosperity at home cannot protect its interests abroad.\n",
      "A nation that is not prepared to win a war is a nation not capable of preventing a war.\n",
      "A nation that is not proud of its history cannot be confident in its future.\n",
      "And a nation that is not certain of its values cannot summon the will to defend them.\n",
      "Today, grounded in these truths, we are presenting to the world our new National Security Strategy. Based on my direction, this document has been in development for over a year. It has the endorsement of my entire Cabinet.\n",
      "Our new strategy is based on a principled realism, guided by our vital national interests, and rooted in our timeless values.\n",
      "This strategy recognizes that, whether we like it or not, we are engaged in a new era of competition. We accept that vigorous military, economic, and political contests are now playing out all around the world.\n",
      "We face rogue regimes that threaten the United States and our allies. We face terrorist organizations, transnational criminal networks, and others who spread violence and evil around the globe.\n",
      "We also face rival powers, Russia and China, that seek to challenge American influence, values, and wealth. We will attempt to build a great partnership with those and other countries, but in a manner that always protects our national interest.\n",
      "As an example, yesterday I received a call from President Putin of Russia thanking our country for the intelligence that our CIA was able to provide them concerning a major terrorist attack planned in St. Petersburg, where many people, perhaps in the thousands, could have been killed. They were able to apprehend these terrorists before the event, with no loss of life. And that’s a great thing, and the way it’s supposed to work. That is the way it’s supposed to work.\n",
      "But while we seek such opportunities of cooperation, we will stand up for ourselves, and we will stand up for our country like we have never stood up before. (Applause.) Thank you. Thank you. Thank you.\n",
      "We know that American success is not a forgone conclusion. It must be earned and it must be won. Our rivals are tough, they’re tenacious, and committed to the long term. But so are we.\n",
      "To succeed, we must integrate every dimension of our national strength, and we must compete with every instrument of our national power.\n",
      "Under the Trump administration, America is gaining wealth, leading to enhanced power—faster than anyone thought—with $6 trillion more in the stock market alone since the election—$6 trillion.\n",
      "With the strategy I am announcing today, we are declaring that America is in the game and America is going to win. (Applause.) Thank you.\n",
      "Our strategy advances four vital national interests. First, we must protect the American people, the homeland, and our great American way of life. This strategy recognizes that we cannot secure our nation if we do not secure our borders. So for the first time ever, American strategy now includes a serious plan to defend our homeland. It calls for the construction of a wall on our southern border; ending chain migration and the horrible visa and lottery programs; closing loopholes that undermine enforcement; and strongly supporting our Border Patrol agents, ICE officers, and Homeland Security personnel. (Applause.)\n",
      "In addition, our strategy calls for us to confront, discredit, and defeat radical Islamic terrorism and ideology and to prevent it from spreading into the United States. And we will develop new ways to counter those who use new domains, such as cyber and social media, to attack our nation or threaten our society.\n",
      "The second pillar of our strategy is to promote American prosperity. For the first time, American strategy recognizes that economic security is national security. Economic vitality, growth, and prosperity at home is absolutely necessary for American power and influence abroad. Any nation that trades away its prosperity for security will end up losing both.\n",
      "That is why this National Security Strategy emphasizes, more than any before, the critical steps we must take to ensure the prosperity of our nation for a long, long time to come.\n",
      "It calls for cutting taxes and rolling back unnecessary regulations. It calls for trade based on the principles of fairness and reciprocity. It calls for firm action against unfair trade practices and intellectual property theft. And it calls for new steps to protect our national security industrial and innovation base.\n",
      "The strategy proposes a complete rebuilding of American infrastructure—our roads, bridges, airports, waterways, and communications infrastructure. And it embraces a future of American energy dominance and self-sufficiency.\n",
      "The third pillar of our strategy is to preserve peace through strength. (Applause.) We recognize that weakness is the surest path to conflict, and unrivaled power is the most certain means of defense. For this reason, our strategy breaks from the damaging defense sequester. We’re going to get rid of that. (Applause.)\n",
      "It calls for a total modernization of our military, and reversing previous decisions to shrink our armed forces—even as threats to national security grew. It calls for streamlining acquisition, eliminating bloated bureaucracy, and massively building up our military, which has the fundamental side benefit of creating millions and millions of jobs.\n",
      "This strategy includes plans to counter modern threats, such as cyber and electromagnetic attacks. It recognizes space as a competitive domain and calls for multi-layered missile defense. (Applause.) This strategy outlines important steps to address new forms of conflict such as economic and political aggression.\n",
      "And our strategy emphasizes strengthening alliances to cope with these threats. It recognizes that our strength is magnified by allies who share principles—and our principles—and shoulder their fair share of responsibility for our common security.\n",
      "Fourth and finally, our strategy is to advance American influence in the world, but this begins with building up our wealth and power at home.\n",
      "America will lead again. We do not seek to impose our way of life on anyone, but we will champion the values without apology. We want strong alliances and partnerships based on cooperation and reciprocity. We will make new partnerships with those who share our goals, and make common interests into a common cause. We will not allow inflexible ideology to become an obsolete and obstacle to peace.\n",
      "We will pursue the vision we have carried around the world over this past year—a vision of strong, sovereign, and independent nations that respect their citizens and respect their neighbors; nations that thrive in commerce and cooperation, rooted in their histories and branching out toward their destinies.\n",
      "That is the future we wish for this world, and that is the future we seek in America. (Applause.)\n",
      "With this strategy, we are calling for a great reawakening of America, a resurgence of confidence, and a rebirth of patriotism, prosperity, and pride.\n",
      "And we are returning to the wisdom of our founders. In America, the people govern, the people rule, and the people are sovereign. What we have built here in America is precious and unique. In all of history, never before has freedom reigned, the rule of law prevailed, and the people thrived as we have here for nearly 250 years.\n",
      "We must love and defend it. We must guard it with vigilance and spirit, and, if necessary, like so many before us, with our very lives. And we declare that our will is renewed, our future is regained, and our dreams are restored.\n",
      "Every American has a role to play in this grand national effort. And today, I invite every citizen to take their part in our vital mission. Together, our task is to strengthen our families, to build up our communities, to serve our citizens, and to celebrate American greatness as a shining example to the world.\n",
      "As long as we are proud—and very proud—of who we are, how we got here, and what we are fighting for to preserve, we will not fail.\n",
      "If we do all of this, if we rediscover our resolve and commit ourselves to compete and win again, then together we will leave our children and our grandchildren a nation that is stronger, better, freer, prouder, and, yes, an America that is greater than ever before.\n",
      "God Bless You. Thank you very much. Thank you. (Applause.)\n",
      "\n"
     ]
    }
   ],
   "source": [
    "target_div = soup.find('div', class_='transcript-inner')\n",
    "if target_div:\n",
    "    text_inside_div = str(target_div.text)\n",
    "print(text_inside_div)\n"
   ]
  },
  {
   "cell_type": "code",
   "execution_count": 16,
   "metadata": {},
   "outputs": [
    {
     "name": "stdout",
     "output_type": "stream",
     "text": [
      "27\n",
      "18324\n"
     ]
    }
   ],
   "source": [
    "start_substring = 'Thank you very much. Thank you. Please.'\n",
    "end_substring = 'God Bless You. Thank you very much. Thank you.'\n",
    "\n",
    "end_index_startsub = text_inside_div.find(start_substring)\n",
    "end_index_speech = text_inside_div.find(end_substring) + len(end_substring) \n",
    "\n",
    "print(end_index_startsub)\n",
    "print(end_index_speech)\n"
   ]
  },
  {
   "cell_type": "code",
   "execution_count": 46,
   "metadata": {},
   "outputs": [],
   "source": [
    "transcript = text_inside_div[27:18324]\n",
    "transcript = transcript.replace(\"(Applause.)\",\"\")\n",
    "DT_Dec2017 = transcript\n",
    "DT_Dec2017 = DT_Dec2017.replace(\"\\n\",\"\")"
   ]
  },
  {
   "cell_type": "markdown",
   "metadata": {},
   "source": [
    "### Trump - Statement on the Death of Abu Bakr al-Baghdadi: 27 October 2019"
   ]
  },
  {
   "cell_type": "code",
   "execution_count": 21,
   "metadata": {},
   "outputs": [],
   "source": [
    "transcript_url = \"https://millercenter.org/the-presidency/presidential-speeches/october-27-2019-statement-death-abu-bakr-al-baghdadi\"\n",
    "response = requests.get(transcript_url)\n",
    "soup = BeautifulSoup(response.content, 'html.parser')"
   ]
  },
  {
   "cell_type": "code",
   "execution_count": 27,
   "metadata": {},
   "outputs": [
    {
     "name": "stdout",
     "output_type": "stream",
     "text": [
      "\n",
      "Transcript\n",
      "Last night, the United States brought the world’s number one terrorist leader to justice. Abu Bakr al-Baghdadi is dead.  He was the founder and leader of ISIS, the most ruthless and violent terror organization in the World.  The United States has been searching for Baghdadi for many years.  Capturing or killing Baghdadi has been the top national security priority of my Administration.  U.S. Special Operations forces executed a dangerous and daring nighttime raid into Northwestern Syria to accomplish this mission.\n",
      "No U.S. personnel were lost in the operation, while a large number of Baghdadi’s fighters and companions were killed with him.  He died after running into a dead-end tunnel, whimpering and crying and screaming.  The compound had been cleared by this time, with people either surrendering or being shot and killed.  Eleven young children were moved out of the house un-injured.  The only ones remaining were Baghdadi in the tunnel, who had dragged three children with him to certain death.  He reached the end of the tunnel, as our dogs chased him down. He ignited his vest, killing himself and the three children.  His body was mutilated by the blast, but test results gave certain and positive identification.\n",
      "The thug who tried so hard to intimidate others spent his last moments in utter fear, panic and dread – terrified of the American Forces bearing down.\n",
      "We were in the compound for approximately 2 hours, and after the mission was accomplished we took highly sensitive material and information from the raid.\n",
      "Baghdadi’s demise demonstrates America’s relentless pursuit of terrorist leaders, and our commitment to the enduring and total defeat of ISIS!\n",
      "The reach of America is long.  As you know, last month we announced that we recently killed Hamza Bin Laden, the very violent son of Osama Bin Laden, who was saying very bad things.\n",
      "He was the heir apparent to Al Qaeda. Terrorists who oppress and murder innocent people should never sleep soundly, knowing that we will completely destroy them. These savage monsters will not escape their fate – and they will not escape the final judgement of God.\n",
      "Baghdadi has been on the run for many years, long before I took office. At my direction, as Commander-in-Chief, the United States obliterated his ‘caliphate’ in March of this year.  Today’s events are another reminder that we will continue to pursue the remaining ISIS terrorists to their brutal end.\n",
      "Baghdadi and the losers who worked with him – in some cases people who had no idea what they were getting into and how dangerous and unglamorous it was – killed many people.  Their murder of innocent Americans Jim Foley, Steven Sotloff, Peter Kassig, and Kayla Mueller were especially heinous.  The shocking publicized murder of a Jordanian pilot who was burned alive in a cage for all to see, and the execution of Christians in Libya and Egypt, as well as the genocidal mass murder of Yazidis, rank ISIS among the most depraved organizations in history.\n",
      "The forced religious conversions, the orange suits prior to many beheadings, all of which were openly displayed for the world – this was all Abu Bakr al-Baghdadi’s work.  He was vicious and violent, and he died in a vicious and violent way, as a coward, running and crying.  This raid was impeccable, and could only have taken place with the acknowledgement and help of certain other nations and people.\n",
      "I want to thank the nations of Russia, Turkey, Syria and Iraq, and I also want to thank the Syrian Kurds for certain support they were able to give us. Thank you as well to the great intelligence professionals who helped make this very successful journey possible.\n",
      "I want to thank the soldiers, sailors, airmen, and marines involved in last night’s operation.  You are the very best there is anywhere in the world.  I want to thank General Mark Milley and our Joint Chiefs of Staff, and I also want to thank our professionals who work in other agencies of the United States government and were critical to the mission’s success.\n",
      "Last night was a great night for the United States and for the World. A brutal killer, one who has caused so much hardship and death, was violently eliminated – he will never again harm another innocent man, woman or child.  He died like a dog.  He died like a coward.  The world is now a much safer place.\n",
      "God bless the United States of America!\n",
      "\n"
     ]
    }
   ],
   "source": [
    "target_div = soup.find('div', class_='transcript-inner')\n",
    "if target_div:\n",
    "    text_inside_div = str(target_div.text)\n",
    "print(text_inside_div)"
   ]
  },
  {
   "cell_type": "code",
   "execution_count": 28,
   "metadata": {},
   "outputs": [
    {
     "name": "stdout",
     "output_type": "stream",
     "text": [
      "12\n",
      "4377\n"
     ]
    }
   ],
   "source": [
    "start_substring = 'Last night, the United States brought'\n",
    "end_substring = 'God bless the United States of America!'\n",
    "\n",
    "end_index_startsub = text_inside_div.find(start_substring)\n",
    "end_index_speech = text_inside_div.find(end_substring) + len(end_substring) \n",
    "\n",
    "print(end_index_startsub)\n",
    "print(end_index_speech)"
   ]
  },
  {
   "cell_type": "code",
   "execution_count": 34,
   "metadata": {},
   "outputs": [],
   "source": [
    "transcript = text_inside_div[12:4377]\n",
    "transcript = transcript.replace(\"\\xa0\",\"\")\n",
    "transcript = transcript.replace(\"\\n\",\"\")\n",
    "DT_Oct2019 = transcript"
   ]
  },
  {
   "cell_type": "markdown",
   "metadata": {},
   "source": [
    "### Trump - Statement on Iran: 8th January 2020"
   ]
  },
  {
   "cell_type": "code",
   "execution_count": 39,
   "metadata": {},
   "outputs": [],
   "source": [
    "transcript_url = \"https://millercenter.org/the-presidency/presidential-speeches/january-8-2020-statement-iran\"\n",
    "response = requests.get(transcript_url)\n",
    "soup = BeautifulSoup(response.content, \"html.parser\")"
   ]
  },
  {
   "cell_type": "code",
   "execution_count": 40,
   "metadata": {},
   "outputs": [
    {
     "name": "stdout",
     "output_type": "stream",
     "text": [
      "\n",
      "Transcript\n",
      "As long as I am President of the United States, Iran will never be allowed to have a nuclear weapon.\n",
      "Good morning. I’m pleased to inform you: The American people should be extremely grateful and happy no Americans were harmed in last night’s attack by the Iranian regime. We suffered no casualties, all of our soldiers are safe, and only minimal damage was sustained at our military bases.\n",
      "Our great American forces are prepared for anything. Iran appears to be standing down, which is a good thing for all parties concerned and a very good thing for the world.\n",
      "No American or Iraqi lives were lost because of the precautions taken, the dispersal of forces, and an early warning system that worked very well. I salute the incredible skill and courage of America’s men and women in uniform.\n",
      "For far too long — all the way back to 1979, to be exact — nations have tolerated Iran’s destructive and destabilizing behavior in the Middle East and beyond. Those days are over. Iran has been the leading sponsor of terrorism, and their pursuit of nuclear weapons threatens the civilized world. We will never let that happen.\n",
      "Last week, we took decisive action to stop a ruthless terrorist from threatening American lives. At my direction, the United States military eliminated the world’s top terrorist, Qasem Soleimani. As the head of the Quds Force, Soleimani was personally responsible for some of the absolutely worst atrocities.\n",
      "He trained terrorist armies, including Hezbollah, launching terrorist strikes against civilian targets. He fueled bloody civil wars all across the region. He viciously wounded and murdered thousands of U.S. troops, including the planting of roadside bombs that maim and dismember their victims.\n",
      "Soleimani directed the recent attacks on US personnel in Iraq that badly wounded four service members and killed one American, and he orchestrated the violent assault on the US embassy in Baghdad. In recent days, he was planning new attacks on American targets, but we stopped him.\n",
      "Soleimani’s hands were drenched in both American and Iranian blood. He should have been terminated long ago. By removing Soleimani, we have sent a powerful message to terrorists: If you value your own life, you will not threaten the lives of our people.\n",
      "As we continue to evaluate options in response to Iranian aggression, the United States will immediately impose additional punishing economic sanctions on the Iranian regime. These powerful sanctions will remain until Iran changes its behavior.\n",
      "In recent months alone, Iran has seized ships in international waters, fired an unprovoked strike on Saudi Arabia, and shot down two US drones.\n",
      "Iran’s hostilities substantially increased after the foolish Iran nuclear deal was signed in 2013, and they were given $150 billion, not to mention $1.8 billion in cash. Instead of saying “thank you” to the United States, they chanted “death to America.” In fact, they chanted “death to America” the day the agreement was signed.\n",
      "Then, Iran went on a terror spree, funded by the money from the deal, and created hell in Yemen, Syria, Lebanon, Afghanistan, and Iraq. The missiles fired last night at us and our allies were paid for with the funds made available by the last administration. The regime also greatly tightened the reins on their own country, even recently killing 1,500 people at the many protests that are taking place all throughout Iran.\n",
      "The very defective JCPOA expires shortly anyway, and gives Iran a clear and quick path to nuclear breakout. Iran must abandon its nuclear ambitions and end its support for terrorism. The time has come for the United Kingdom, Germany, France, Russia, and China to recognize this reality.\n",
      "They must now break away from the remnants of the Iran deal -– or JCPOA –- and we must all work together toward making a deal with Iran that makes the world a safer and more peaceful place. We must also make a deal that allows Iran to thrive and prosper, and take advantage of its enormous untapped potential. Iran can be a great country.\n",
      "Peace and stability cannot prevail in the Middle East as long as Iran continues to foment violence, unrest, hatred, and war. The civilized world must send a clear and unified message to the Iranian regime: Your campaign of terror, murder, mayhem will not be tolerated any longer. It will not be allowed to go forward.\n",
      "Today, I am going to ask NATO to become much more involved in the Middle East process. Over the last three years, under my leadership, our economy is stronger than ever before and America has achieved energy independence. These historic accomplishments changed our strategic priorities. These are accomplishments that nobody thought were possible. And options in the Middle East became available. We are now the number-one producer of oil and natural gas anywhere in the world. We are independent, and we do not need Middle East oil.\n",
      "The American military has been completely rebuilt under my administration, at a cost of $2.5 trillion. US Armed Forces are stronger than ever before. Our missiles are big, powerful, accurate, lethal, and fast. Under construction are many hypersonic missiles.\n",
      "The fact that we have this great military and equipment, however, does not mean we have to use it. We do not want to use it. American strength, both military and economic, is the best deterrent.\n",
      "Three months ago, after destroying 100 percent of ISIS and its territorial caliphate, we killed the savage leader of ISIS, al-Baghdadi, who was responsible for so much death, including the mass beheadings of Christians, Muslims, and all who stood in his way. He was a monster. Al-Baghdadi was trying again to rebuild the ISIS caliphate, and failed.\n",
      "Tens of thousands of ISIS fighters have been killed or captured during my administration. ISIS is a natural enemy of Iran  The destruction of ISIS is good for Iran, and we should work together on this and other shared priorities.\n",
      "Finally, to the people and leaders of Iran: We want you to have a future and a great future — one that you deserve, one of prosperity at home, and harmony with the nations of the world. The United States is ready to embrace peace with all who seek it.\n",
      "I want to thank you, and God bless America.  Thank you very much.  Thank you.  Thank you.\n",
      "\n"
     ]
    }
   ],
   "source": [
    "target_div = soup.find('div', class_=\"transcript-inner\")\n",
    "if target_div:\n",
    "    text_inside_div =  str(target_div.text)\n",
    "print(text_inside_div)"
   ]
  },
  {
   "cell_type": "code",
   "execution_count": 41,
   "metadata": {},
   "outputs": [
    {
     "name": "stdout",
     "output_type": "stream",
     "text": [
      "12\n",
      "6218\n"
     ]
    }
   ],
   "source": [
    "start_substring = \"As long as I am President of the United States\"\n",
    "end_substring = \"I want to thank you, and God bless America.\"\n",
    "\n",
    "end_index_startsub = text_inside_div.find(start_substring)\n",
    "end_index_speech = text_inside_div.find(end_substring) + len(end_substring) \n",
    "\n",
    "print(end_index_startsub)\n",
    "print(end_index_speech)"
   ]
  },
  {
   "cell_type": "code",
   "execution_count": 43,
   "metadata": {},
   "outputs": [],
   "source": [
    "transcript = text_inside_div[12:6218]\n",
    "DT_Jan2020 = transcript"
   ]
  },
  {
   "cell_type": "markdown",
   "metadata": {},
   "source": [
    "## Sentence Tokenization"
   ]
  },
  {
   "cell_type": "code",
   "execution_count": 47,
   "metadata": {},
   "outputs": [],
   "source": [
    "DT_Dec2017_df = functions.transcript_transform(DT_Dec2017)\n",
    "DT_Oct2019_df = functions.transcript_transform(DT_Oct2019)\n",
    "DT_Jan2020_df = functions.transcript_transform(DT_Jan2020)"
   ]
  },
  {
   "cell_type": "code",
   "execution_count": 48,
   "metadata": {},
   "outputs": [
    {
     "data": {
      "text/html": [
       "<div>\n",
       "<style scoped>\n",
       "    .dataframe tbody tr th:only-of-type {\n",
       "        vertical-align: middle;\n",
       "    }\n",
       "\n",
       "    .dataframe tbody tr th {\n",
       "        vertical-align: top;\n",
       "    }\n",
       "\n",
       "    .dataframe thead th {\n",
       "        text-align: right;\n",
       "    }\n",
       "</style>\n",
       "<table border=\"1\" class=\"dataframe\">\n",
       "  <thead>\n",
       "    <tr style=\"text-align: right;\">\n",
       "      <th></th>\n",
       "      <th>sentence</th>\n",
       "    </tr>\n",
       "  </thead>\n",
       "  <tbody>\n",
       "    <tr>\n",
       "      <th>0</th>\n",
       "      <td>President of the United States, Iran will nev...</td>\n",
       "    </tr>\n",
       "    <tr>\n",
       "      <th>1</th>\n",
       "      <td>Good morning.</td>\n",
       "    </tr>\n",
       "    <tr>\n",
       "      <th>2</th>\n",
       "      <td>I’m pleased to inform you: The American people...</td>\n",
       "    </tr>\n",
       "    <tr>\n",
       "      <th>3</th>\n",
       "      <td>We suffered no casualties, all of our soldiers...</td>\n",
       "    </tr>\n",
       "    <tr>\n",
       "      <th>4</th>\n",
       "      <td>Our great American forces are prepared for any...</td>\n",
       "    </tr>\n",
       "  </tbody>\n",
       "</table>\n",
       "</div>"
      ],
      "text/plain": [
       "                                            sentence\n",
       "0   President of the United States, Iran will nev...\n",
       "1                                     Good morning. \n",
       "2  I’m pleased to inform you: The American people...\n",
       "3  We suffered no casualties, all of our soldiers...\n",
       "4  Our great American forces are prepared for any..."
      ]
     },
     "execution_count": 48,
     "metadata": {},
     "output_type": "execute_result"
    }
   ],
   "source": [
    "DT_Dec2017_df.head()"
   ]
  },
  {
   "cell_type": "code",
   "execution_count": 49,
   "metadata": {},
   "outputs": [],
   "source": [
    "DT_Dec2017_df.to_pickle(\"Trump Speeches Raw/DT_Dec2017.pkl\")\n",
    "DT_Oct2019_df.to_pickle(\"Trump Speeches Raw/DT_Oct2019.pkl\")\n",
    "DT_Jan2020_df.to_pickle(\"Trump Speeches Raw/DT_Jan2020.pkl\")"
   ]
  }
 ],
 "metadata": {
  "kernelspec": {
   "display_name": "rainbow",
   "language": "python",
   "name": "python3"
  },
  "language_info": {
   "codemirror_mode": {
    "name": "ipython",
    "version": 3
   },
   "file_extension": ".py",
   "mimetype": "text/x-python",
   "name": "python",
   "nbconvert_exporter": "python",
   "pygments_lexer": "ipython3",
   "version": "3.10.12"
  },
  "orig_nbformat": 4
 },
 "nbformat": 4,
 "nbformat_minor": 2
}
