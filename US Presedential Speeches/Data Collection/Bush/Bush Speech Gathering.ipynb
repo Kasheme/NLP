{
 "cells": [
  {
   "cell_type": "markdown",
   "metadata": {},
   "source": [
    "# Bush Speech Gathering"
   ]
  },
  {
   "cell_type": "markdown",
   "metadata": {},
   "source": [
    "## Data Collection"
   ]
  },
  {
   "cell_type": "code",
   "execution_count": 1,
   "metadata": {},
   "outputs": [],
   "source": [
    "from bs4 import BeautifulSoup\n",
    "import requests"
   ]
  },
  {
   "cell_type": "code",
   "execution_count": 2,
   "metadata": {},
   "outputs": [
    {
     "name": "stderr",
     "output_type": "stream",
     "text": [
      "c:\\Users\\User\\miniconda3\\envs\\rainbow\\lib\\site-packages\\tqdm\\auto.py:21: TqdmWarning: IProgress not found. Please update jupyter and ipywidgets. See https://ipywidgets.readthedocs.io/en/stable/user_install.html\n",
      "  from .autonotebook import tqdm as notebook_tqdm\n"
     ]
    }
   ],
   "source": [
    "# import functions .py script which contains the functions used across all notebooks\n",
    "import functions as fnc"
   ]
  },
  {
   "cell_type": "markdown",
   "metadata": {},
   "source": [
    "### Bush - Address to the Natoion on Iraq: March 17th 2003"
   ]
  },
  {
   "cell_type": "code",
   "execution_count": 3,
   "metadata": {},
   "outputs": [],
   "source": [
    "transcript_url = 'https://millercenter.org/the-presidency/presidential-speeches/march-17-2003-address-nation-iraq'\n",
    "response = requests.get(transcript_url)\n",
    "soup = BeautifulSoup(response.content, 'html.parser')"
   ]
  },
  {
   "cell_type": "code",
   "execution_count": 4,
   "metadata": {},
   "outputs": [
    {
     "name": "stdout",
     "output_type": "stream",
     "text": [
      "\n",
      "Transcript\n",
      "My fellow citizens, events in Iraq have now reached the final days of decision. For more than a decade, the United States and other nations have pursued patient and honorable efforts to disarm the Iraqi regime without war. That regime pledged to reveal and destroy all its weapons of mass destruction as a condition for ending the Persian Gulf War in 1991.\n",
      "Since then, the world has engaged in 12 years of diplomacy. We have passed more than a dozen resolutions in the United Nations Security Council. We have sent hundreds of weapons inspectors to oversee the disarmament of Iraq. Our good faith has not been returned.\n",
      "The Iraqi regime has used diplomacy as a ploy to gain time and advantage. It has uniformly defied Security Council resolutions demanding full disarmament. Over the years, U.N. weapon inspectors have been threatened by Iraqi officials, electronically bugged, and systematically deceived. Peaceful efforts to disarm the Iraqi regime have failed again and again -- because we are not dealing with peaceful men.\n",
      "Intelligence gathered by this and other governments leaves no doubt that the Iraq regime continues to possess and conceal some of the most lethal weapons ever devised. This regime has already used weapons of mass destruction against Iraq's neighbors and against Iraq's people.\n",
      "The regime has a history of reckless aggression in the Middle East. It has a deep hatred of America and our friends. And it has aided, trained and harbored terrorists, including operatives of al Qaeda.\n",
      "The danger is clear: using chemical, biological or, one day, nuclear weapons, obtained with the help of Iraq, the terrorists could fulfill their stated ambitions and kill thousands or hundreds of thousands of innocent people in our country, or any other.\n",
      "The United States and other nations did nothing to deserve or invite this threat. But we will do everything to defeat it. Instead of drifting along toward tragedy, we will set a course toward safety. Before the day of horror can come, before it is too late to act, this danger will be removed.\n",
      "The United States of America has the sovereign authority to use force in assuring its own national security. That duty falls to me, as Commander-in-Chief, by the oath I have sworn, by the oath I will keep.\n",
      "Recognizing the threat to our country, the United States Congress voted overwhelmingly last year to support the use of force against Iraq. America tried to work with the United Nations to address this threat because we wanted to resolve the issue peacefully. We believe in the mission of the United Nations. One reason the U.N. was founded after the second world war was to confront aggressive dictators, actively and early, before they can attack the innocent and destroy the peace.\n",
      "In the case of Iraq, the Security Council did act, in the early 1990s. Under Resolutions 678 and 687 -- both still in effect -- the United States and our allies are authorized to use force in ridding Iraq of weapons of mass destruction. This is not a question of authority, it is a question of will.\n",
      "Last September, I went to the U.N. General Assembly and urged the nations of the world to unite and bring an end to this danger. On November 8th, the Security Council unanimously passed Resolution 1441, finding Iraq in material breach of its obligations, and vowing serious consequences if Iraq did not fully and immediately disarm.\n",
      "Today, no nation can possibly claim that Iraq has disarmed. And it will not disarm so long as Saddam Hussein holds power. For the last four-and-a-half months, the United States and our allies have worked within the Security Council to enforce that Council's long-standing demands. Yet, some permanent members of the Security Council have publicly announced they will veto any resolution that compels the disarmament of Iraq. These governments share our assessment of the danger, but not our resolve to meet it. Many nations, however, do have the resolve and fortitude to act against this threat to peace, and a broad coalition is now gathering to enforce the just demands of the world. The United Nations Security Council has not lived up to its responsibilities, so we will rise to ours.\n",
      "In recent days, some governments in the Middle East have been doing their part. They have delivered public and private messages urging the dictator to leave Iraq, so that disarmament can proceed peacefully. He has thus far refused. All the decades of deceit and cruelty have now reached an end. Saddam Hussein and his sons must leave Iraq within 48 hours. Their refusal to do so will result in military conflict, commenced at a time of our choosing. For their own safety, all foreign nationals -- including journalists and inspectors -- should leave Iraq immediately.\n",
      "Many Iraqis can hear me tonight in a translated radio broadcast, and I have a message for them. If we must begin a military campaign, it will be directed against the lawless men who rule your country and not against you. As our coalition takes away their power, we will deliver the food and medicine you need. We will tear down the apparatus of terror and we will help you to build a new Iraq that is prosperous and free. In a free Iraq, there will be no more wars of aggression against your neighbors, no more poison factories, no more executions of dissidents, no more torture chambers and rape rooms. The tyrant will soon be gone. The day of your liberation is near.\n",
      "It is too late for Saddam Hussein to remain in power. It is not too late for the Iraqi military to act with honor and protect your country by permitting the peaceful entry of coalition forces to eliminate weapons of mass destruction. Our forces will give Iraqi military units clear instructions on actions they can take to avoid being attacked and destroyed. I urge every member of the Iraqi military and intelligence services, if war comes, do not fight for a dying regime that is not worth your own life.\n",
      "And all Iraqi military and civilian personnel should listen carefully to this warning. In any conflict, your fate will depend on your action. Do not destroy oil wells, a source of wealth that belongs to the Iraqi people. Do not obey any command to use weapons of mass destruction against anyone, including the Iraqi people. War crimes will be prosecuted. War criminals will be punished. And it will be no defense to say, \"I was just following orders.\"\n",
      "Should Saddam Hussein choose confrontation, the American people can know that every measure has been taken to avoid war, and every measure will be taken to win it. Americans understand the costs of conflict because we have paid them in the past. War has no certainty, except the certainty of sacrifice.\n",
      "Yet, the only way to reduce the harm and duration of war is to apply the full force and might of our military, and we are prepared to do so. If Saddam Hussein attempts to cling to power, he will remain a deadly foe until the end. In desperation, he and terrorists groups might try to conduct terrorist operations against the American people and our friends. These attacks are not inevitable. They are, however, possible. And this very fact underscores the reason we cannot live under the threat of blackmail. The terrorist threat to America and the world will be diminished the moment that Saddam Hussein is disarmed.\n",
      "Our government is on heightened watch against these dangers. Just as we are preparing to ensure victory in Iraq, we are taking further actions to protect our homeland. In recent days, American authorities have expelled from the country certain individuals with ties to Iraqi intelligence services. Among other measures, I have directed additional security of our airports, and increased Coast Guard patrols of major seaports. The Department of Homeland Security is working closely with the nation's governors to increase armed security at critical facilities across America.\n",
      "Should enemies strike our country, they would be attempting to shift our attention with panic and weaken our morale with fear. In this, they would fail. No act of theirs can alter the course or shake the resolve of this country. We are a peaceful people -- yet we're not a fragile people, and we will not be intimidated by thugs and killers. If our enemies dare to strike us, they and all who have aided them, will face fearful consequences.\n",
      "We are now acting because the risks of inaction would be far greater. In one year, or five years, the power of Iraq to inflict harm on all free nations would be multiplied many times over. With these capabilities, Saddam Hussein and his terrorist allies could choose the moment of deadly conflict when they are strongest. We choose to meet that threat now, where it arises, before it can appear suddenly in our skies and cities.\n",
      "The cause of peace requires all free nations to recognize new and undeniable realities. In the 20th century, some chose to appease murderous dictators, whose threats were allowed to grow into genocide and global war. In this century, when evil men plot chemical, biological and nuclear terror, a policy of appeasement could bring destruction of a kind never before seen on this earth.\n",
      "Terrorists and terror states do not reveal these threats with fair notice, in formal declarations -- and responding to such enemies only after they have struck first is not self-defense, it is suicide. The security of the world requires disarming Saddam Hussein now.\n",
      "As we enforce the just demands of the world, we will also honor the deepest commitments of our country. Unlike Saddam Hussein, we believe the Iraqi people are deserving and capable of human liberty. And when the dictator has departed, they can set an example to all the Middle East of a vital and peaceful and self-governing nation.\n",
      "The United States, with other countries, will work to advance liberty and peace in that region. Our goal will not be achieved overnight, but it can come over time. The power and appeal of human liberty is felt in every life and every land. And the greatest power of freedom is to overcome hatred and violence, and turn the creative gifts of men and women to the pursuits of peace.\n",
      "That is the future we choose. Free nations have a duty to defend our people by uniting against the violent. And tonight, as we have done before, America and our allies accept that responsibility.\n",
      "Good night, and may God continue to bless America. \n",
      "\n"
     ]
    }
   ],
   "source": [
    "inner_div = soup.find('div', class_='transcript-inner')\n",
    "if inner_div:\n",
    "    text_inside_div = str(inner_div.text)\n",
    "print(text_inside_div)"
   ]
  },
  {
   "cell_type": "code",
   "execution_count": 5,
   "metadata": {},
   "outputs": [],
   "source": [
    "text_inside_div = text_inside_div.replace(\"Transcript\",\"\")\n",
    "GB_Mar2003 = text_inside_div"
   ]
  },
  {
   "cell_type": "markdown",
   "metadata": {},
   "source": [
    "---"
   ]
  },
  {
   "cell_type": "markdown",
   "metadata": {},
   "source": [
    "### Bush - Remarks on Freedom in Iraq and Middle East: Nov 6th 2003"
   ]
  },
  {
   "cell_type": "code",
   "execution_count": 6,
   "metadata": {},
   "outputs": [],
   "source": [
    "transcript_url = 'https://millercenter.org/the-presidency/presidential-speeches/november-6-2003-remarks-freedom-iraq-and-middle-east'\n",
    "response = requests.get(transcript_url)\n",
    "soup = BeautifulSoup(response.content, 'html.parser')"
   ]
  },
  {
   "cell_type": "code",
   "execution_count": 7,
   "metadata": {},
   "outputs": [
    {
     "name": "stdout",
     "output_type": "stream",
     "text": [
      "\n",
      "Transcript\n",
      "Thank you all very much. Please be seated. Thanks for the warm welcome, and thanks for inviting me to join you in this 20th anniversary of the National Endowment for Democracy. The staff and directors of this organization have seen a lot of history over the last two decades, you've been a part of that history. By speaking for and standing for freedom, you've lifted the hopes of people around the world, and you've brought great credit to America.\n",
      "I appreciate Vin for the short introduction. I'm a man who likes short introductions. And he didn't let me down. But more importantly, I appreciate the invitation. I appreciate the members of Congress who are here, senators from both political parties, members of the House of Representatives from both political parties. I appreciate the ambassadors who are here. I appreciate the guests who have come. I appreciate the bipartisan spirit, the nonpartisan spirit of the National Endowment for Democracy. I'm glad that Republicans and Democrats and independents are working together to advance human liberty.\n",
      "The roots of our democracy can be traced to England, and to its Parliament -- and so can the roots of this organization. In June of 1982, President Ronald Reagan spoke at Westminster Palace and declared, the turning point had arrived in history. He argued that Soviet communism had failed, precisely because it did not respect its own people -- their creativity, their genius and their rights.\n",
      "President Reagan said that the day of Soviet tyranny was passing, that freedom had a momentum which would not be halted. He gave this organization its mandate: to add to the momentum of freedom across the world. Your mandate was important 20 years ago; it is equally important today. (Applause.)\n",
      "A number of critics were dismissive of that speech by the President. According to one editorial of the time, \"It seems hard to be a sophisticated European and also an admirer of Ronald Reagan.\" (Laughter.) Some observers on both sides of the Atlantic pronounced the speech simplistic and naive, and even dangerous. In fact, Ronald Reagan's words were courageous and optimistic and entirely correct. (Applause.)\n",
      "The great democratic movement President Reagan described was already well underway. In the early 1970s, there were about 40 democracies in the world. By the middle of that decade, Portugal and Spain and Greece held free elections. Soon there were new democracies in Latin America, and free institutions were spreading in Korea, in Taiwan, and in East Asia. This very week in 1989, there were protests in East Berlin and in Leipzig. By the end of that year, every communist dictatorship in Central America* had collapsed. Within another year, the South African government released Nelson Mandela. Four years later, he was elected president of his country -- ascending, like Walesa and Havel, from prisoner of state to head of state.\n",
      "As the 20th century ended, there were around 120 democracies in the world -- and I can assure you more are on the way. (Applause.) Ronald Reagan would be pleased, and he would not be surprised.\n",
      "We've witnessed, in little over a generation, the swiftest advance of freedom in the 2,500 year story of democracy. Historians in the future will offer their own explanations for why this happened. Yet we already know some of the reasons they will cite. It is no accident that the rise of so many democracies took place in a time when the world's most influential nation was itself a democracy.\n",
      "The United States made military and moral commitments in Europe and Asia, which protected free nations from aggression, and created the conditions in which new democracies could flourish. As we provided security for whole nations, we also provided inspiration for oppressed peoples. In prison camps, in banned union meetings, in clandestine churches, men and women knew that the whole world was not sharing their own nightmare. They knew of at least one place -- a bright and hopeful land -- where freedom was valued and secure. And they prayed that America would not forget them, or forget the mission to promote liberty around the world.\n",
      "Historians will note that in many nations, the advance of markets and free enterprise helped to create a middle class that was confident enough to demand their own rights. They will point to the role of technology in frustrating censorship and central control -- and marvel at the power of instant communications to spread the truth, the news, and courage across borders.\n",
      "Historians in the future will reflect on an extraordinary, undeniable fact: Over time, free nations grow stronger and dictatorships grow weaker. In the middle of the 20th century, some imagined that the central planning and social regimentation were a shortcut to national strength. In fact, the prosperity, and social vitality and technological progress of a people are directly determined by extent of their liberty. Freedom honors and unleashes human creativity -- and creativity determines the strength and wealth of nations. Liberty is both the plan of Heaven for humanity, and the best hope for progress here on Earth.\n",
      "The progress of liberty is a powerful trend. Yet, we also know that liberty, if not defended, can be lost. The success of freedom is not determined by some dialectic of history. By definition, the success of freedom rests upon the choices and the courage of free peoples, and upon their willingness to sacrifice. In the trenches of World War I, through a two-front war in the 1940s, the difficult battles of Korea and Vietnam, and in missions of rescue and liberation on nearly every continent, Americans have amply displayed our willingness to sacrifice for liberty.\n",
      "The sacrifices of Americans have not always been recognized or appreciated, yet they have been worthwhile. Because we and our allies were steadfast, Germany and Japan are democratic nations that no longer threaten the world. A global nuclear standoff with the Soviet Union ended peacefully -- as did the Soviet Union. The nations of Europe are moving towards unity, not dividing into armed camps and descending into genocide. Every nation has learned, or should have learned, an important lesson: Freedom is worth fighting for, dying for, and standing for -- and the advance of freedom leads to peace. (Applause.)\n",
      "And now we must apply that lesson in our own time. We've reached another great turning point -- and the resolve we show will shape the next stage of the world democratic movement.\n",
      "Our commitment to democracy is tested in countries like Cuba and Burma and North Korea and Zimbabwe -- outposts of oppression in our world. The people in these nations live in captivity, and fear and silence. Yet, these regimes cannot hold back freedom forever -- and, one day, from prison camps and prison cells, and from exile, the leaders of new democracies will arrive. (Applause.) Communism, and militarism and rule by the capricious and corrupt are the relics of a passing era. And we will stand with these oppressed peoples until the day of their freedom finally arrives. (Applause.)\n",
      "Our commitment to democracy is tested in China. That nation now has a sliver, a fragment of liberty. Yet, China's people will eventually want their liberty pure and whole. China has discovered that economic freedom leads to national wealth. China's leaders will also discover that freedom is indivisible -- that social and religious freedom is also essential to national greatness and national dignity. Eventually, men and women who are allowed to control their own wealth will insist on controlling their own lives and their own country.\n",
      "Our commitment to democracy is also tested in the Middle East, which is my focus today, and must be a focus of American policy for decades to come. In many nations of the Middle East -- countries of great strategic importance -- democracy has not yet taken root. And the questions arise: Are the peoples of the Middle East somehow beyond the reach of liberty? Are millions of men and women and children condemned by history or culture to live in despotism? Are they alone never to know freedom, and never even to have a choice in the matter? I, for one, do not believe it. I believe every person has the ability and the right to be free. (Applause.)\n",
      "Some skeptics of democracy assert that the traditions of Islam are inhospitable to the representative government. This \"cultural condescension,\" as Ronald Reagan termed it, has a long history. After the Japanese surrender in 1945, a so-called Japan expert asserted that democracy in that former empire would \"never work.\" Another observer declared the prospects for democracy in post-Hitler Germany are, and I quote, \"most uncertain at best\" -- he made that claim in 1957. Seventy-four years ago, The Sunday London Times declared nine-tenths of the population of India to be \"illiterates not caring a fig for politics.\" Yet when Indian democracy was imperiled in the 1970s, the Indian people showed their commitment to liberty in a national referendum that saved their form of government.\n",
      "Time after time, observers have questioned whether this country, or that people, or this group, are \"ready\" for democracy -- as if freedom were a prize you win for meeting our own Western standards of progress. In fact, the daily work of democracy itself is the path of progress. It teaches cooperation, the free exchange of ideas, and the peaceful resolution of differences. As men and women are showing, from Bangladesh to Botswana, to Mongolia, it is the practice of democracy that makes a nation ready for democracy, and every nation can start on this path.\n",
      "It should be clear to all that Islam -- the faith of one-fifth of humanity -- is consistent with democratic rule. Democratic progress is found in many predominantly Muslim countries -- in Turkey and Indonesia, and Senegal and Albania, Niger and Sierra Leone. Muslim men and women are good citizens of India and South Africa, of the nations of Western Europe, and of the United States of America.\n",
      "More than half of all the Muslims in the world live in freedom under democratically constituted governments. They succeed in democratic societies, not in spite of their faith, but because of it. A religion that demands individual moral accountability, and encourages the encounter of the individual with God, is fully compatible with the rights and responsibilities of self-government.\n",
      "Yet there's a great challenge today in the Middle East. In the words of a recent report by Arab scholars, the global wave of democracy has -- and I quote -- \"barely reached the Arab states.\" They continue: \"This freedom deficit undermines human development and is one of the most painful manifestations of lagging political development.\" The freedom deficit they describe has terrible consequences, of the people of the Middle East and for the world. In many Middle Eastern countries, poverty is deep and it is spreading, women lack rights and are denied schooling. Whole societies remain stagnant while the world moves ahead. These are not the failures of a culture or a religion. These are the failures of political and economic doctrines.\n",
      "As the colonial era passed away, the Middle East saw the establishment of many military dictatorships. Some rulers adopted the dogmas of socialism, seized total control of political parties and the media and universities. They allied themselves with the Soviet bloc and with international terrorism. Dictators in Iraq and Syria promised the restoration of national honor, a return to ancient glories. They've left instead a legacy of torture, oppression, misery, and ruin.\n",
      "Other men, and groups of men, have gained influence in the Middle East and beyond through an ideology of theocratic terror. Behind their language of religion is the ambition for absolute political power. Ruling cabals like the Taliban show their version of religious piety in public whippings of women, ruthless suppression of any difference or dissent, and support for terrorists who arm and train to murder the innocent. The Taliban promised religious purity and national pride. Instead, by systematically destroying a proud and working society, they left behind suffering and starvation.\n",
      "Many Middle Eastern governments now understand that military dictatorship and theocratic rule are a straight, smooth highway to nowhere. But some governments still cling to the old habits of central control. There are governments that still fear and repress independent thought and creativity, and private enterprise -- the human qualities that make for a -- strong and successful societies. Even when these nations have vast natural resources, they do not respect or develop their greatest resources -- the talent and energy of men and women working and living in freedom.\n",
      "Instead of dwelling on past wrongs and blaming others, governments in the Middle East need to confront real problems, and serve the true interests of their nations. The good and capable people of the Middle East all deserve responsible leadership. For too long, many people in that region have been victims and subjects -- they deserve to be active citizens.\n",
      "Governments across the Middle East and North Africa are beginning to see the need for change. Morocco has a diverse new parliament; King Mohammed has urged it to extend the rights to women. Here is how His Majesty explained his reforms to parliament: \"How can society achieve progress while women, who represent half the nation, see their rights violated and suffer as a result of injustice, violence, and marginalization, notwithstanding the dignity and justice granted to them by our glorious religion?\" The King of Morocco is correct: The future of Muslim nations will be better for all with the full participation of women. (Applause.)\n",
      "In Bahrain last year, citizens elected their own parliament for the first time in nearly three decades. Oman has extended the vote to all adult citizens; Qatar has a new constitution; Yemen has a multiparty political system; Kuwait has a directly elected national assembly; and Jordan held historic elections this summer. Recent surveys in Arab nations reveal broad support for political pluralism, the rule of law, and free speech. These are the stirrings of Middle Eastern democracy, and they carry the promise of greater change to come.\n",
      "As changes come to the Middle Eastern region, those with power should ask themselves: Will they be remembered for resisting reform, or for leading it? In Iran, the demand for democracy is strong and broad, as we saw last month when thousands gathered to welcome home Shirin Ebadi, the winner of the Nobel Peace Prize. The regime in Teheran must heed the democratic demands of the Iranian people, or lose its last claim to legitimacy. (Applause.)\n",
      "For the Palestinian people, the only path to independence and dignity and progress is the path of democracy. (Applause.) And the Palestinian leaders who block and undermine democratic reform, and feed hatred and encourage violence are not leaders at all. They're the main obstacles to peace, and to the success of the Palestinian people.\n",
      "The Saudi government is taking first steps toward reform, including a plan for gradual introduction of elections. By giving the Saudi people a greater role in their own society, the Saudi government can demonstrate true leadership in the region.\n",
      "The great and proud nation of Egypt has shown the way toward peace in the Middle East, and now should show the way toward democracy in the Middle East. (Applause.) Champions of democracy in the region understand that democracy is not perfect, it is not the path to utopia, but it's the only path to national success and dignity.\n",
      "As we watch and encourage reforms in the region, we are mindful that modernization is not the same as Westernization. Representative governments in the Middle East will reflect their own cultures. They will not, and should not, look like us. Democratic nations may be constitutional monarchies, federal republics, or parliamentary systems. And working democracies always need time to develop -- as did our own. We've taken a 200-year journey toward inclusion and justice -- and this makes us patient and understanding as other nations are at different stages of this journey.\n",
      "There are, however, essential principles common to every successful society, in every culture. Successful societies limit the power of the state and the power of the military -- so that governments respond to the will of the people, and not the will of an elite. Successful societies protect freedom with the consistent and impartial rule of law, instead of selecting applying -- selectively applying the law to punish political opponents. Successful societies allow room for healthy civic institutions -- for political parties and labor unions and independent newspapers and broadcast media. Successful societies guarantee religious liberty -- the right to serve and honor God without fear of persecution. Successful societies privatize their economies, and secure the rights of property. They prohibit and punish official corruption, and invest in the health and education of their people. They recognize the rights of women. And instead of directing hatred and resentment against others, successful societies appeal to the hopes of their own people. (Applause.)\n",
      "These vital principles are being applies in the nations of Afghanistan and Iraq. With the steady leadership of President Karzai, the people of Afghanistan are building a modern and peaceful government. Next month, 500 delegates will convene a national assembly in Kabul to approve a new Afghan constitution. The proposed draft would establish a bicameral parliament, set national elections next year, and recognize Afghanistan's Muslim identity, while protecting the rights of all citizens. Afghanistan faces continuing economic and security challenges -- it will face those challenges as a free and stable democracy. (Applause.)\n",
      "In Iraq, the Coalition Provisional Authority and the Iraqi Governing Council are also working together to build a democracy -- and after three decades of tyranny, this work is not easy. The former dictator ruled by terror and treachery, and left deeply ingrained habits of fear and distrust. Remnants of his regime, joined by foreign terrorists, continue their battle against order and against civilization. Our coalition is responding to recent attacks with precision raids, guided by intelligence provided by the Iraqis, themselves. And we're working closely with Iraqi citizens as they prepare a constitution, as they move toward free elections and take increasing responsibility for their own affairs. As in the defense of Greece in 1947, and later in the Berlin Airlift, the strength and will of free peoples are now being tested before a watching world. And we will meet this test. (Applause.)\n",
      "Securing democracy in Iraq is the work of many hands. American and coalition forces are sacrificing for the peace of Iraq and for the security of free nations. Aid workers from many countries are facing danger to help the Iraqi people. The National Endowment for Democracy is promoting women's rights, and training Iraqi journalists, and teaching the skills of political participation. Iraqis, themselves -- police and borders guards and local officials -- are joining in the work and they are sharing in the sacrifice.\n",
      "This is a massive and difficult undertaking -- it is worth our effort, it is worth our sacrifice, because we know the stakes. The failure of Iraqi democracy would embolden terrorists around the world, increase dangers to the American people, and extinguish the hopes of millions in the region. Iraqi democracy will succeed -- and that success will send forth the news, from Damascus to Teheran -- that freedom can be the future of every nation. (Applause.) The establishment of a free Iraq at the heart of the Middle East will be a watershed event in the global democratic revolution. (Applause.)\n",
      "Sixty years of Western nations excusing and accommodating the lack of freedom in the Middle East did nothing to make us safe -- because in the long run, stability cannot be purchased at the expense of liberty. As long as the Middle East remains a place where freedom does not flourish, it will remain a place of stagnation, resentment, and violence ready for export. And with the spread of weapons that can bring catastrophic harm to our country and to our friends, it would be reckless to accept the status quo. (Applause.)\n",
      "Therefore, the United States has adopted a new policy, a forward strategy of freedom in the Middle East. This strategy requires the same persistence and energy and idealism we have shown before. And it will yield the same results. As in Europe, as in Asia, as in every region of the world, the advance of freedom leads to peace. (Applause.)\n",
      "The advance of freedom is the calling of our time; it is the calling of our country. From the Fourteen Points to the Four Freedoms, to the Speech at Westminster, America has put our power at the service of principle. We believe that liberty is the design of nature; we believe that liberty is the direction of history. We believe that human fulfillment and excellence come in the responsible exercise of liberty. And we believe that freedom -- the freedom we prize -- is not for us alone, it is the right and the capacity of all mankind. (Applause.)\n",
      "Working for the spread of freedom can be hard. Yet, America has accomplished hard tasks before. Our nation is strong; we're strong of heart. And we're not alone. Freedom is finding allies in every country; freedom finds allies in every culture. And as we meet the terror and violence of the world, we can be certain the author of freedom is not indifferent to the fate of freedom.\n",
      "With all the tests and all the challenges of our age, this is, above all, the age of liberty. Each of you at this Endowment is fully engaged in the great cause of liberty. And I thank you. May God bless your work. And may God continue to bless America. (Applause.)\n",
      "\n"
     ]
    }
   ],
   "source": [
    "inner_div = soup.find('div', class_='transcript-inner')\n",
    "if inner_div:\n",
    "    text_inside_div = str(inner_div.text)\n",
    "print(text_inside_div)"
   ]
  },
  {
   "cell_type": "code",
   "execution_count": 8,
   "metadata": {},
   "outputs": [],
   "source": [
    "text_inside_div = text_inside_div.replace(\" (Applause.)\",\"\")\n",
    "text_inside_div = text_inside_div.replace(\"Transcript\",\"\")\n",
    "GB_Nov2003 = text_inside_div"
   ]
  },
  {
   "cell_type": "markdown",
   "metadata": {},
   "source": [
    "---"
   ]
  },
  {
   "cell_type": "markdown",
   "metadata": {},
   "source": [
    "### Bush - Remarks on National Security and the War Effort: July 17th 2004"
   ]
  },
  {
   "cell_type": "code",
   "execution_count": 9,
   "metadata": {},
   "outputs": [],
   "source": [
    "transcript_url = 'https://millercenter.org/the-presidency/presidential-speeches/july-17-2004-remarks-national-security-and-war-effort'\n",
    "response = requests.get(transcript_url)\n",
    "soup = BeautifulSoup(response.content, 'html.parser')"
   ]
  },
  {
   "cell_type": "code",
   "execution_count": 10,
   "metadata": {},
   "outputs": [
    {
     "name": "stdout",
     "output_type": "stream",
     "text": [
      "\n",
      "Transcript\n",
      "Well, thank you all very much for that warm welcome. General Meyer, thank you. General Bunting and General Casey, Secretary Marsh, Congressman Goodlatte, Albert Beveridge, members of the Corps of Cadets, distinguished guests, ladies and gentlemen.\n",
      "I want to thank you for your warm welcome and thank you for inviting me to one of America's great institutions. (Applause.) I brought along a little graduation present. I'm sure you'll like it; some of you will need it. (Laughter.) As Commander in Chief, I hereby grant amnesty -- (applause). General Bunting, I'm sure you can tell who needed it. (Laughter.) And I know you'll be generous in the interpretation of this doctrine. (Laughter.)\n",
      "I want to congratulate the winners of the George C. Marshall ROTC Award. (Applause.) The more than 260 young men and women who represent -- the winners represent the best of our country and the best future for the United States Army. You stand out among the nearly 30,000 young Americans who are today enrolled in the Army ROTC; the officers who will serve in the military of the future, and one day will lead it.\n",
      "A majority of the Army's current officers started out in the ROTC. For nearly 90 years, this great program has developed leaders and shaped character. Those looking for idealism on the college campuses of America will find it in the men and women of the ROTC. ROTC's traditions and values are a contribution and a credit to every college and every university where they're found.\n",
      "Secretary of State Colin Powell was in the ROTC at City College of New York, an experience that helped set the course of his life. In his own words, he said this, \"The order, the self-discipline, the pride that had been instilled in me by our ROTC prepared me well for my Army career or, for that matter, any career I might have chosen.\"\n",
      "Colin Powell's career has taken him from service in Vietnam to the top rank in the military, and now on a peace mission to the Middle East. America is fortunate and I am proud to have ROTC graduate Colin Powell serving our country. (Applause.)\n",
      "Only one other Army general has gone on to serve as Secretary of State, and that was George Marshall, himself -- VMI's highest-ranking cadet in the class of 1901.\n",
      "As Army Chief of Staff, General Marshall became the architect of America's victory in the second world war. He fought tenaciously against our enemies, and then worked just as hard to secure the peace. President Truman considered George C. Marshall the greatest man he knew. Above all, said Winston Churchill, Marshall \"always fought victoriously against defeatism, discouragement and disillusionment.\" The key to morale and to victory, Marshall said, is \"steadfastness and courage and hope.\" (Applause.)\n",
      "And, today, we are called to defend freedom against ruthless enemies. And, once again, we need steadfastness, courage and hope. (Applause.) The war against terror will be long. And as George Marshall so clearly understood, it will not be enough to make the world safer. We must also work to make the world better.\n",
      "In the days just after September the 11th, I told the American people that this would be a different war, fought on many fronts. Today, around the world, we make progress on the many fronts. In some cases, we use military force. In others, we're fighting through diplomacy, financial pressure, or special operations. In every case, we will defeat the threats against our country and the civilized world. (Applause.)\n",
      "Our progress -- our progress is measured day by day, terrorist by terrorist. We recently apprehended one of al Qaeda's top leaders, a man named Abu Zabaydah. He was spending a lot of time as one of the top operating officials of al Qaeda, plotting and planning murder. He's not plotting and he's not planning anymore. (Applause.) He's under lock and key, and we're going to give him some company. (Applause.) We're hunting down the killers one by one.\n",
      "We're learning a lot about al Qaeda operations and their plans. As our enemies have fled their hideouts in Afghanistan, they left some things behind. We found laptop computers, drawings and maps. And through them, we're gaining a clearer picture of the terrorist targets and their methods.\n",
      "Our international coalition against these killers is strong and united and acting. European nations have frozen almost $50 million in suspected terrorist assets, and that's important. Many European states are taking aggressive and effective law enforcement action to join us in rounding up these terrorists and their cells. We're making good progress.\n",
      "Yet, it's important for Americans to know this war will not be quick and this war will not be easy. The first phase of our military operation was in Afghanistan, where our armed forces continue to perform with bravery and with skill. You've got to understand that as we routed out the Taliban, they weren't sent in to conquer; they were sent in to liberate. And they succeeded. And our military makes us proud. (Applause.)\n",
      "The battles in Afghanistan are not over. American and allied troops are taking risks today in what we call Operation Mountain Lion -- hunting down the al Qaeda and Taliban forces, and keeping them on the run. Coalition naval forces, in the largest combined flotilla since World War II, are patrolling escape routes and intercepting ships to search for terrorists and their supplies.\n",
      "As the spring thaw comes, we expect cells of trained killers to try to regroup, to murder, create mayhem and try to undermine Afghanistan's efforts to build a lasting peace. We know this from not only intelligence, but from the history of military conflict in Afghanistan. It's been one of initial success, followed by long years of floundering and ultimate failure. We're not going to repeat that mistake. (Applause.)\n",
      "In the United States of America, the terrorists have chosen a foe unlike they have any -- they have never faced before. They've never faced a country like ours before: we're tough, we're determined, we're relentless. (Applause.) We will stay until the mission is done. (Applause.)\n",
      "We know that true peace will only be achieved when we give the Afghan people the means to achieve their own aspirations. (Applause.) Peace -- peace will be achieved by helping Afghanistan develop its own stable government. Peace will be achieved by helping Afghanistan train and develop its own national army. And peace will be achieved through an education system for boys and girls which works. (Applause.)\n",
      "We're working hard in Afghanistan. We're clearing minefields. We're rebuilding roads. We're improving medical care. And we will work to help Afghanistan to develop an economy that can feed its people without feeding the world's demand for drugs. (Applause.)\n",
      "And we help the Afghan people recover from the Taliban rule. And as we do so, we find mounting horror, evidence of horror. In the Hazarajat region, the Red Cross has found signs of massacres committed by the Taliban last year, victims who lie in mass graves. This is the legacy of the first regime to fall in the war against terror. These mass graves are a reminder of the kind of enemy we have fought and have defeated. And they are the kind of evil we continue to fight.\n",
      "By helping to build an Afghanistan that is free from this evil and is a better place in which to live, we are working in the best traditions of George Marshall. (Applause.) Marshall knew that our military victory against enemies in World War II had to be followed by a moral victory that resulted in better lives for individual human beings.\n",
      "After 1945, the United States of America was the only nation in the world strong enough to help rebuild a Europe and a Japan that had been decimated by World War II. Today, our former enemies are our friends. And Europe and Japan are strong partners in the rebuilding of Afghanistan.\n",
      "This transformation is a powerful testimony to the success of Marshall's vision, and a beacon to light the path that we, too, must follow.\n",
      "In the second phase of the war on terror, our military and law enforcement intelligence officers are helping countries around the world in their efforts to crack down on terror within their borders. Global terrorism will be defeated only by global response. We must prevent al Qaeda from moving its operations to other countries. We must deny terrorists the funds they need to operate. We must deny them safe havens to plan new horrors and indoctrinate new recruits.\n",
      "We're working with Yemen's government to prevent terrorists from reassembling there. We sent troops to help train local forces in the Philippines, to help them defeat terrorists trying to establish a militant regime. And in the Republic of Georgia, we provide temporary help to its military, as it routes out a terrorist cell near the Russian border. Wherever global terror threatens the civilized world, we and our friends and our allies will respond and will respond decisively. (Applause.)\n",
      "Every nation that joins our cause is welcome. Every nation that needs our help will have it. And no nation can be neutral. Around the world, the nations must choose. They are with us, or they're with the terrorists. (Applause.)\n",
      "And in the Middle East, where acts of terror have triggered mounting violence, all parties have a choice to make. Every leader, every state must choose between two separate paths: the path of peace or the path of terror. In the stricken faces of mothers, Palestinian mothers and Israeli mothers, the entire world is witnessing the agonizing cost of this conflict. Now, every nation and every leader in the region must work to end terror. (Applause.)\n",
      "All parties have responsibilities. These responsibilities are not easy, but they're clear. And Secretary of State Powell is helping make them clear. I want to thank Secretary Powell for his hard work at a difficult task. He returns home having made progress towards peace.\n",
      "We're confronting hatred that is centuries old, disputes that have lingered for decades. But I want you to know, I will continue to lead toward a vision of peace. (Applause.)\n",
      "We will continue to remind folks they have responsibilities in the short run to defuse the current crisis. The Palestinian Authority must act, must act on its words of condemnation against terror. (Applause.) Israel must continue its withdrawals. And all Arab states must step up to their responsibilities. (Applause.)\n",
      "The Egyptians and Jordanians and Saudis have helped in the wider war on terrorism. And they must help confront terrorism in the Middle East. (Applause.) All parties have a responsibility to stop funding or inciting terror. (Applause.) And all parties must say clearly that a murderer is not a martyr; he or she is just a murderer. (Applause.)\n",
      "And all parties must realize that the only vision for a long-term solution is for two states -- Israel, Palestine -- to live side by side in security and in peace. (Applause.) That will require hard choices and leadership by Israelis, Palestinians, and their Arab neighbors. The time is now for all to make the choice for peace. (Applause.)\n",
      "And, finally, the civilized world faces a grave threat from weapons of mass destruction. A small number of outlaw regimes today possess and are developing chemical and biological and nuclear weapons. They're building missiles to deliver them, and at the same time cultivating ties to terrorist groups. In their threat to peace, in their mad ambitions, in their destructive potential and in the repression of their own people, these regimes constitute an axis of evil and the world must confront them. (Applause.)\n",
      "America, along with other nations, will oppose the proliferation of dangerous weapons and technologies. We will proceed with missile defenses to protect the American people, our troops and our friends and allies. And America will take the necessary action to oppose emerging threats.\n",
      "We'll be deliberate and we will work with our friends and allies. And, as we do so, we will uphold our duty to defend freedom. (Applause.) We will fight against terrorist organizations in different ways, with different tactics, in different places. And we will fight the threat from weapons of mass destruction in different ways, with different tactics, in different places.\n",
      "Yet, our objective is always the same: we will defeat global terror, and we will not allow the world's most dangerous regimes to threaten us with the world's most dangerous weapons. (Applause.)\n",
      "America has a much greater purpose than just eliminating threats and containing resentment, because we believe in the dignity and value of every individual. America seeks hope and opportunity for all people in all cultures. And that is why we're helping to rebuild Afghanistan. And that is why we've launched a new compact for development for the Millennium Challenge Account. And that is why we work for free trade, to lift people out of poverty throughout the world.\n",
      "A better world can seem very distant when children are sent to kill other children, and old hatreds are stoked and carefully passed from one generation to another, and a violent few love death more than life. Yet hatred, fanaticism are not the way of the future, because the hopes of humanity are always stronger than its hatreds. (Applause.)\n",
      "And these hopes are universal in every country and in every country -- in every culture. Men and women everywhere want to live in dignity to create and build and own, to raise their children in peace and security.\n",
      "The way to a peaceful future can be found in the non-negotiable demands of human dignity. Dignity requires the rule of law, limits on the power of the state, respect for women, private property, equal justice, religious tolerance. No nation owns these principles. No nation is exempt from them.\n",
      "Sixty years ago, few would have predicted the triumph of these values in Germany and Japan. Fifteen years ago, few would have predicted the advance of these values in Russia. Yet, Americans are not surprised. We know that the demands of human dignity are written in every heart.\n",
      "The demands have a power and momentum of their own, defying all pessimism. And they are destined to change lives and nations on every continent. America has acted on these hopes throughout our history. General George Marshall is admired for the war he fought, yet best remembered for the peace he secured.\n",
      "The Marshall Plan, rebuilding Europe and lifting up former enemies, showed that America is not content with military victory alone. Americans always see a greater hope and a better day. And America sees a just and hopeful world beyond the war on terror. (Applause.)\n",
      "Many of you will help achieve this better world. At a young age, you've taken up a great calling. You'll serve your country and our values. You'll protect your fellow citizens. And, by your effort and example, you will advance the cause of freedom around the world. And so I'm here to thank you for your commitment and congratulate you on the high honor you have received.\n",
      "May God bless you all, and may God bless America. (Applause.)\n",
      "\n"
     ]
    }
   ],
   "source": [
    "inner_div = soup.find('div', class_='transcript-inner')\n",
    "if inner_div:\n",
    "    text_inside_div = str(inner_div.text)\n",
    "print(text_inside_div)"
   ]
  },
  {
   "cell_type": "code",
   "execution_count": 11,
   "metadata": {},
   "outputs": [],
   "source": [
    "text_inside_div = text_inside_div.replace(\" (Applause.)\",\"\")\n",
    "text_inside_div = text_inside_div.replace(\"Transcript\",\"\")\n",
    "text_inside_div = text_inside_div.replace(\"(Laughter.)\",\"\")\n",
    "GB_Jul2004 = text_inside_div"
   ]
  },
  {
   "cell_type": "markdown",
   "metadata": {},
   "source": [
    "### Bush - Address on Renewal in Iraq: Dec 19th 2005"
   ]
  },
  {
   "cell_type": "code",
   "execution_count": 12,
   "metadata": {},
   "outputs": [],
   "source": [
    "transcript_url = 'https://millercenter.org/the-presidency/presidential-speeches/december-19-2005-address-renewal-iraq'\n",
    "response = requests.get(transcript_url)\n",
    "soup = BeautifulSoup(response.content, 'html.parser')"
   ]
  },
  {
   "cell_type": "code",
   "execution_count": 13,
   "metadata": {},
   "outputs": [
    {
     "name": "stdout",
     "output_type": "stream",
     "text": [
      "\n",
      "Transcript\n",
      "Good evening. Three days ago, in large numbers, Iraqis went to the polls to choose their own leaders -- a landmark day in the history of liberty. In the coming weeks, the ballots will be counted, a new government formed, and a people who suffered in tyranny for so long will become full members of the free world.\n",
      "This election will not mean the end of violence. But it is the beginning of something new: constitutional democracy at the heart of the Middle East. And this vote -- 6,000 miles away, in a vital region of the world -- means that America has an ally of growing strength in the fight against terror.\n",
      "All who had a part in this achievement -- Iraqis, and Americans and our coalition partners -- can be proud. Yet our work is not done. There is more testing and sacrifice before us. I know many Americans have questions about the cost and direction of this war. So tonight I want to talk to you about how far we have come in Iraq, and the path that lies ahead.\n",
      "From this office, nearly three years ago, I announced the start of military operations in Iraq. Our coalition confronted a regime that defied United Nations Security Council resolutions, violated a cease-fire agreement, sponsored terrorism, and possessed, we believed, weapons of mass destruction. After the swift fall of Baghdad, we found mass graves filled by a dictator; we found some capacity to restart programs to produce weapons of mass destruction, but we did not find those weapons.\n",
      "It is true that Saddam Hussein had a history of pursuing and using weapons of mass destruction. It is true that he systematically concealed those programs, and blocked the work of U.N. weapons inspectors. It is true that many nations believed that Saddam had weapons of mass destruction. But much of the intelligence turned out to be wrong. As your President, I am responsible for the decision to go into Iraq. Yet it was right to remove Saddam Hussein from power.\n",
      "He was given an ultimatum -- and he made his choice for war. And the result of that war was to rid a -- the world of a murderous dictator who menaced his people, invaded his neighbors, and declared America to be his enemy. Saddam Hussein, captured and jailed, is still the same raging tyrant -- only now without a throne. His power to harm a single man, woman, or child is gone forever. And the world is better for it.\n",
      "Since the removal of Saddam, this war, like other wars in our history, has been difficult. The mission of American troops in urban raids and desert patrols, fighting Saddam loyalists and foreign terrorists, has brought danger and suffering and loss. This loss has caused sorrow for our whole nation -- and it has led some to ask if we are creating more problems than we're solving.\n",
      "That is an important question, and the answer depends on your view of the war on terror. If you think the terrorists would become peaceful if only America would stop provoking them, then it might make sense to leave them alone.\n",
      "This is not the threat I see. I see a global terrorist movement that exploits Islam in the service of radical political aims -- a vision in which books are burned, and women are oppressed, and all dissent is crushed. Terrorist operatives conduct their campaign of murder with a set of declared and specific goals -- to de-moralize free nations, to drive us out of the Middle East, to spread an empire of fear across that region, and to wage a perpetual war against America and our friends. These terrorists view the world as a giant battlefield -- and they seek to attack us wherever they can. This has attracted al Qaeda to Iraq, where they are attempting to frighten and intimidate America into a policy of retreat.\n",
      "The terrorists do not merely object to American actions in Iraq and elsewhere, they object to our deepest values and our way of life. And if we were not fighting them in Iraq, in Afghanistan, in Southeast Asia, and in other places, the terrorists would not be peaceful citizens, they would be on the offense, and headed our way.\n",
      "September the 11th, 2001 required us to take every emerging threat to our country seriously, and it shattered the illusion that terrorists attack us only after we provoke them. On that day, we were not in Iraq, we were not in Afghanistan, but the terrorists attacked us anyway -- and killed nearly 3,000 men, women, and children in our own country. My conviction comes down to this: We do not create terrorism by fighting the terrorists. We invite terrorism by ignoring them. And we will defeat the terrorists by capturing and killing them abroad, removing their safe havens, and strengthening new allies like Iraq and Afghanistan in the fight we share.\n",
      "The work in Iraq has been especially difficult -- more difficult than we expected. Reconstruction efforts and the training of Iraqi security forces started more slowly than we hoped. We continue to see violence and suffering, caused by an enemy that is determined and brutal, unconstrained by conscience or the rules of war.\n",
      "Some look at the challenges in Iraq and conclude that the war is lost, and not worth another dime or another day. I don't believe that. Our military commanders do not believe that. Our troops in the field, who bear the burden and make the sacrifice, do not believe that America has lost. And not even the terrorists believe it. We know from their own communications that they feel a tightening noose, and fear the rise of a democratic Iraq.\n",
      "The terrorists will continue to have the coward's power to plant roadside bombs and recruit suicide bombers. And you will continue to see the grim results on the evening news. This proves that the war is difficult -- it doesn't mean that we are losing. Behind the images of chaos that terrorists create for the cameras, we are making steady gains with a clear objective in view.\n",
      "America, our coalition, and Iraqi leaders are working toward the same goal -- a democratic Iraq that can defend itself, that will never again be a safe haven for terrorists, and that will serve as a model of freedom for the Middle East.\n",
      "We have put in place a strategy to achieve this goal -- a strategy I've been discussing in detail over the last few weeks. This plan has three critical elements.\n",
      "First, our coalition will remain on the offense -- finding and clearing out the enemy, transferring control of more territory to Iraqi units, and building up the Iraqi security forces so they can increasingly lead the fight. At this time last year, there were only a handful of Iraqi army and police battalions ready for combat. Now, there are more than 125 Iraqi combat battalions fighting the enemy, more than 50 are taking the lead, and we have transferred more than a dozen military bases to Iraqi control.\n",
      "Second, we're helping the Iraqi government establish the institutions of a unified and lasting democracy, in which all of Iraq's people are included and represented. Here also, the news is encouraging. Three days ago, more than 10 million Iraqis went to the polls -- including many Sunni Iraqis who had boycotted national elections last January. Iraqis of every background are recognizing that democracy is the future of the country they love -- and they want their voices heard. One Iraqi, after dipping his finger in the purple ink as he cast his ballot, stuck his finger in the air and said: \"This is a thorn in the eyes of the terrorists.\" Another voter was asked, \"Are you Sunni or Shia?\" And he responded, \"I am Iraqi.\"\n",
      "Third, after a number of setbacks, our coalition is moving forward with a reconstruction plan to revive Iraq's economy and infrastructure -- and to give Iraqis confidence that a free life will be a better life. Today in Iraq, seven in 10 Iraqis say their lives are going well, and nearly two-thirds expect things to improve even more in the year ahead. Despite the violence, Iraqis are optimistic -- and that optimism is justified.\n",
      "In all three aspects of our strategy -- security, democracy, and reconstruction -- we have learned from our experiences, and fixed what has not worked. We will continue to listen to honest criticism, and make every change that will help us complete the mission. Yet there is a difference between honest critics who recognize what is wrong, and defeatists who refuse to see that anything is right.\n",
      "Defeatism may have its partisan uses, but it is not justified by the facts. For every scene of destruction in Iraq, there are more scenes of rebuilding and hope. For every life lost, there are countless more lives reclaimed. And for every terrorist working to stop freedom in Iraq, there are many more Iraqis and Americans working to defeat them. My fellow citizens: Not only can we win the war in Iraq, we are winning the war in Iraq.\n",
      "It is also important for every American to understand the consequences of pulling out of Iraq before our work is done. We would abandon our Iraqi friends and signal to the world that America cannot be trusted to keep its word. We would undermine the morale of our troops by betraying the cause for which they have sacrificed. We would cause the tyrants in the Middle East to laugh at our failed resolve, and tighten their repressive grip. We would hand Iraq over to enemies who have pledged to attack us and the global terrorist movement would be emboldened and more dangerous than ever before. To retreat before victory would be an act of recklessness and dishonor, and I will not allow it.\n",
      "We're approaching a new year, and there are certain things all Americans can expect to see. We will see more sacrifice -- from our military, their families, and the Iraqi people. We will see a concerted effort to improve Iraqi police forces and fight corruption. We will see the Iraqi military gaining strength and confidence, and the democratic process moving forward. As these achievements come, it should require fewer American troops to accomplish our mission. I will make decisions on troop levels based on the progress we see on the ground and the advice of our military leaders -- not based on artificial timetables set by politicians in Washington. Our forces in Iraq are on the road to victory -- and that is the road that will take them home.\n",
      "In the months ahead, all Americans will have a part in the success of this war. Members of Congress will need to provide resources for our military. Our men and women in uniform, who have done so much already, will continue their brave and urgent work. And tonight, I ask all of you listening to carefully consider the stakes of this war, to realize how far we have come and the good we are doing, and to have patience in this difficult, noble, and necessary cause.\n",
      "I also want to speak to those of you who did not support my decision to send troops to Iraq: I have heard your disagreement, and I know how deeply it is felt. Yet now there are only two options before our country -- victory or defeat. And the need for victory is larger than any president or political party, because the security of our people is in the balance. I don't expect you to support everything I do, but tonight I have a request: Do not give in to despair, and do not give up on this fight for freedom.\n",
      "Americans can expect some things of me, as well. My most solemn responsibility is to protect our nation, and that requires me to make some tough decisions. I see the consequences of those decisions when I meet wounded servicemen and women who cannot leave their hospital beds, but summon the strength to look me in the eye and say they would do it all over again. I see the consequences when I talk to parents who miss a child so much -- but tell me he loved being a soldier, he believed in his mission, and, Mr. President, finish the job.\n",
      "I know that some of my decisions have led to terrible loss -- and not one of those decisions has been taken lightly. I know this war is controversial -- yet being your President requires doing what I believe is right and accepting the consequences. And I have never been more certain that America's actions in Iraq are essential to the security of our citizens, and will lay the foundation of peace for our children and grandchildren.\n",
      "Next week, Americans will gather to celebrate Christmas and Hanukkah. Many families will be praying for loved ones spending this season far from home -- in Iraq, Afghanistan, and other dangerous places. Our nation joins in those prayers. We pray for the safety and strength of our troops. We trust, with them, in a love that conquers all fear, in a light that reaches the darkest corners of the Earth. And we remember the words of the Christmas carol, written during the Civil War: \"God is not dead, nor [does] He sleep; the Wrong shall fail, the Right prevail, with peace on Earth, goodwill to men.\"\n",
      "Thank you, and good night.\n",
      "\n"
     ]
    }
   ],
   "source": [
    "inner_div = soup.find('div', class_='transcript-inner')\n",
    "if inner_div:\n",
    "    text_inside_div = str(inner_div.text)\n",
    "print(text_inside_div)"
   ]
  },
  {
   "cell_type": "code",
   "execution_count": 14,
   "metadata": {},
   "outputs": [],
   "source": [
    "text_inside_div = text_inside_div.replace(\"Transcript\",\"\")\n",
    "GB_Dec2005 = text_inside_div"
   ]
  },
  {
   "cell_type": "markdown",
   "metadata": {},
   "source": [
    "### Bush - Address on Military Operations in Iraq: Jan 11th 2007"
   ]
  },
  {
   "cell_type": "code",
   "execution_count": 15,
   "metadata": {},
   "outputs": [],
   "source": [
    "transcript_url = 'https://millercenter.org/the-presidency/presidential-speeches/january-11-2007-address-military-operations-iraq'\n",
    "response = requests.get(transcript_url)\n",
    "soup = BeautifulSoup(response.content, 'html.parser')"
   ]
  },
  {
   "cell_type": "code",
   "execution_count": 16,
   "metadata": {},
   "outputs": [
    {
     "name": "stdout",
     "output_type": "stream",
     "text": [
      "\n",
      "Transcript\n",
      "Good evening. Tonight in Iraq, the Armed Forces of the United States are engaged in a struggle that will determine the direction of the global war on terror -- and our safety here at home. The new strategy I outline tonight will change America's course in Iraq, and help us succeed in the fight against terror.\n",
      "When I addressed you just over a year ago, nearly 12 million Iraqis had cast their ballots for a unified and democratic nation. The elections of 2005 were a stunning achievement. We thought that these elections would bring the Iraqis together, and that as we trained Iraqi security forces we could accomplish our mission with fewer American troops.\n",
      "But in 2006, the opposite happened. The violence in Iraq -- particularly in Baghdad -- overwhelmed the political gains the Iraqis had made. Al Qaeda terrorists and Sunni insurgents recognized the mortal danger that Iraq's elections posed for their cause, and they responded with outrageous acts of murder aimed at innocent Iraqis. They blew up one of the holiest shrines in Shia Islam -- the Golden Mosque of Samarra -- in a calculated effort to provoke Iraq's Shia population to retaliate. Their strategy worked. Radical Shia elements, some supported by Iran, formed death squads. And the result was a vicious cycle of sectarian violence that continues today.\n",
      "The situation in Iraq is unacceptable to the American people -- and it is unacceptable to me. Our troops in Iraq have fought bravely. They have done everything we have asked them to do. Where mistakes have been made, the responsibility rests with me.\n",
      "It is clear that we need to change our strategy in Iraq. So my national security team, military commanders, and diplomats conducted a comprehensive review. We consulted members of Congress from both parties, our allies abroad, and distinguished outside experts. We benefitted from the thoughtful recommendations of the Iraq Study Group, a bipartisan panel led by former Secretary of State James Baker and former Congressman Lee Hamilton. In our discussions, we all agreed that there is no magic formula for success in Iraq. And one message came through loud and clear: Failure in Iraq would be a disaster for the United States.\n",
      "The consequences of failure are clear: Radical Islamic extremists would grow in strength and gain new recruits. They would be in a better position to topple moderate governments, create chaos in the region, and use oil revenues to fund their ambitions. Iran would be emboldened in its pursuit of nuclear weapons. Our enemies would have a safe haven from which to plan and launch attacks on the American people. On September the 11th, 2001, we saw what a refuge for extremists on the other side of the world could bring to the streets of our own cities. For the safety of our people, America must succeed in Iraq.\n",
      "The most urgent priority for success in Iraq is security, especially in Baghdad. Eighty percent of Iraq's sectarian violence occurs within 30 miles of the capital. This violence is splitting Baghdad into sectarian enclaves, and shaking the confidence of all Iraqis. Only Iraqis can end the sectarian violence and secure their people. And their government has put forward an aggressive plan to do it.\n",
      "Our past efforts to secure Baghdad failed for two principal reasons: There were not enough Iraqi and American troops to secure neighborhoods that had been cleared of terrorists and insurgents. And there were too many restrictions on the troops we did have. Our military commanders reviewed the new Iraqi plan to ensure that it addressed these mistakes. They report that it does. They also report that this plan can work.\n",
      "Now let me explain the main elements of this effort: The Iraqi government will appoint a military commander and two deputy commanders for their capital. The Iraqi government will deploy Iraqi Army and National Police brigades across Baghdad's nine districts. When these forces are fully deployed, there will be 18 Iraqi Army and National Police brigades committed to this effort, along with local police. These Iraqi forces will operate from local police stations -- conducting patrols and setting up checkpoints, and going door-to-door to gain the trust of Baghdad residents.\n",
      "This is a strong commitment. But for it to succeed, our commanders say the Iraqis will need our help. So America will change our strategy to help the Iraqis carry out their campaign to put down sectarian violence and bring security to the people of Baghdad. This will require increasing American force levels. So I've committed more than 20,000 additional American troops to Iraq. The vast majority of them -- five brigades -- will be deployed to Baghdad. These troops will work alongside Iraqi units and be embedded in their formations. Our troops will have a well-defined mission: to help Iraqis clear and secure neighborhoods, to help them protect the local population, and to help ensure that the Iraqi forces left behind are capable of providing the security that Baghdad needs.\n",
      "Many listening tonight will ask why this effort will succeed when previous operations to secure Baghdad did not. Well, here are the differences: In earlier operations, Iraqi and American forces cleared many neighborhoods of terrorists and insurgents, but when our forces moved on to other targets, the killers returned. This time, we'll have the force levels we need to hold the areas that have been cleared. In earlier operations, political and sectarian interference prevented Iraqi and American forces from going into neighborhoods that are home to those fueling the sectarian violence. This time, Iraqi and American forces will have a green light to enter those neighborhoods -- and Prime Minister Maliki has pledged that political or sectarian interference will not be tolerated.\n",
      "I've made it clear to the Prime Minister and Iraq's other leaders that America's commitment is not open-ended. If the Iraqi government does not follow through on its promises, it will lose the support of the American people -- and it will lose the support of the Iraqi people. Now is the time to act. The Prime Minister understands this. Here is what he told his people just last week: \"The Baghdad security plan will not provide a safe haven for any outlaws, regardless of [their] sectarian or political affiliation.\"\n",
      "This new strategy will not yield an immediate end to suicide bombings, assassinations, or IED attacks. Our enemies in Iraq will make every effort to ensure that our television screens are filled with images of death and suffering. Yet over time, we can expect to see Iraqi troops chasing down murderers, fewer brazen acts of terror, and growing trust and cooperation from Baghdad's residents. When this happens, daily life will improve, Iraqis will gain confidence in their leaders, and the government will have the breathing space it needs to make progress in other critical areas. Most of Iraq's Sunni and Shia want to live together in peace -- and reducing the violence in Baghdad will help make reconciliation possible.\n",
      "A successful strategy for Iraq goes beyond military operations. Ordinary Iraqi citizens must see that military operations are accompanied by visible improvements in their neighborhoods and communities. So America will hold the Iraqi government to the benchmarks it has announced.\n",
      "To establish its authority, the Iraqi government plans to take responsibility for security in all of Iraq's provinces by November. To give every Iraqi citizen a stake in the country's economy, Iraq will pass legislation to share oil revenues among all Iraqis. To show that it is committed to delivering a better life, the Iraqi government will spend $10 billion of its own money on reconstruction and infrastructure projects that will create new jobs. To empower local leaders, Iraqis plan to hold provincial elections later this year. And to allow more Iraqis to re-enter their nation's political life, the government will reform de-Baathification laws, and establish a fair process for considering amendments to Iraq's constitution.\n",
      "America will change our approach to help the Iraqi government as it works to meet these benchmarks. In keeping with the recommendations of the Iraq Study Group, we will increase the embedding of American advisers in Iraqi Army units, and partner a coalition brigade with every Iraqi Army division. We will help the Iraqis build a larger and better-equipped army, and we will accelerate the training of Iraqi forces, which remains the essential U.S. security mission in Iraq. We will give our commanders and civilians greater flexibility to spend funds for economic assistance. We will double the number of provincial reconstruction teams. These teams bring together military and civilian experts to help local Iraqi communities pursue reconciliation, strengthen the moderates, and speed the transition to Iraqi self-reliance. And Secretary Rice will soon appoint a reconstruction coordinator in Baghdad to ensure better results for economic assistance being spent in Iraq.\n",
      "As we make these changes, we will continue to pursue al Qaeda and foreign fighters. Al Qaeda is still active in Iraq. Its home base is Anbar Province. Al Qaeda has helped make Anbar the most violent area of Iraq outside the capital. A captured al Qaeda document describes the terrorists' plan to infiltrate and seize control of the province. This would bring al Qaeda closer to its goals of taking down Iraq's democracy, building a radical Islamic empire, and launching new attacks on the United States at home and abroad.\n",
      "Our military forces in Anbar are killing and capturing al Qaeda leaders, and they are protecting the local population. Recently, local tribal leaders have begun to show their willingness to take on al Qaeda. And as a result, our commanders believe we have an opportunity to deal a serious blow to the terrorists. So I have given orders to increase American forces in Anbar Province by 4,000 troops. These troops will work with Iraqi and tribal forces to keep up the pressure on the terrorists. America's men and women in uniform took away al Qaeda's safe haven in Afghanistan -- and we will not allow them to re-establish it in Iraq.\n",
      "Succeeding in Iraq also requires defending its territorial integrity and stabilizing the region in the face of extremist challenges. This begins with addressing Iran and Syria. These two regimes are allowing terrorists and insurgents to use their territory to move in and out of Iraq. Iran is providing material support for attacks on American troops. We will disrupt the attacks on our forces. We'll interrupt the flow of support from Iran and Syria. And we will seek out and destroy the networks providing advanced weaponry and training to our enemies in Iraq.\n",
      "We're also taking other steps to bolster the security of Iraq and protect American interests in the Middle East. I recently ordered the deployment of an additional carrier strike group to the region. We will expand intelligence-sharing and deploy Patriot air defense systems to reassure our friends and allies. We will work with the governments of Turkey and Iraq to help them resolve problems along their border. And we will work with others to prevent Iran from gaining nuclear weapons and dominating the region.\n",
      "We will use America's full diplomatic resources to rally support for Iraq from nations throughout the Middle East. Countries like Saudi Arabia, Egypt, Jordan, and the Gulf States need to understand that an American defeat in Iraq would create a new sanctuary for extremists and a strategic threat to their survival. These nations have a stake in a successful Iraq that is at peace with its neighbors, and they must step up their support for Iraq's unity government. We endorse the Iraqi government's call to finalize an International Compact that will bring new economic assistance in exchange for greater economic reform. And on Friday, Secretary Rice will leave for the region, to build support for Iraq and continue the urgent diplomacy required to help bring peace to the Middle East.\n",
      "The challenge playing out across the broader Middle East is more than a military conflict. It is the decisive ideological struggle of our time. On one side are those who believe in freedom and moderation. On the other side are extremists who kill the innocent, and have declared their intention to destroy our way of life. In the long run, the most realistic way to protect the American people is to provide a hopeful alternative to the hateful ideology of the enemy, by advancing liberty across a troubled region. It is in the interests of the United States to stand with the brave men and women who are risking their lives to claim their freedom, and to help them as they work to raise up just and hopeful societies across the Middle East.\n",
      "From Afghanistan to Lebanon to the Palestinian Territories, millions of ordinary people are sick of the violence, and want a future of peace and opportunity for their children. And they are looking at Iraq. They want to know: Will America withdraw and yield the future of that country to the extremists, or will we stand with the Iraqis who have made the choice for freedom?\n",
      "The changes I have outlined tonight are aimed at ensuring the survival of a young democracy that is fighting for its life in a part of the world of enormous importance to American security. Let me be clear: The terrorists and insurgents in Iraq are without conscience, and they will make the year ahead bloody and violent. Even if our new strategy works exactly as planned, deadly acts of violence will continue -- and we must expect more Iraqi and American casualties. The question is whether our new strategy will bring us closer to success. I believe that it will.\n",
      "Victory will not look like the ones our fathers and grandfathers achieved. There will be no surrender ceremony on the deck of a battleship. But victory in Iraq will bring something new in the Arab world -- a functioning democracy that polices its territory, upholds the rule of law, respects fundamental human liberties, and answers to its people. A democratic Iraq will not be perfect. But it will be a country that fights terrorists instead of harboring them -- and it will help bring a future of peace and security for our children and our grandchildren.\n",
      "This new approach comes after consultations with Congress about the different courses we could take in Iraq. Many are concerned that the Iraqis are becoming too dependent on the United States, and therefore, our policy should focus on protecting Iraq's borders and hunting down al Qaeda. Their solution is to scale back America's efforts in Baghdad -- or announce the phased withdrawal of our combat forces. We carefully considered these proposals. And we concluded that to step back now would force a collapse of the Iraqi government, tear the country apart, and result in mass killings on an unimaginable scale. Such a scenario would result in our troops being forced to stay in Iraq even longer, and confront an enemy that is even more lethal. If we increase our support at this crucial moment, and help the Iraqis break the current cycle of violence, we can hasten the day our troops begin coming home.\n",
      "In the days ahead, my national security team will fully brief Congress on our new strategy. If members have improvements that can be made, we will make them. If circumstances change, we will adjust. Honorable people have different views, and they will voice their criticisms. It is fair to hold our views up to scrutiny. And all involved have a responsibility to explain how the path they propose would be more likely to succeed.\n",
      "Acting on the good advice of Senator Joe Lieberman and other key members of Congress, we will form a new, bipartisan working group that will help us come together across party lines to win the war on terror. This group will meet regularly with me and my administration; it will help strengthen our relationship with Congress. We can begin by working together to increase the size of the active Army and Marine Corps, so that America has the Armed Forces we need for the 21st century. We also need to examine ways to mobilize talented American civilians to deploy overseas, where they can help build democratic institutions in communities and nations recovering from war and tyranny.\n",
      "In these dangerous times, the United States is blessed to have extraordinary and selfless men and women willing to step forward and defend us. These young Americans understand that our cause in Iraq is noble and necessary -- and that the advance of freedom is the calling of our time. They serve far from their families, who make the quiet sacrifices of lonely holidays and empty chairs at the dinner table. They have watched their comrades give their lives to ensure our liberty. We mourn the loss of every fallen American -- and we owe it to them to build a future worthy of their sacrifice.\n",
      "Fellow citizens: The year ahead will demand more patience, sacrifice, and resolve. It can be tempting to think that America can put aside the burdens of freedom. Yet times of testing reveal the character of a nation. And throughout our history, Americans have always defied the pessimists and seen our faith in freedom redeemed. Now America is engaged in a new struggle that will set the course for a new century. We can, and we will, prevail.\n",
      "We go forward with trust that the Author of Liberty will guide us through these trying hours. Thank you and good night.\n",
      "\n"
     ]
    }
   ],
   "source": [
    "inner_div = soup.find('div', class_='transcript-inner')\n",
    "if inner_div:\n",
    "    text_inside_div = str(inner_div.text)\n",
    "print(text_inside_div)"
   ]
  },
  {
   "cell_type": "code",
   "execution_count": 17,
   "metadata": {},
   "outputs": [],
   "source": [
    "text_inside_div = text_inside_div.replace(\"Transcript\",\"\")\n",
    "GB_Jan2007 = text_inside_div"
   ]
  },
  {
   "cell_type": "markdown",
   "metadata": {},
   "source": [
    "### Bush - Remarks on the War on Terror: March 19th 2008"
   ]
  },
  {
   "cell_type": "code",
   "execution_count": 18,
   "metadata": {},
   "outputs": [],
   "source": [
    "transcript_url = 'https://millercenter.org/the-presidency/presidential-speeches/march-19-2008-remarks-war-terror'\n",
    "response = requests.get(transcript_url)\n",
    "soup = BeautifulSoup(response.content, 'html.parser')"
   ]
  },
  {
   "cell_type": "code",
   "execution_count": 19,
   "metadata": {},
   "outputs": [
    {
     "name": "stdout",
     "output_type": "stream",
     "text": [
      "\n",
      "Transcript\n",
      "Thank you all. Deputy Secretary England, thanks for the introduction. One boss may not be here, but the other one is. [Laughter] I appreciate your kind words. I'm pleased to be back here with the men and women of the Defense Department.\n",
      "On this day in 2003, the United States began Operation Iraqi Freedom. As the campaign unfolded, tens and thousands of our troops poured across the Iraqi border to liberate the Iraqi people and remove a regime that threatened free nations.\n",
      "Five years into this battle, there is an understandable debate over whether the war was worth fighting; whether the fight is worth winning; and whether we can win it. The answers are clear to me: Removing Saddam Hussein from power was the right decision, and this is a fight America can and must win.\n",
      "The men and women who crossed into Iraq 5 years ago removed a tyrant, liberated a country, and rescued millions from unspeakable horrors. Some of those troops are with us today, and you need to know that the American people are proud of your accomplishment, and so is the Commander in Chief.\n",
      "I appreciate Admiral Mullen, the Joint Chiefs who are here. Thanks for coming. Secretary Donald Winter of the Navy; Deputy Secretary of State John Negroponte is with us. Admiral Thad Allen of the Coast Guard is with us. Ambassador from Iraq is with us; Mr. Ambassador, we're proud to have you here. Soldiers, sailors, marines, airmen, and coast men—coast guard men, thanks for coming; thanks for wearing the uniform. Men and women of the Department of State are here as well.\n",
      "Operation Iraqi Freedom was a remarkable display of military effectiveness. Forces from the UK, Australia, Poland, and other allies joined our troops in the initial operations. As they advanced, our troops fought their way through sandstorms so intense that they blackened the daytime sky. Our troops engaged in pitched battles with Fedayeen Saddam, death squads acting on the orders of Saddam Hussein, that obeyed neither the conventions of war nor the dictates of conscience. These death squads hid in schools, and they hid in hospitals, hoping to draw fire against Iraqi civilians. They used women and children as human shields. They stopped at nothing in their efforts to prevent us from prevailing, but they couldn't stop the coalition advance.\n",
      "Aided by the most effective and precise air campaign in history, coalition forces raced across 350 miles of enemy territory, destroying Republican Guard divisions, pushing through the Karbala Gap, capturing Saddam International Airport, and liberating Baghdad in less than 1 month.\n",
      "Along the way, our troops added new chapters to the story of American military heroism. During these first weeks of battle, Army Sergeant First Class Paul Ray Smith and his troops came under a surprise attack by about a hundred Republican Guard forces. Sergeant Smith rallied his men. He led a counterattack, killing as many as 50 enemy soldiers before being fatally wounded. His actions saved the lives of more than a hundred American troops and earned him the Medal of Honor.\n",
      "Today, in light of the challenges we have faced in Iraq, some look back at this period as the easy part of the war. Yet there was nothing easy about it. The liberation of Iraq took incredible skill and amazing courage. And the speed, precision, and brilliant execution of the campaign will be studied by military historians for years to come.\n",
      "What our troops found in Iraq following Saddam's removal was horrifying. They uncovered children's prisons and torture chambers and rape rooms where Iraqi women were violated in front of their families. They found videos showing regime thugs mutilating Iraqis deemed disloyal to Saddam. And across the Iraqi countryside, they uncovered mass graves of thousands executed by the regime.\n",
      "Because we acted, Saddam Hussein no longer fills fields with the remains of innocent men, women, and children. Because we acted, Saddam's torture chambers and rape rooms and children's prisons have been closed for good. Because we acted, Saddam's regime is no longer invading its neighbors or attacking them with chemical weapons and ballistic missiles. Because we acted, Saddam's regime is no longer paying the families of suicide bombers in the Holy Land. Because we acted, Saddam's regime is no longer shooting at American and British aircraft patrolling the no-fly zones and defying the will of the United Nations. Because we acted, the world is better and United States of America is safer.\n",
      "When the Iraqi regime was removed, it did not lay down its arms and surrender. Instead, former regime elements took off their uniforms and faded into the countryside to fight the emergence of a free Iraq. And then they were joined by foreign terrorists who were seeking to stop the advance of liberty in the Middle East and seeking to establish safe havens from which to plot new attacks across the world.\n",
      "The battle in Iraq has been longer and harder and more costly than we anticipated, but it is a fight we must win. So our troops have engaged these enemies with courage and determination. And as they've battled the terrorists and extremists in Iraq, they have helped the Iraqi people reclaim their nation and helped a young democracy rise from the rubble of Saddam Hussein's tyranny.\n",
      "Over the past 5 years, we have seen moments of triumph and moments of tragedy. We have watched in admiration as 12 million Iraqis defied the terrorists and went to the polls and chose their leaders in free elections. We watched in horror as Al Qaida beheaded innocent captives and sent suicide bombers to blow up mosques and markets. These actions show the brutal nature of the enemy in Iraq, and they serve as a grim reminder. The terrorists who murder the innocent in the streets of Baghdad want to murder the innocent in the streets of America. Defeating this enemy in Iraq will make it less likely that we will face the enemy here at home.\n",
      "A little over a year ago, the fight in Iraq was faltering. Extremist elements were succeeding in their efforts to plunge Iraq into chaos. They had established safe havens in many parts of the country. They were creating divisions among the Iraqis along sectarian lines. And their strategy of using violence in Iraq to cause divisions in America was working as pressures built here in Washington for withdrawal before the job was done.\n",
      "My administration understood that America could not retreat in the face of terror. And we knew that if we did not act, the violence that had been consuming Iraq would worsen and spread and could eventually reach genocidal levels. Baghdad could have disintegrated into a contagion of killing, and Iraq could have descended into full-blown sectarian warfare.\n",
      "So we reviewed the strategy and changed course in Iraq. We sent reinforcements into the country in a dramatic policy shift that is now known as the surge. General David Petraeus took command with a new mission: Work with Iraqi forces to protect the Iraqi people; pressure the enemy into strongholds; and deny the terrorists sanctuary anywhere in the country. And that is precisely what we have done.\n",
      "In Anbar, Sunni tribal leaders had grown tired of Al Qaida's brutality and started a popular uprising called the Anbar Awakening. To take advantage of this opportunity, we sent 4,000 additional marines to help these brave Iraqis drive Al Qaida from the Province. As this effort succeeded, it inspired other Iraqis to take up the fight. Soon similar uprisings began to spread across the country. Today, there are more than 90,000 concerned local citizens who are protecting their communities from the terrorists and insurgents and the extremists. The Government in Baghdad has stepped forward with a surge of its own; they've added more than 100,000 new Iraqi soldiers and police during the past year. These Iraqi troops have fought bravely, and thousands have given their lives in this struggle.\n",
      "Together, these Americans and Iraqi forces have driven the terrorists from many of the sanctuaries they once held. Now the terrorists have gathered in and around the northern Iraqi city of Mosul, and Iraqi and American forces are relentlessly pursuing them. There will be tough fighting in Mosul and areas of northern Iraq in the weeks ahead. But there's no doubt in my mind, because of the courage of our troops and the bravery of the Iraqis, the Al Qaida terrorists in this region will suffer the same fate as Al Qaida suffered elsewhere in Iraq.\n",
      "As we have fought Al Qaida, coalition and Iraqi forces have also taken the fight to Shi'a extremist groups, many of them backed and financed and armed by Iran. A year ago, these groups were on the rise. Today, they are increasingly isolated, and Iraqis of all faiths are putting their lives on the line to stop these extremists from hijacking their young democracy.\n",
      "To ensure that military progress in Iraq is quickly followed up with real improvements in daily life, we have doubled the number of Provincial Reconstruction Teams in Iraq. These teams of civilian experts are serving all Iraqi—18 Iraqi Provinces, and they're helping to strengthen responsible leaders and build up local economies and bring Iraqis together, so that reconciliation can happen from the ground up. They're very effective. They're helping give ordinary Iraqis confidence that by rejecting the extremists and reconciling with one another, they can claim their place in a free Iraq and build better lives for their families.\n",
      "There's still hard work to be done in Iraq. The gains we have made are fragile and reversible. But on this anniversary, the American people should know that since the surge began, the level of violence is significantly down, civilian deaths are down, sectarian killings are down, attacks on American forces are down. We have captured or killed thousands of extremists in Iraq, including hundreds of key Al Qaida leaders and operatives. Our men and women in uniform are performing with characteristic honor and valor. The surge is working. And as a return on our success in Iraq, we've begun bringing some of our troops home.\n",
      "The surge has done more than turn the situation in Iraq around, it has opened the door to a major strategic victory in the broader war on terror. For the terrorists, Iraq was supposed to be the place where Al Qaida rallied Arab masses to drive America out. Instead, Iraq has become the place where Arabs joined with Americans to drive Al Qaida out. In Iraq, we are witnessing the first large-scale Arab uprising against Osama bin Laden, his grim ideology, and his murderous network. And the significance of this development cannot be overstated.\n",
      "The terrorist movement feeds on a sense of inevitability and claims to rise on the tide of history. The accomplishments of the surge in Iraq are exposing this myth and discrediting the extremists. When Iraqi and American forces finish the job, the effects will reverberate far beyond Iraq's borders. Usama bin Laden once said: \"When people see a strong horse and a weak horse, by nature they will like the strong horse.\" By defeating Al Qaida in Iraq, we will show the world that Al Qaida is the weak horse. We will show that men and women who love liberty can defeat the terrorists. And we will show that the future of the Middle East does not belong to terror. The future of the Middle East belongs to freedom.\n",
      "The challenge in this period ahead is to consolidate the gains we have made and seal the extremists' defeat. We have learned through hard experience what happens when we pull our forces back too fast; the terrorists and extremists step in, they fill vacuums, establish safe havens, and use them to spread chaos and carnage. General Petraeus has warned that too fast a drawdown could result in such an unraveling with Al Qaida and insurgents and militia extremists regaining lost ground and increasing violence.\n",
      "Men and women of the Armed Forces: Having come so far and achieved so much, we're not going to let this to happen.\n",
      "Next month, General Petraeus and Ambassador Crocker will come to Washington to testify before Congress. I will await their recommendations before making decisions on our troop levels in Iraq. Any further drawdown will be based on conditions on the ground and the recommendations of our commanders. And they must not jeopardize the hard-fought gains our troops and civilians have made over the past year.\n",
      "Successes we are seeing in Iraq are undeniable, yet some in Washington still call for retreat. War critics can no longer credibly argue that we're losing in Iraq, so they now argue the war costs too much. In recent months, we've heard exaggerated amounts of the costs of this war. No one are—would argue that this war has not come at a high cost in lives and treasure; but those costs are necessary when we consider the cost of a strategic victory for our enemies in Iraq.\n",
      "If we were to allow our enemies to prevail in Iraq, the violence that is now declining would accelerate, and Iraq would descend into chaos. Al Qaida would regain its lost sanctuaries and establish new ones, fomenting violence and terror that could spread beyond Iraq's borders, with serious consequences for the world's economy.\n",
      "Out of such chaos in Iraq, the terrorist movement could emerge emboldened, with new recruits, new resources, and an even greater determination to dominate the region and harm America. An emboldened Al Qaida with access to Iraq's oil resources could pursue its ambitions to acquire weapons of mass destruction to attack America and other free nations. Iran would be emboldened as well, with a renewed determination to develop nuclear weapons and impose its brand of hegemony across the Middle East. Our enemies would see an America—an American failure in Iraq as evidence of weakness and a lack of resolve.\n",
      "To allow this to happen would be to ignore the lessons of September the 11th and make it more likely that America would suffer another attack like the one we experienced that day; a day in which 19 armed men with box cutters killed nearly 3,000 people in our—on our soil; a day after which, in the following of that attack, more than a million Americans lost work, lost their jobs. The terrorists intend even greater harm to our country. And we have no greater responsibility than to defeat our enemies across the world so that they cannot carry out such an attack.\n",
      "As our coalition fights the enemy in Iraq, we've stayed on the offensive on other fronts in the war on terror. You know, just a few weeks after commencing Operation Iraqi Freedom, U.S. forces captured Khalid Sheikh Mohammed, the mastermind behind the September the 11th terrorist attacks; we got him in Pakistan. About the same time as we launched Operation Iraqi Freedom, coalition forces thousands of—hundreds of miles away launched an assault on the terrorists in the mountains of southern Afghanistan in an operation called Operation Valiant Strike.\n",
      "Throughout the war on terror, we have brought the enemy—we have fought the enemy on every single battlefront. And so long as terrorist danger remains, the United States of America will continue to fight the enemy wherever it makes its stand.\n",
      "We will stay on the offense. But in the long run, defeating the terrorists requires an alternative to their murderous ideology. And there we have another advantage. We've got a singular advantage with our military when it comes to finding the terrorists and bringing them to justice. And we have another advantage in our strong belief in the transformative power of liberty.\n",
      "So we're helping the people of Iraq establish a democracy in the heart of the Middle East. A free Iraq will fight terrorists instead of harboring them. A free Iraq will be an example for others of the power of liberty to change the societies and to displace despair with hope. By spreading the hope of liberty in the Middle East, we will help free societies take root. And when they do, freedom will yield the peace that we all desire.\n",
      "Our troops on the frontlines understand what is at stake. They know that the mission in Iraq has been difficult and has been trying for our Nation, because they're the ones who've carried most of the burdens. They're all volunteers who have stepped forward to defend America in a time of danger. Some of them have gone out of their way to return to the fight.\n",
      "One of these brave Americans is a Marine Gunnery Sergeant named William \"Spanky\" Gibson. In May of 2006 in Ramadi, a terrorist sniper's bullet ripped through his left knee; doctors then amputated his leg. After months of difficult rehabilitation, Spanky was not only walking, he was training for triathlons.\n",
      "Last year, at the Escape from Alcatraz swim near San Francisco, he met Marine General James Mattis, who asked if there's anything he could do for him. Spanky had just one request: He asked to redeploy to Iraq. Today, he's serving in Fallujah, the first full-leg amputee to return to the frontlines. Here's what he says about his decision to return: \"The Iraqis where—are where we were 232 years ago as a nation. Now they're starting a new nation, and that's one of my big reasons for coming back here. I wanted to tell the people of this country that I'm back to help wherever I can.\"\n",
      "When Americans like Spanky Gibson serve on our side, the enemy in Iraq doesn't got a chance. We're grateful to all the brave men and women of our military who have served the cause of freedom. You've done the hard work, far from home and far from your loved ones. We give thanks for all our military families who love you and have supported you in this mission.\n",
      "We appreciate the fine civilians from many Departments who serve alongside you. Many of you served in Iraq and Afghanistan, and some have been on these fronts several times. You will never forget the people who fought at your side. You will always remember the comrades who served with you in combat but did not make the journey home. America remembers them as well. More than 4,400 men and women have given their lives in the war on terror. We'll pray for their families. We'll always honor their memory.\n",
      "The best way we can honor them is by making sure that their sacrifice was not in vain. Five years ago tonight, I promised the American people that in the struggle ahead, \"we will accept no outcome but victory.\" Today, standing before men and women who helped liberate a nation, I reaffirm the commitment. The battle in Iraq is noble; it is necessary; and it is just. And with your courage, the battle in Iraq will end in victory. God bless.\n",
      "\n"
     ]
    }
   ],
   "source": [
    "inner_div = soup.find('div', class_='transcript-inner')\n",
    "if inner_div:\n",
    "    text_inside_div = str(inner_div.text)\n",
    "print(text_inside_div)"
   ]
  },
  {
   "cell_type": "code",
   "execution_count": 20,
   "metadata": {},
   "outputs": [],
   "source": [
    "text_inside_div = text_inside_div.replace(\"Transcript\",\"\")\n",
    "GB_Mar2008 = text_inside_div"
   ]
  },
  {
   "cell_type": "markdown",
   "metadata": {},
   "source": [
    "## Transcript Sentence Tokenization"
   ]
  },
  {
   "cell_type": "code",
   "execution_count": 21,
   "metadata": {},
   "outputs": [],
   "source": [
    "GB_Mar2003_df = fnc.transcript_transform(GB_Mar2003)\n",
    "GB_Nov2003_df = fnc.transcript_transform(GB_Nov2003)\n",
    "GB_Jul2004_df = fnc.transcript_transform(GB_Jul2004)\n",
    "GB_Dec2005_df = fnc.transcript_transform(GB_Dec2005)\n",
    "GB_Jan2007_df = fnc.transcript_transform(GB_Jan2007)\n",
    "GB_Mar2008_df = fnc.transcript_transform(GB_Mar2008)"
   ]
  },
  {
   "cell_type": "code",
   "execution_count": 22,
   "metadata": {},
   "outputs": [],
   "source": [
    "GB_Mar2003_df.to_pickle(\"Bush Speeches Raw/GB_Mar2003_df.pkl\")\n",
    "GB_Nov2003_df.to_pickle(\"Bush Speeches Raw/GB_Nov2002_df.pkl\")\n",
    "GB_Jul2004_df.to_pickle(\"Bush Speeches Raw/GB_Jul2004_df.pkl\")\n",
    "GB_Dec2005_df.to_pickle(\"Bush Speeches Raw/GB_Dec2005_df.pkl\")\n",
    "GB_Jan2007_df.to_pickle(\"Bush Speeches Raw/GB_Jan2007_df.pkl\")\n",
    "GB_Mar2008_df.to_pickle(\"Bush Speeches Raw/GB_Mar2008_df.pkl\")"
   ]
  },
  {
   "cell_type": "markdown",
   "metadata": {},
   "source": [
    "---"
   ]
  }
 ],
 "metadata": {
  "kernelspec": {
   "display_name": "rainbow",
   "language": "python",
   "name": "python3"
  },
  "language_info": {
   "codemirror_mode": {
    "name": "ipython",
    "version": 3
   },
   "file_extension": ".py",
   "mimetype": "text/x-python",
   "name": "python",
   "nbconvert_exporter": "python",
   "pygments_lexer": "ipython3",
   "version": "3.10.12"
  },
  "orig_nbformat": 4
 },
 "nbformat": 4,
 "nbformat_minor": 2
}
