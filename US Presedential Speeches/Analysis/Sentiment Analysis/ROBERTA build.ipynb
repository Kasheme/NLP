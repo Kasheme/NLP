{
 "cells": [
  {
   "cell_type": "markdown",
   "metadata": {},
   "source": [
    "# Sentiment Analysis - ROBERTA method"
   ]
  },
  {
   "cell_type": "code",
   "execution_count": 1,
   "metadata": {},
   "outputs": [],
   "source": [
    "# import modules\n",
    "import transformers\n",
    "from transformers import AutoTokenizer\n",
    "from transformers import AutoModelForSequenceClassification\n",
    "from scipy.special import softmax\n",
    "from tqdm.notebook import tqdm # makes loops show a progress bar"
   ]
  },
  {
   "cell_type": "code",
   "execution_count": 2,
   "metadata": {},
   "outputs": [],
   "source": [
    "# create tokenizer and model objects\n",
    "MODEL = f\"cardiffnlp/twitter-roberta-base-sentiment\"\n",
    "tokenizer = AutoTokenizer.from_pretrained(MODEL)\n",
    "model = AutoModelForSequenceClassification.from_pretrained(MODEL)"
   ]
  },
  {
   "cell_type": "code",
   "execution_count": 3,
   "metadata": {},
   "outputs": [],
   "source": [
    "def polarity_scores_roberta(example):\n",
    "    encoded_text = tokenizer(example, return_tensors='pt')\n",
    "    output = model(**encoded_text)\n",
    "    scores = output[0][0].detach().numpy()\n",
    "    scores = softmax(scores) # returns a numpy array\n",
    "    scores_dict = {\n",
    "        \"roberta_neg\": scores[0],\n",
    "        \"roberta_neu\": scores[1],\n",
    "        \"roberta_pos\": scores[2],\n",
    "    }\n",
    "    return scores_dict"
   ]
  },
  {
   "cell_type": "code",
   "execution_count": 6,
   "metadata": {},
   "outputs": [],
   "source": [
    "import pandas as pd\n",
    "df = pd.read_pickle(\"speech_topic_similarity.pkl\")"
   ]
  },
  {
   "cell_type": "code",
   "execution_count": 9,
   "metadata": {},
   "outputs": [],
   "source": [
    "df = df.reset_index()"
   ]
  },
  {
   "cell_type": "code",
   "execution_count": 11,
   "metadata": {},
   "outputs": [
    {
     "data": {
      "text/html": [
       "<div>\n",
       "<style scoped>\n",
       "    .dataframe tbody tr th:only-of-type {\n",
       "        vertical-align: middle;\n",
       "    }\n",
       "\n",
       "    .dataframe tbody tr th {\n",
       "        vertical-align: top;\n",
       "    }\n",
       "\n",
       "    .dataframe thead th {\n",
       "        text-align: right;\n",
       "    }\n",
       "</style>\n",
       "<table border=\"1\" class=\"dataframe\">\n",
       "  <thead>\n",
       "    <tr style=\"text-align: right;\">\n",
       "      <th></th>\n",
       "      <th>index</th>\n",
       "      <th>sentence</th>\n",
       "      <th>speech</th>\n",
       "      <th>president</th>\n",
       "      <th>speech_date</th>\n",
       "      <th>Regime change</th>\n",
       "      <th>Military Support</th>\n",
       "      <th>Fighting Al Qaeda</th>\n",
       "      <th>Democracy Promotion</th>\n",
       "      <th>Bolstering Iraqi Security Forces</th>\n",
       "      <th>Al Qaeda Downturn</th>\n",
       "      <th>Middle East Security</th>\n",
       "      <th>Freedom</th>\n",
       "      <th>Al Qaeda</th>\n",
       "      <th>Middle East Terrorism Threat</th>\n",
       "      <th>Religious Liberty</th>\n",
       "    </tr>\n",
       "  </thead>\n",
       "  <tbody>\n",
       "    <tr>\n",
       "      <th>0</th>\n",
       "      <td>0</td>\n",
       "      <td>Good afternoon.</td>\n",
       "      <td>Speech on the Drawdown of US Forces in Afghani...</td>\n",
       "      <td>Joe Biden</td>\n",
       "      <td>2021-07-01</td>\n",
       "      <td>0.091866</td>\n",
       "      <td>0.020608</td>\n",
       "      <td>-0.013549</td>\n",
       "      <td>0.012241</td>\n",
       "      <td>0.129675</td>\n",
       "      <td>0.121716</td>\n",
       "      <td>-0.019216</td>\n",
       "      <td>0.057875</td>\n",
       "      <td>-0.051857</td>\n",
       "      <td>0.021145</td>\n",
       "      <td>0.035125</td>\n",
       "    </tr>\n",
       "    <tr>\n",
       "      <th>1</th>\n",
       "      <td>1</td>\n",
       "      <td>Earlier today, I was briefed by our senior mil...</td>\n",
       "      <td>Speech on the Drawdown of US Forces in Afghani...</td>\n",
       "      <td>Joe Biden</td>\n",
       "      <td>2021-07-01</td>\n",
       "      <td>0.462341</td>\n",
       "      <td>0.170909</td>\n",
       "      <td>0.502308</td>\n",
       "      <td>0.706292</td>\n",
       "      <td>0.296541</td>\n",
       "      <td>0.224687</td>\n",
       "      <td>-0.120064</td>\n",
       "      <td>0.599147</td>\n",
       "      <td>-0.025133</td>\n",
       "      <td>0.397244</td>\n",
       "      <td>0.183778</td>\n",
       "    </tr>\n",
       "    <tr>\n",
       "      <th>2</th>\n",
       "      <td>2</td>\n",
       "      <td>When I announced our drawdown in April, I said...</td>\n",
       "      <td>Speech on the Drawdown of US Forces in Afghani...</td>\n",
       "      <td>Joe Biden</td>\n",
       "      <td>2021-07-01</td>\n",
       "      <td>0.164941</td>\n",
       "      <td>0.084289</td>\n",
       "      <td>0.384271</td>\n",
       "      <td>0.428225</td>\n",
       "      <td>0.433138</td>\n",
       "      <td>0.283634</td>\n",
       "      <td>0.486977</td>\n",
       "      <td>0.124019</td>\n",
       "      <td>0.236934</td>\n",
       "      <td>0.134657</td>\n",
       "      <td>0.774891</td>\n",
       "    </tr>\n",
       "    <tr>\n",
       "      <th>3</th>\n",
       "      <td>3</td>\n",
       "      <td>Our military mission in Afghanistan will concl...</td>\n",
       "      <td>Speech on the Drawdown of US Forces in Afghani...</td>\n",
       "      <td>Joe Biden</td>\n",
       "      <td>2021-07-01</td>\n",
       "      <td>0.294849</td>\n",
       "      <td>0.466644</td>\n",
       "      <td>0.720763</td>\n",
       "      <td>0.41306</td>\n",
       "      <td>0.481794</td>\n",
       "      <td>-0.027502</td>\n",
       "      <td>0.32805</td>\n",
       "      <td>0.036519</td>\n",
       "      <td>0.448192</td>\n",
       "      <td>0.367726</td>\n",
       "      <td>0.666796</td>\n",
       "    </tr>\n",
       "    <tr>\n",
       "      <th>4</th>\n",
       "      <td>4</td>\n",
       "      <td>The drawdown is proceeding in a secure and ord...</td>\n",
       "      <td>Speech on the Drawdown of US Forces in Afghani...</td>\n",
       "      <td>Joe Biden</td>\n",
       "      <td>2021-07-01</td>\n",
       "      <td>0.166568</td>\n",
       "      <td>0.59265</td>\n",
       "      <td>0.154344</td>\n",
       "      <td>-0.28015</td>\n",
       "      <td>0.251566</td>\n",
       "      <td>0.446406</td>\n",
       "      <td>-0.209066</td>\n",
       "      <td>0.491736</td>\n",
       "      <td>-0.196509</td>\n",
       "      <td>0.079829</td>\n",
       "      <td>-0.286824</td>\n",
       "    </tr>\n",
       "  </tbody>\n",
       "</table>\n",
       "</div>"
      ],
      "text/plain": [
       "   index                                           sentence  \\\n",
       "0      0                                    Good afternoon.   \n",
       "1      1  Earlier today, I was briefed by our senior mil...   \n",
       "2      2  When I announced our drawdown in April, I said...   \n",
       "3      3  Our military mission in Afghanistan will concl...   \n",
       "4      4  The drawdown is proceeding in a secure and ord...   \n",
       "\n",
       "                                              speech  president speech_date  \\\n",
       "0  Speech on the Drawdown of US Forces in Afghani...  Joe Biden  2021-07-01   \n",
       "1  Speech on the Drawdown of US Forces in Afghani...  Joe Biden  2021-07-01   \n",
       "2  Speech on the Drawdown of US Forces in Afghani...  Joe Biden  2021-07-01   \n",
       "3  Speech on the Drawdown of US Forces in Afghani...  Joe Biden  2021-07-01   \n",
       "4  Speech on the Drawdown of US Forces in Afghani...  Joe Biden  2021-07-01   \n",
       "\n",
       "  Regime change Military Support Fighting Al Qaeda Democracy Promotion  \\\n",
       "0      0.091866         0.020608         -0.013549            0.012241   \n",
       "1      0.462341         0.170909          0.502308            0.706292   \n",
       "2      0.164941         0.084289          0.384271            0.428225   \n",
       "3      0.294849         0.466644          0.720763             0.41306   \n",
       "4      0.166568          0.59265          0.154344            -0.28015   \n",
       "\n",
       "  Bolstering Iraqi Security Forces Al Qaeda Downturn Middle East Security  \\\n",
       "0                         0.129675          0.121716            -0.019216   \n",
       "1                         0.296541          0.224687            -0.120064   \n",
       "2                         0.433138          0.283634             0.486977   \n",
       "3                         0.481794         -0.027502              0.32805   \n",
       "4                         0.251566          0.446406            -0.209066   \n",
       "\n",
       "    Freedom  Al Qaeda Middle East Terrorism Threat Religious Liberty  \n",
       "0  0.057875 -0.051857                     0.021145          0.035125  \n",
       "1  0.599147 -0.025133                     0.397244          0.183778  \n",
       "2  0.124019  0.236934                     0.134657          0.774891  \n",
       "3  0.036519  0.448192                     0.367726          0.666796  \n",
       "4  0.491736 -0.196509                     0.079829         -0.286824  "
      ]
     },
     "execution_count": 11,
     "metadata": {},
     "output_type": "execute_result"
    }
   ],
   "source": [
    "df.head()"
   ]
  },
  {
   "cell_type": "code",
   "execution_count": 12,
   "metadata": {},
   "outputs": [
    {
     "data": {
      "application/vnd.jupyter.widget-view+json": {
       "model_id": "b48e7d83b30644ed899a8e440ac7af17",
       "version_major": 2,
       "version_minor": 0
      },
      "text/plain": [
       "  0%|          | 0/2293 [00:00<?, ?it/s]"
      ]
     },
     "metadata": {},
     "output_type": "display_data"
    }
   ],
   "source": [
    "results = {}\n",
    "for i, row in tqdm(df.iterrows(), total=len(df)):\n",
    "    try:\n",
    "        text = row['sentence']\n",
    "        rowid = row['index'] # make sure dataFrame has reset index \n",
    "        results[rowid] = polarity_scores_roberta(text) # apply function and store in results dictionary\n",
    "    except RuntimeError:\n",
    "        print(f\"Broke for id: {rowid}\") # catch row id if bad response\n",
    "\n",
    "results_df = pd.DataFrame(results).T"
   ]
  },
  {
   "cell_type": "code",
   "execution_count": 16,
   "metadata": {},
   "outputs": [],
   "source": [
    "final_df = pd.concat([df, results_df], axis=1)"
   ]
  },
  {
   "cell_type": "markdown",
   "metadata": {},
   "source": [
    "### Assess Results"
   ]
  },
  {
   "cell_type": "code",
   "execution_count": 41,
   "metadata": {},
   "outputs": [
    {
     "data": {
      "text/html": [
       "<div>\n",
       "<style scoped>\n",
       "    .dataframe tbody tr th:only-of-type {\n",
       "        vertical-align: middle;\n",
       "    }\n",
       "\n",
       "    .dataframe tbody tr th {\n",
       "        vertical-align: top;\n",
       "    }\n",
       "\n",
       "    .dataframe thead th {\n",
       "        text-align: right;\n",
       "    }\n",
       "</style>\n",
       "<table border=\"1\" class=\"dataframe\">\n",
       "  <thead>\n",
       "    <tr style=\"text-align: right;\">\n",
       "      <th></th>\n",
       "      <th>index</th>\n",
       "      <th>sentence</th>\n",
       "      <th>roberta_pos</th>\n",
       "    </tr>\n",
       "  </thead>\n",
       "  <tbody>\n",
       "    <tr>\n",
       "      <th>2127</th>\n",
       "      <td>2127</td>\n",
       "      <td>Well, thank you all very much for that warm welcome.</td>\n",
       "      <td>0.990416</td>\n",
       "    </tr>\n",
       "    <tr>\n",
       "      <th>2130</th>\n",
       "      <td>2130</td>\n",
       "      <td>I want to thank you for your warm welcome and thank you for inviting me to one of America's great institutions.</td>\n",
       "      <td>0.988278</td>\n",
       "    </tr>\n",
       "    <tr>\n",
       "      <th>449</th>\n",
       "      <td>449</td>\n",
       "      <td>Last night was a great night for the United States and for the World.</td>\n",
       "      <td>0.987943</td>\n",
       "    </tr>\n",
       "    <tr>\n",
       "      <th>1482</th>\n",
       "      <td>1482</td>\n",
       "      <td>Thanks for the warm welcome, and thanks for inviting me to join you in this 20th anniversary of the National Endowment for Democracy.</td>\n",
       "      <td>0.986391</td>\n",
       "    </tr>\n",
       "    <tr>\n",
       "      <th>1843</th>\n",
       "      <td>1843</td>\n",
       "      <td>I'm pleased to be back here with the men and women of the Defense Department.\\r</td>\n",
       "      <td>0.984813</td>\n",
       "    </tr>\n",
       "    <tr>\n",
       "      <th>447</th>\n",
       "      <td>447</td>\n",
       "      <td>You are the very best there is anywhere in the world.</td>\n",
       "      <td>0.984545</td>\n",
       "    </tr>\n",
       "    <tr>\n",
       "      <th>527</th>\n",
       "      <td>527</td>\n",
       "      <td>It's an extraordinary honor for me to do so here at West Point -- where so many men and women have prepared to stand up for our security, and to represent what is finest about our country.</td>\n",
       "      <td>0.984264</td>\n",
       "    </tr>\n",
       "    <tr>\n",
       "      <th>816</th>\n",
       "      <td>816</td>\n",
       "      <td>Thanks to our extraordinary men and women in uniform, our civilian personnel, and our many coalition partners, we are meeting our goals.</td>\n",
       "      <td>0.983580</td>\n",
       "    </tr>\n",
       "    <tr>\n",
       "      <th>445</th>\n",
       "      <td>445</td>\n",
       "      <td>Thank you as well to the great intelligence professionals who helped make this very successful journey possible.</td>\n",
       "      <td>0.981257</td>\n",
       "    </tr>\n",
       "    <tr>\n",
       "      <th>2146</th>\n",
       "      <td>2146</td>\n",
       "      <td>America is fortunate and I am proud to have ROTC graduate Colin Powell serving our country.</td>\n",
       "      <td>0.978353</td>\n",
       "    </tr>\n",
       "  </tbody>\n",
       "</table>\n",
       "</div>"
      ],
      "text/plain": [
       "      index  \\\n",
       "2127   2127   \n",
       "2130   2130   \n",
       "449     449   \n",
       "1482   1482   \n",
       "1843   1843   \n",
       "447     447   \n",
       "527     527   \n",
       "816     816   \n",
       "445     445   \n",
       "2146   2146   \n",
       "\n",
       "                                                                                                                                                                                          sentence  \\\n",
       "2127                                                                                                                                          Well, thank you all very much for that warm welcome.   \n",
       "2130                                                                               I want to thank you for your warm welcome and thank you for inviting me to one of America's great institutions.   \n",
       "449                                                                                                                          Last night was a great night for the United States and for the World.   \n",
       "1482                                                         Thanks for the warm welcome, and thanks for inviting me to join you in this 20th anniversary of the National Endowment for Democracy.   \n",
       "1843                                                                                                               I'm pleased to be back here with the men and women of the Defense Department.\\r   \n",
       "447                                                                                                                                          You are the very best there is anywhere in the world.   \n",
       "527   It's an extraordinary honor for me to do so here at West Point -- where so many men and women have prepared to stand up for our security, and to represent what is finest about our country.   \n",
       "816                                                       Thanks to our extraordinary men and women in uniform, our civilian personnel, and our many coalition partners, we are meeting our goals.   \n",
       "445                                                                               Thank you as well to the great intelligence professionals who helped make this very successful journey possible.   \n",
       "2146                                                                                                   America is fortunate and I am proud to have ROTC graduate Colin Powell serving our country.   \n",
       "\n",
       "      roberta_pos  \n",
       "2127     0.990416  \n",
       "2130     0.988278  \n",
       "449      0.987943  \n",
       "1482     0.986391  \n",
       "1843     0.984813  \n",
       "447      0.984545  \n",
       "527      0.984264  \n",
       "816      0.983580  \n",
       "445      0.981257  \n",
       "2146     0.978353  "
      ]
     },
     "execution_count": 41,
     "metadata": {},
     "output_type": "execute_result"
    }
   ],
   "source": [
    "pd.set_option('display.max_colwidth', 250)\n",
    "most_pos = final_df.sort_values(by=['roberta_pos'], ascending=False).loc[:,['index', 'sentence', 'speech', 'roberta_pos']]\n",
    "#most_pos = most_pos.style.set_properties(**{'text-align': 'left'})\n",
    "most_pos[[\"index\", \"sentence\", \"roberta_pos\"]].head(10)"
   ]
  },
  {
   "cell_type": "code",
   "execution_count": 42,
   "metadata": {},
   "outputs": [
    {
     "data": {
      "text/html": [
       "<div>\n",
       "<style scoped>\n",
       "    .dataframe tbody tr th:only-of-type {\n",
       "        vertical-align: middle;\n",
       "    }\n",
       "\n",
       "    .dataframe tbody tr th {\n",
       "        vertical-align: top;\n",
       "    }\n",
       "\n",
       "    .dataframe thead th {\n",
       "        text-align: right;\n",
       "    }\n",
       "</style>\n",
       "<table border=\"1\" class=\"dataframe\">\n",
       "  <thead>\n",
       "    <tr style=\"text-align: right;\">\n",
       "      <th></th>\n",
       "      <th>index</th>\n",
       "      <th>sentence</th>\n",
       "      <th>roberta_neg</th>\n",
       "    </tr>\n",
       "  </thead>\n",
       "  <tbody>\n",
       "    <tr>\n",
       "      <th>450</th>\n",
       "      <td>450</td>\n",
       "      <td>A brutal killer, one who has caused so much hardship and death, was violently eliminated – he will never again harm another innocent man, woman or child.</td>\n",
       "      <td>0.975585</td>\n",
       "    </tr>\n",
       "    <tr>\n",
       "      <th>433</th>\n",
       "      <td>433</td>\n",
       "      <td>Terrorists who oppress and murder innocent people should never sleep soundly, knowing that we will completely destroy them.</td>\n",
       "      <td>0.973434</td>\n",
       "    </tr>\n",
       "    <tr>\n",
       "      <th>1692</th>\n",
       "      <td>1692</td>\n",
       "      <td>The situation in Iraq is unacceptable to the American people -- and it is unacceptable to me.</td>\n",
       "      <td>0.973283</td>\n",
       "    </tr>\n",
       "    <tr>\n",
       "      <th>438</th>\n",
       "      <td>438</td>\n",
       "      <td>Baghdadi and the losers who worked with him – in some cases people who had no idea what they were getting into and how dangerous and unglamorous it was – killed many people.</td>\n",
       "      <td>0.971123</td>\n",
       "    </tr>\n",
       "    <tr>\n",
       "      <th>298</th>\n",
       "      <td>298</td>\n",
       "      <td>As the head of the Quds Force, Soleimani was personally responsible for some of the absolutely worst atrocities.</td>\n",
       "      <td>0.971071</td>\n",
       "    </tr>\n",
       "    <tr>\n",
       "      <th>364</th>\n",
       "      <td>364</td>\n",
       "      <td>As the head of the Quds Force, Soleimani was personally responsible for some of the absolutely worst atrocities.</td>\n",
       "      <td>0.971071</td>\n",
       "    </tr>\n",
       "    <tr>\n",
       "      <th>301</th>\n",
       "      <td>301</td>\n",
       "      <td>He viciously wounded and murdered thousands of U.S. troops, including the planting of roadside bombs that maim and dismember their victims.</td>\n",
       "      <td>0.969413</td>\n",
       "    </tr>\n",
       "    <tr>\n",
       "      <th>367</th>\n",
       "      <td>367</td>\n",
       "      <td>He viciously wounded and murdered thousands of U.S. troops, including the planting of roadside bombs that maim and dismember their victims.</td>\n",
       "      <td>0.969413</td>\n",
       "    </tr>\n",
       "    <tr>\n",
       "      <th>440</th>\n",
       "      <td>440</td>\n",
       "      <td>The shocking publicized murder of a Jordanian pilot who was burned alive in a cage for all to see, and the execution of Christians in Libya and Egypt, as well as the genocidal mass murder of Yazidis, rank ISIS among the most depraved organization...</td>\n",
       "      <td>0.968638</td>\n",
       "    </tr>\n",
       "    <tr>\n",
       "      <th>1964</th>\n",
       "      <td>1964</td>\n",
       "      <td>To allow this to happen would be to ignore the lessons of September the 11th and make it more likely that America would suffer another attack like the one we experienced that day; a day in which 19 armed men with box cutters killed nearly 3,000 p...</td>\n",
       "      <td>0.968636</td>\n",
       "    </tr>\n",
       "  </tbody>\n",
       "</table>\n",
       "</div>"
      ],
      "text/plain": [
       "      index  \\\n",
       "450     450   \n",
       "433     433   \n",
       "1692   1692   \n",
       "438     438   \n",
       "298     298   \n",
       "364     364   \n",
       "301     301   \n",
       "367     367   \n",
       "440     440   \n",
       "1964   1964   \n",
       "\n",
       "                                                                                                                                                                                                                                                       sentence  \\\n",
       "450                                                                                                   A brutal killer, one who has caused so much hardship and death, was violently eliminated – he will never again harm another innocent man, woman or child.   \n",
       "433                                                                                                                                 Terrorists who oppress and murder innocent people should never sleep soundly, knowing that we will completely destroy them.   \n",
       "1692                                                                                                                                                              The situation in Iraq is unacceptable to the American people -- and it is unacceptable to me.   \n",
       "438                                                                               Baghdadi and the losers who worked with him – in some cases people who had no idea what they were getting into and how dangerous and unglamorous it was – killed many people.   \n",
       "298                                                                                                                                            As the head of the Quds Force, Soleimani was personally responsible for some of the absolutely worst atrocities.   \n",
       "364                                                                                                                                            As the head of the Quds Force, Soleimani was personally responsible for some of the absolutely worst atrocities.   \n",
       "301                                                                                                                 He viciously wounded and murdered thousands of U.S. troops, including the planting of roadside bombs that maim and dismember their victims.   \n",
       "367                                                                                                                 He viciously wounded and murdered thousands of U.S. troops, including the planting of roadside bombs that maim and dismember their victims.   \n",
       "440   The shocking publicized murder of a Jordanian pilot who was burned alive in a cage for all to see, and the execution of Christians in Libya and Egypt, as well as the genocidal mass murder of Yazidis, rank ISIS among the most depraved organization...   \n",
       "1964  To allow this to happen would be to ignore the lessons of September the 11th and make it more likely that America would suffer another attack like the one we experienced that day; a day in which 19 armed men with box cutters killed nearly 3,000 p...   \n",
       "\n",
       "      roberta_neg  \n",
       "450      0.975585  \n",
       "433      0.973434  \n",
       "1692     0.973283  \n",
       "438      0.971123  \n",
       "298      0.971071  \n",
       "364      0.971071  \n",
       "301      0.969413  \n",
       "367      0.969413  \n",
       "440      0.968638  \n",
       "1964     0.968636  "
      ]
     },
     "execution_count": 42,
     "metadata": {},
     "output_type": "execute_result"
    }
   ],
   "source": [
    "pd.set_option('display.max_colwidth', 250)\n",
    "most_neg = final_df.sort_values(by=['roberta_neg'], ascending=False).loc[:,['index', 'sentence', 'speech', 'roberta_neg']]\n",
    "#most_neg = most_neg.style.set_properties(**{'text-align': 'left'})\n",
    "most_neg[[\"index\", \"sentence\", \"roberta_neg\"]].head(10)"
   ]
  },
  {
   "cell_type": "markdown",
   "metadata": {},
   "source": [
    "Both the roberta_pos and roberta_neg columns look sensible!"
   ]
  },
  {
   "cell_type": "markdown",
   "metadata": {},
   "source": [
    "### Final Amendments"
   ]
  },
  {
   "cell_type": "markdown",
   "metadata": {},
   "source": [
    "We might want to use various date formats for our speech date in the application. So let's get ahead and add those columns in now, to avoid making edits to our dataframe object in the application itself (as much as possible at least)."
   ]
  },
  {
   "cell_type": "code",
   "execution_count": 43,
   "metadata": {},
   "outputs": [],
   "source": [
    "import datetime as dt"
   ]
  },
  {
   "cell_type": "code",
   "execution_count": 56,
   "metadata": {},
   "outputs": [],
   "source": [
    "final_df['YearMonth'] = final_df['speech_date'].dt.strftime('%B %Y')"
   ]
  },
  {
   "cell_type": "code",
   "execution_count": 58,
   "metadata": {},
   "outputs": [
    {
     "data": {
      "text/plain": [
       "array(['July 2021', 'August 2021', 'December 2017', 'January 2020',\n",
       "       'October 2019', 'August 2014', 'December 2009', 'October 2011',\n",
       "       'June 2011', 'May 2011', 'November 2006', 'March 2003',\n",
       "       'November 2003', 'January 2007', 'March 2008', 'December 2005',\n",
       "       'July 2004'], dtype=object)"
      ]
     },
     "execution_count": 58,
     "metadata": {},
     "output_type": "execute_result"
    }
   ],
   "source": [
    "final_df['YearMonth'].unique()"
   ]
  },
  {
   "cell_type": "code",
   "execution_count": 60,
   "metadata": {},
   "outputs": [],
   "source": [
    "final_df['YRMNTH'] = final_df['YRMNTH'] = final_df['speech_date'].dt.year * 100 + final_df['speech_date'].dt.month "
   ]
  },
  {
   "cell_type": "code",
   "execution_count": 61,
   "metadata": {},
   "outputs": [
    {
     "data": {
      "text/plain": [
       "array([202107, 202108, 201712, 202001, 201910, 201408, 200912, 201110,\n",
       "       201106, 201105, 200611, 200303, 200311, 200701, 200803, 200512,\n",
       "       200407])"
      ]
     },
     "execution_count": 61,
     "metadata": {},
     "output_type": "execute_result"
    }
   ],
   "source": [
    "final_df['YRMNTH'].unique()"
   ]
  },
  {
   "cell_type": "markdown",
   "metadata": {},
   "source": [
    "Happy days!"
   ]
  },
  {
   "cell_type": "code",
   "execution_count": 63,
   "metadata": {},
   "outputs": [],
   "source": [
    "final_df.to_pickle(\"c:\\\\Users\\\\User\\\\OneDrive\\\\Documents\\\\GitHub\\\\NLP\\\\US Presedential Speeches\\\\final_df.pkl\")"
   ]
  },
  {
   "cell_type": "markdown",
   "metadata": {},
   "source": [
    "---"
   ]
  }
 ],
 "metadata": {
  "kernelspec": {
   "display_name": "snowflakes",
   "language": "python",
   "name": "python3"
  },
  "language_info": {
   "codemirror_mode": {
    "name": "ipython",
    "version": 3
   },
   "file_extension": ".py",
   "mimetype": "text/x-python",
   "name": "python",
   "nbconvert_exporter": "python",
   "pygments_lexer": "ipython3",
   "version": "3.9.17"
  },
  "orig_nbformat": 4
 },
 "nbformat": 4,
 "nbformat_minor": 2
}
