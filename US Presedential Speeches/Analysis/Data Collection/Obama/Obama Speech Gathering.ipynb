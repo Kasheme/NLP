{
 "cells": [
  {
   "cell_type": "markdown",
   "metadata": {},
   "source": [
    "# Barack Obama Speech Transcript Data Collection "
   ]
  },
  {
   "cell_type": "markdown",
   "metadata": {},
   "source": [
    "## Data Collection"
   ]
  },
  {
   "cell_type": "markdown",
   "metadata": {},
   "source": [
    "## Obama Speech Gathering"
   ]
  },
  {
   "cell_type": "code",
   "execution_count": 1,
   "metadata": {},
   "outputs": [],
   "source": [
    "from bs4 import BeautifulSoup\n",
    "import pandas as pd\n",
    "import requests"
   ]
  },
  {
   "cell_type": "markdown",
   "metadata": {},
   "source": [
    "### Inaugral Speech Passage"
   ]
  },
  {
   "cell_type": "markdown",
   "metadata": {},
   "source": [
    "We'll capture a passaage from each US President's inaugural speech and display it on the app. This will give the user an indication of what the US President claimed was his intentions upon him taking office."
   ]
  },
  {
   "cell_type": "code",
   "execution_count": 2,
   "metadata": {},
   "outputs": [],
   "source": [
    "inaugral_speech_BO = 'we can meet those new threats that demand even greater effort - even greater cooperation and understanding between nations. We will begin to responsibly leave Iraq to its people, and forge a hard-earned peace in Afghanistan. With old friends and former foes, we’ll work tirelessly to lessen the nuclear threat, and roll back the specter of a warming planet.'"
   ]
  },
  {
   "cell_type": "markdown",
   "metadata": {},
   "source": [
    "### Obama - A way Forward in Iraq Speech: 20 Nov 2006"
   ]
  },
  {
   "cell_type": "code",
   "execution_count": 3,
   "metadata": {},
   "outputs": [],
   "source": [
    "transcript_url = \"http://obamaspeeches.com/094-A-Way-Forward-in-Iraq-Obama-Speech.htm\"\n",
    "response = requests.get(transcript_url)\n",
    "soup = BeautifulSoup(response.content, 'html.parser')"
   ]
  },
  {
   "cell_type": "code",
   "execution_count": 4,
   "metadata": {},
   "outputs": [],
   "source": [
    "# Convert to string\n",
    "transcript = \"\"\n",
    "transcript_elements = soup.find_all('p')  \n",
    "for element in transcript_elements:\n",
    "    transcript += element.get_text() "
   ]
  },
  {
   "cell_type": "code",
   "execution_count": 5,
   "metadata": {},
   "outputs": [
    {
     "name": "stdout",
     "output_type": "stream",
     "text": [
      "7901 7940\n"
     ]
    }
   ],
   "source": [
    "# From visual inspection, we can see that the transcript begins after this substring\n",
    "substring = 'Obama - 2002 Speech Against the Iraq War'\n",
    "start_index = transcript.find(substring)\n",
    "end_index = start_index + len(substring) - 1\n",
    "print(start_index, end_index)"
   ]
  },
  {
   "cell_type": "code",
   "execution_count": 6,
   "metadata": {},
   "outputs": [
    {
     "name": "stdout",
     "output_type": "stream",
     "text": [
      "Throughout American history, \n",
      "              there have been moments that call on us to meet the challenges of \n",
      "              an uncertain world, and pay whatever price is required to secure \n",
      "              our freedom. They are the soul-trying times our forbearers spoke \n",
      "              of, when the ea\n",
      "/n\n",
      "ken \n",
      "              families.The time for waiting in \n",
      "              Iraq is over. It is time to change our policy. It is time to give \n",
      "              Iraqis their country back. And it is time to refocus America’s \n",
      "              efforts on the wider struggle yet to be won. Thank you.\n",
      "                 \n",
      "\n"
     ]
    }
   ],
   "source": [
    "new_transcript = transcript[7941:]\n",
    "print(new_transcript[:300])\n",
    "print('/n')\n",
    "print(new_transcript[-300:])"
   ]
  },
  {
   "cell_type": "markdown",
   "metadata": {},
   "source": [
    "It looks like our **new_transcript** object has captured the entirety of the speech. We'll gather each of Obama's speeches here, then pickle them to the directory and conduct our NLP analysis in separate notebooks. We'll conduct all the data cleaning and preprocessing elsewhere."
   ]
  },
  {
   "cell_type": "code",
   "execution_count": 7,
   "metadata": {},
   "outputs": [],
   "source": [
    "BO_Nov2006 = new_transcript"
   ]
  },
  {
   "cell_type": "markdown",
   "metadata": {},
   "source": [
    "-----"
   ]
  },
  {
   "cell_type": "markdown",
   "metadata": {},
   "source": [
    "### Obama - American Diplomacy in the Middle East: 19th May 2011"
   ]
  },
  {
   "cell_type": "code",
   "execution_count": 8,
   "metadata": {},
   "outputs": [],
   "source": [
    "transcript_url = \"https://millercenter.org/the-presidency/presidential-speeches/may-19-2011-speech-american-diplomacy-middle-east-and-north\"\n",
    "response = requests.get(transcript_url)\n",
    "soup = BeautifulSoup(response.content, \"html.parser\")"
   ]
  },
  {
   "cell_type": "code",
   "execution_count": 9,
   "metadata": {},
   "outputs": [
    {
     "name": "stdout",
     "output_type": "stream",
     "text": [
      "\n",
      "Transcript\n",
      "Thank you.  Thank you.  (Applause.)  Thank you very much.  Thank you.  Please, have a seat.  Thank you very much.  I want to begin by thanking Hillary Clinton, who has traveled so much these last six months that she is approaching a new landmark -- one million frequent flyer miles.  (Laughter.)  I count on Hillary every single day, and I believe that she will go down as one of the finest Secretaries of State in our nation’s history.\n",
      "The State Department is a fitting venue to mark a new chapter in American diplomacy.  For six months, we have witnessed an extraordinary change taking place in the Middle East and North Africa.  Square by square, town by town, country by country, the people have risen up to demand their basic human rights.  Two leaders have stepped aside.  More may follow.  And though these countries may be a great distance from our shores, we know that our own future is bound to this region by the forces of economics and security, by history and by faith.\n",
      "Today, I want to talk about this change -- the forces that are driving it and how we can respond in a way that advances our values and strengthens our security.\n",
      "Now, already, we’ve done much to shift our foreign policy following a decade defined by two costly conflicts.  After years of war in Iraq, we’ve removed 100,000 American troops and ended our combat mission there.  In Afghanistan, we’ve broken the Taliban’s momentum, and this July we will begin to bring our troops home and continue a transition to Afghan lead.  And after years of war against al Qaeda and its affiliates, we have dealt al Qaeda a huge blow by killing its leader, Osama bin Laden.\n",
      "Bin Laden was no martyr.  He was a mass murderer who offered a message of hate –- an insistence that Muslims had to take up arms against the West, and that violence against men, women and children was the only path to change.  He rejected democracy and individual rights for Muslims in favor of violent extremism; his agenda focused on what he could destroy -– not what he could build.\n",
      "Bin Laden and his murderous vision won some adherents.  But even before his death, al Qaeda was losing its struggle for relevance, as the overwhelming majority of people saw that the slaughter of innocents did not answer their cries for a better life.  By the time we found bin Laden, al Qaeda’s agenda had come to be seen by the vast majority of the region as a dead end, and the people of the Middle East and North Africa had taken their future into their own hands.\n",
      "That story of self-determination began six months ago in Tunisia.  On December 17th, a young vendor named Mohammed Bouazizi was devastated when a police officer confiscated his cart.  This was not unique.  It’s the same kind of humiliation that takes place every day in many parts of the world -– the relentless tyranny of governments that deny their citizens dignity.  Only this time, something different happened.  After local officials refused to hear his complaints, this young man, who had never been particularly active in politics, went to the headquarters of the provincial government, doused himself in fuel, and lit himself on fire.\n",
      "There are times in the course of history when the actions of ordinary citizens spark movements for change because they speak to a longing for freedom that has been building up for years.  In America, think of the defiance of those patriots in Boston who refused to pay taxes to a King, or the dignity of Rosa Parks as she sat courageously in her seat.  So it was in Tunisia, as that vendor’s act of desperation tapped into the frustration felt throughout the country.  Hundreds of protesters took to the streets, then thousands.  And in the face of batons and sometimes bullets, they refused to go home –- day after day, week after week -- until a dictator of more than two decades finally left power.\n",
      "The story of this revolution, and the ones that followed, should not have come as a surprise.  The nations of the Middle East and North Africa won their independence long ago, but in too many places their people did not.  In too many countries, power has been concentrated in the hands of a few.  In too many countries, a citizen like that young vendor had nowhere to turn  -– no honest judiciary to hear his case; no independent media to give him voice; no credible political party to represent his views; no free and fair election where he could choose his leader.\n",
      "And this lack of self-determination –- the chance to make your life what you will –- has applied to the region’s economy as well.  Yes, some nations are blessed with wealth in oil and gas, and that has led to pockets of prosperity.  But in a global economy based on knowledge, based on innovation, no development strategy can be based solely upon what comes out of the ground. Nor can people reach their potential when you cannot start a business without paying a bribe.\n",
      "In the face of these challenges, too many leaders in the region tried to direct their people’s grievances elsewhere.  The West was blamed as the source of all ills, a half-century after the end of colonialism.  Antagonism toward Israel became the only acceptable outlet for political expression.  Divisions of tribe, ethnicity and religious sect were manipulated as a means of holding on to power, or taking it away from somebody else.\n",
      "But the events of the past six months show us that strategies of repression and strategies of diversion will not work anymore.  Satellite television and the Internet provide a window into the wider world -– a world of astonishing progress in places like India and Indonesia and Brazil.  Cell phones and social networks allow young people to connect and organize like never before.  And so a new generation has emerged.  And their voices tell us that change cannot be denied.\n",
      "In Cairo, we heard the voice of the young mother who said, “It’s like I can finally breathe fresh air for the first time.” \n",
      "In Sanaa, we heard the students who chanted, “The night must come to an end.”\n",
      "In Benghazi, we heard the engineer who said, “Our words are free now.  It’s a feeling you can’t explain.”\n",
      "In Damascus, we heard the young man who said, “After the first yelling, the first shout, you feel dignity.” \n",
      "Those shouts of human dignity are being heard across the region.  And through the moral force of nonviolence, the people of the region have achieved more change in six months than terrorists have accomplished in decades.\n",
      "Of course, change of this magnitude does not come easily.  In our day and age -– a time of 24-hour news cycles and constant communication –- people expect the transformation of the region to be resolved in a matter of weeks.  But it will be years before this story reaches its end.  Along the way, there will be good days and there will bad days.  In some places, change will be swift; in others, gradual.  And as we’ve already seen, calls for change may give way, in some cases, to fierce contests for power.\n",
      "The question before us is what role America will play as this story unfolds.  For decades, the United States has pursued a set of core interests in the region:  countering terrorism and stopping the spread of nuclear weapons; securing the free flow of commerce and safe-guarding the security of the region; standing up for Israel’s security and pursuing Arab-Israeli peace.\n",
      "We will continue to do these things, with the firm belief that America’s interests are not hostile to people’s hopes; they’re essential to them.  We believe that no one benefits from a nuclear arms race in the region, or al Qaeda’s brutal attacks.  We believe people everywhere would see their economies crippled by a cut-off in energy supplies.  As we did in the Gulf War, we will not tolerate aggression across borders, and we will keep our commitments to friends and partners.\n",
      "Yet we must acknowledge that a strategy based solely upon the narrow pursuit of these interests will not fill an empty stomach or allow someone to speak their mind.  Moreover, failure to speak to the broader aspirations of ordinary people will only feed the suspicion that has festered for years that the United States pursues our interests at their expense.  Given that this mistrust runs both ways –- as Americans have been seared by hostage-taking and violent rhetoric and terrorist attacks that have killed thousands of our citizens -– a failure to change our approach threatens a deepening spiral of division between the United States and the Arab world.\n",
      "And that’s why, two years ago in Cairo, I began to broaden our engagement based upon mutual interests and mutual respect.  I believed then -– and I believe now -– that we have a stake not just in the stability of nations, but in the self-determination of individuals.  The status quo is not sustainable.  Societies held together by fear and repression may offer the illusion of stability for a time, but they are built upon fault lines that will eventually tear asunder.\n",
      "So we face a historic opportunity.  We have the chance to show that America values the dignity of the street vendor in Tunisia more than the raw power of the dictator.  There must be no doubt that the United States of America welcomes change that advances self-determination and opportunity.  Yes, there will be perils that accompany this moment of promise.  But after decades of accepting the world as it is in the region, we have a chance to pursue the world as it should be.\n",
      "Of course, as we do, we must proceed with a sense of humility.  It’s not America that put people into the streets of Tunis or Cairo -– it was the people themselves who launched these movements, and it’s the people themselves that must ultimately determine their outcome. \n",
      "Not every country will follow our particular form of representative democracy, and there will be times when our short-term interests don’t align perfectly with our long-term vision for the region.  But we can, and we will, speak out for a set of core principles –- principles that have guided our response to the events over the past six months:\n",
      "The United States opposes the use of violence and repression against the people of the region.  (Applause.)  \n",
      "The United States supports a set of universal rights.  And these rights include free speech, the freedom of peaceful assembly, the freedom of religion, equality for men and women under the rule of law, and the right to choose your own leaders  -– whether you live in Baghdad or Damascus, Sanaa or Tehran.\n",
      "And we support political and economic reform in the Middle East and North Africa that can meet the legitimate aspirations of ordinary people throughout the region.\n",
      "Our support for these principles is not a secondary interest.  Today I want to make it clear that it is a top priority that must be translated into concrete actions, and supported by all of the diplomatic, economic and strategic tools at our disposal.\n",
      "Let me be specific.  First, it will be the policy of the United States to promote reform across the region, and to support transitions to democracy.  That effort begins in Egypt and Tunisia, where the stakes are high -– as Tunisia was at the vanguard of this democratic wave, and Egypt is both a longstanding partner and the Arab world’s largest nation.  Both nations can set a strong example through free and fair elections, a vibrant civil society, accountable and effective democratic institutions, and responsible regional leadership.  But our support must also extend to nations where transitions have yet to take place.\n",
      "Unfortunately, in too many countries, calls for change have thus far been answered by violence.  The most extreme example is Libya, where Muammar Qaddafi launched a war against his own people, promising to hunt them down like rats.  As I said when the United States joined an international coalition to intervene, we cannot prevent every injustice perpetrated by a regime against its people, and we have learned from our experience in Iraq just how costly and difficult it is to try to impose regime change by force -– no matter how well-intentioned it may be.\n",
      "But in Libya, we saw the prospect of imminent massacre, we had a mandate for action, and heard the Libyan people’s call for help.  Had we not acted along with our NATO allies and regional coalition partners, thousands would have been killed.  The message would have been clear:  Keep power by killing as many people as it takes.  Now, time is working against Qaddafi. He does not have control over his country.  The opposition has organized a legitimate and credible Interim Council.  And when Qaddafi inevitably leaves or is forced from power, decades of provocation will come to an end, and the transition to a democratic Libya can proceed.\n",
      "While Libya has faced violence on the greatest scale, it’s not the only place where leaders have turned to repression to remain in power.  Most recently, the Syrian regime has chosen the path of murder and the mass arrests of its citizens.  The United States has condemned these actions, and working with the international community we have stepped up our sanctions on the Syrian regime –- including sanctions announced yesterday on President Assad and those around him.\n",
      "The Syrian people have shown their courage in demanding a transition to democracy.  President Assad now has a choice:  He can lead that transition, or get out of the way.  The Syrian government must stop shooting demonstrators and allow peaceful protests.  It must release political prisoners and stop unjust arrests.  It must allow human rights monitors to have access to cities like Dara’a; and start a serious dialogue to advance a democratic transition.  Otherwise, President Assad and his regime will continue to be challenged from within and will continue to be isolated abroad.\n",
      "So far, Syria has followed its Iranian ally, seeking assistance from Tehran in the tactics of suppression.  And this speaks to the hypocrisy of the Iranian regime, which says it stand for the rights of protesters abroad, yet represses its own people at home.  Let’s remember that the first peaceful protests in the region were in the streets of Tehran, where the government brutalized women and men, and threw innocent people into jail.  We still hear the chants echo from the rooftops of Tehran.  The image of a young woman dying in the streets is still seared in our memory.  And we will continue to insist that the Iranian people deserve their universal rights, and a government that does not smother their aspirations.\n",
      "Now, our opposition to Iran’s intolerance and Iran’s repressive measures, as well as its illicit nuclear program and its support of terror, is well known.  But if America is to be credible, we must acknowledge that at times our friends in the region have not all reacted to the demands for consistent change -- with change that’s consistent with the principles that I’ve outlined today.  That’s true in Yemen, where President Saleh needs to follow through on his commitment to transfer power.  And that’s true today in Bahrain.\n",
      "Bahrain is a longstanding partner, and we are committed to its security.  We recognize that Iran has tried to take advantage of the turmoil there, and that the Bahraini government has a legitimate interest in the rule of law. \n",
      "Nevertheless, we have insisted both publicly and privately that mass arrests and brute force are at odds with the universal rights of Bahrain’s citizens, and we will -- and such steps will not make legitimate calls for reform go away.  The only way forward is for the government and opposition to engage in a dialogue, and you can’t have a real dialogue when parts of the peaceful opposition are in jail.  (Applause.)  The government must create the conditions for dialogue, and the opposition must participate to forge a just future for all Bahrainis.\n",
      "Indeed, one of the broader lessons to be drawn from this period is that sectarian divides need not lead to conflict.  In Iraq, we see the promise of a multiethnic, multisectarian democracy.  The Iraqi people have rejected the perils of political violence in favor of a democratic process, even as they’ve taken full responsibility for their own security.  Of course, like all new democracies, they will face setbacks.  But Iraq is poised to play a key role in the region if it continues its peaceful progress.  And as they do, we will be proud to stand with them as a steadfast partner.\n",
      "So in the months ahead, America must use all our influence to encourage reform in the region.  Even as we acknowledge that each country is different, we need to speak honestly about the principles that we believe in, with friend and foe alike.  Our message is simple:  If you take the risks that reform entails, you will have the full support of the United States. \n",
      "We must also build on our efforts to broaden our engagement beyond elites, so that we reach the people who will shape the future -– particularly young people.  We will continue to make good on the commitments that I made in Cairo -– to build networks of entrepreneurs and expand exchanges in education, to foster cooperation in science and technology, and combat disease.  Across the region, we intend to provide assistance to civil society, including those that may not be officially sanctioned, and who speak uncomfortable truths.  And we will use the technology to connect with -– and listen to –- the voices of the people.\n",
      "For the fact is, real reform does not come at the ballot box alone.  Through our efforts we must support those basic rights to speak your mind and access information.  We will support open access to the Internet, and the right of journalists to be heard -– whether it’s a big news organization or a lone blogger.  In the 21st century, information is power, the truth cannot be hidden, and the legitimacy of governments will ultimately depend on active and informed citizens.\n",
      "Such open discourse is important even if what is said does not square with our worldview.  Let me be clear, America respects the right of all peaceful and law-abiding voices to be heard, even if we disagree with them.  And sometimes we profoundly disagree with them.\n",
      "We look forward to working with all who embrace genuine and inclusive democracy.  What we will oppose is an attempt by any group to restrict the rights of others, and to hold power through coercion and not consent.  Because democracy depends not only on elections, but also strong and accountable institutions, and the respect for the rights of minorities.\n",
      "Such tolerance is particularly important when it comes to religion.  In Tahrir Square, we heard Egyptians from all walks of life chant, “Muslims, Christians, we are one.”  America will work to see that this spirit prevails -– that all faiths are respected, and that bridges are built among them.  In a region that was the birthplace of three world religions, intolerance can lead only to suffering and stagnation.  And for this season of change to succeed, Coptic Christians must have the right to worship freely in Cairo, just as Shia must never have their mosques destroyed in Bahrain.\n",
      "What is true for religious minorities is also true when it comes to the rights of women.  History shows that countries are more prosperous and more peaceful when women are empowered.  And that’s why we will continue to insist that universal rights apply to women as well as men -– by focusing assistance on child and maternal health; by helping women to teach, or start a business; by standing up for the right of women to have their voices heard, and to run for office.  The region will never reach its full potential when more than half of its population is prevented from achieving their full potential.  (Applause.)\n",
      "Now, even as we promote political reform, even as we promote human rights in the region, our efforts can’t stop there.  So the second way that we must support positive change in the region is through our efforts to advance economic development for nations that are transitioning to democracy. \n",
      "After all, politics alone has not put protesters into the streets.  The tipping point for so many people is the more constant concern of putting food on the table and providing for a family.  Too many people in the region wake up with few expectations other than making it through the day, perhaps hoping that their luck will change.  Throughout the region, many young people have a solid education, but closed economies leave them unable to find a job.  Entrepreneurs are brimming with ideas, but corruption leaves them unable to profit from those ideas. \n",
      "The greatest untapped resource in the Middle East and North Africa is the talent of its people.  In the recent protests, we see that talent on display, as people harness technology to move the world.  It’s no coincidence that one of the leaders of Tahrir Square was an executive for Google.  That energy now needs to be channeled, in country after country, so that economic growth can solidify the accomplishments of the street.  For just as democratic revolutions can be triggered by a lack of individual opportunity, successful democratic transitions depend upon an expansion of growth and broad-based prosperity.\n",
      "So, drawing from what we’ve learned around the world, we think it’s important to focus on trade, not just aid; on investment, not just assistance.  The goal must be a model in which protectionism gives way to openness, the reigns of commerce pass from the few to the many, and the economy generates jobs for the young.  America’s support for democracy will therefore be based on ensuring financial stability, promoting reform, and integrating competitive markets with each other and the global economy.  And we’re going to start with Tunisia and Egypt.\n",
      "First, we’ve asked the World Bank and the International Monetary Fund to present a plan at next week’s G8 summit for what needs to be done to stabilize and modernize the economies of Tunisia and Egypt.  Together, we must help them recover from the disruptions of their democratic upheaval, and support the governments that will be elected later this year.  And we are urging other countries to help Egypt and Tunisia meet its near-term financial needs.\n",
      "Second, we do not want a democratic Egypt to be saddled by the debts of its past.  So we will relieve a democratic Egypt of up to $1 billion in debt, and work with our Egyptian partners to invest these resources to foster growth and entrepreneurship.  We will help Egypt regain access to markets by guaranteeing $1 billion in borrowing that is needed to finance infrastructure and job creation.  And we will help newly democratic governments recover assets that were stolen.\n",
      "Third, we’re working with Congress to create Enterprise Funds to invest in Tunisia and Egypt.  And these will be modeled on funds that supported the transitions in Eastern Europe after the fall of the Berlin Wall.  OPIC will soon launch a $2 billion facility to support private investment across the region.  And we will work with the allies to refocus the European Bank for Reconstruction and Development so that it provides the same support for democratic transitions and economic modernization in the Middle East and North Africa as it has in Europe.\n",
      "Fourth, the United States will launch a comprehensive Trade and Investment Partnership Initiative in the Middle East and North Africa.  If you take out oil exports, this entire region of over 400 million people exports roughly the same amount as Switzerland.  So we will work with the EU to facilitate more trade within the region, build on existing agreements to promote integration with U.S. and European markets, and open the door for those countries who adopt high standards of reform and trade liberalization to construct a regional trade arrangement.  And just as EU membership served as an incentive for reform in Europe, so should the vision of a modern and prosperous economy create a powerful force for reform in the Middle East and North Africa.  \n",
      "Prosperity also requires tearing down walls that stand in the way of progress -– the corruption of elites who steal from their people; the red tape that stops an idea from becoming a business; the patronage that distributes wealth based on tribe or sect.  We will help governments meet international obligations, and invest efforts at anti-corruption -- by working with parliamentarians who are developing reforms, and activists who use technology to increase transparency and hold government accountable.  Politics and human rights; economic reform.\n",
      "Let me conclude by talking about another cornerstone of our approach to the region, and that relates to the pursuit of peace.\n",
      "For decades, the conflict between Israelis and Arabs has cast a shadow over the region.  For Israelis, it has meant living with the fear that their children could be blown up on a bus or by rockets fired at their homes, as well as the pain of knowing that other children in the region are taught to hate them.  For Palestinians, it has meant suffering the humiliation of occupation, and never living in a nation of their own.  Moreover, this conflict has come with a larger cost to the Middle East, as it impedes partnerships that could bring greater security and prosperity and empowerment to ordinary people.\n",
      "For over two years, my administration has worked with the parties and the international community to end this conflict, building on decades of work by previous administrations.  Yet expectations have gone unmet.  Israeli settlement activity continues.  Palestinians have walked away from talks.  The world looks at a conflict that has grinded on and on and on, and sees nothing but stalemate.  Indeed, there are those who argue that with all the change and uncertainty in the region, it is simply not possible to move forward now.\n",
      "I disagree.  At a time when the people of the Middle East and North Africa are casting off the burdens of the past, the drive for a lasting peace that ends the conflict and resolves all claims is more urgent than ever.  That’s certainly true for the two parties involved.\n",
      "For the Palestinians, efforts to delegitimize Israel will end in failure.  Symbolic actions to isolate Israel at the United Nations in September won’t create an independent state. Palestinian leaders will not achieve peace or prosperity if Hamas insists on a path of terror and rejection.  And Palestinians will never realize their independence by denying the right of Israel to exist.\n",
      "As for Israel, our friendship is rooted deeply in a shared history and shared values.  Our commitment to Israel’s security is unshakeable.  And we will stand against attempts to single it out for criticism in international forums.  But precisely because of our friendship, it’s important that we tell the truth:  The status quo is unsustainable, and Israel too must act boldly to advance a lasting peace.\n",
      "The fact is, a growing number of Palestinians live west of the Jordan River.  Technology will make it harder for Israel to defend itself.  A region undergoing profound change will lead to populism in which millions of people -– not just one or two leaders -- must believe peace is possible.  The international community is tired of an endless process that never produces an outcome. The dream of a Jewish and democratic state cannot be fulfilled with permanent occupation.\n",
      "Now, ultimately, it is up to the Israelis and Palestinians to take action.  No peace can be imposed upon them -- not by the United States; not by anybody else.  But endless delay won’t make the problem go away.  What America and the international community can do is to state frankly what everyone knows -- a lasting peace will involve two states for two peoples:  Israel as a Jewish state and the homeland for the Jewish people, and the state of Palestine as the homeland for the Palestinian people, each state enjoying self-determination, mutual recognition, and peace.\n",
      "So while the core issues of the conflict must be negotiated, the basis of those negotiations is clear:  a viable Palestine, a secure Israel.  The United States believes that negotiations should result in two states, with permanent Palestinian borders with Israel, Jordan, and Egypt, and permanent Israeli borders with Palestine.  We believe the borders of Israel and Palestine should be based on the 1967 lines with mutually agreed swaps, so that secure and recognized borders are established for both states.  The Palestinian people must have the right to govern themselves, and reach their full potential, in a sovereign and contiguous state. \n",
      "As for security, every state has the right to self-defense, and Israel must be able to defend itself -– by itself -– against any threat.  Provisions must also be robust enough to prevent a resurgence of terrorism, to stop the infiltration of weapons, and to provide effective border security.  The full and phased withdrawal of Israeli military forces should be coordinated with the assumption of Palestinian security responsibility in a sovereign, non-militarized state.  And the duration of this transition period must be agreed, and the effectiveness of security arrangements must be demonstrated.\n",
      "These principles provide a foundation for negotiations.  Palestinians should know the territorial outlines of their state; Israelis should know that their basic security concerns will be met.  I’m aware that these steps alone will not resolve the conflict, because two wrenching and emotional issues will remain:  the future of Jerusalem, and the fate of Palestinian refugees.  But moving forward now on the basis of territory and security provides a foundation to resolve those two issues in a way that is just and fair, and that respects the rights and aspirations of both Israelis and Palestinians. \n",
      "Now, let me say this:  Recognizing that negotiations need to begin with the issues of territory and security does not mean that it will be easy to come back to the table.  In particular, the recent announcement of an agreement between Fatah and Hamas raises profound and legitimate questions for Israel:  How can one negotiate with a party that has shown itself unwilling to recognize your right to exist?  And in the weeks and months to come, Palestinian leaders will have to provide a credible answer to that question.  Meanwhile, the United States, our Quartet partners, and the Arab states will need to continue every effort to get beyond the current impasse.\n",
      "I recognize how hard this will be.  Suspicion and hostility has been passed on for generations, and at times it has hardened. But I’m convinced that the majority of Israelis and Palestinians would rather look to the future than be trapped in the past.  We see that spirit in the Israeli father whose son was killed by Hamas, who helped start an organization that brought together Israelis and Palestinians who had lost loved ones.  That father said, “I gradually realized that the only hope for progress was to recognize the face of the conflict.”  We see it in the actions of a Palestinian who lost three daughters to Israeli shells in Gaza.  “I have the right to feel angry,” he said.  “So many people were expecting me to hate.  My answer to them is I shall not hate.  Let us hope,” he said, “for tomorrow.”\n",
      "That is the choice that must be made -– not simply in the Israeli-Palestinian conflict, but across the entire region -– a choice between hate and hope; between the shackles of the past and the promise of the future.  It’s a choice that must be made by leaders and by the people, and it’s a choice that will define the future of a region that served as the cradle of civilization and a crucible of strife.\n",
      "For all the challenges that lie ahead, we see many reasons to be hopeful.  In Egypt, we see it in the efforts of young people who led protests.  In Syria, we see it in the courage of those who brave bullets while chanting, “peaceful, peaceful.”  In Benghazi, a city threatened with destruction, we see it in the courthouse square where people gather to celebrate the freedoms that they had never known.  Across the region, those rights that we take for granted are being claimed with joy by those who are prying loose the grip of an iron fist.\n",
      "For the American people, the scenes of upheaval in the region may be unsettling, but the forces driving it are not unfamiliar.  Our own nation was founded through a rebellion against an empire.  Our people fought a painful Civil War that extended freedom and dignity to those who were enslaved.  And I would not be standing here today unless past generations turned to the moral force of nonviolence as a way to perfect our union –- organizing, marching, protesting peacefully together to make real those words that declared our nation:  “We hold these truths to be self-evident, that all men are created equal.” \n",
      "Those words must guide our response to the change that is transforming the Middle East and North Africa -– words which tell us that repression will fail, and that tyrants will fall, and that every man and woman is endowed with certain inalienable rights. \n",
      "It will not be easy.  There’s no straight line to progress, and hardship always accompanies a season of hope.  But the United States of America was founded on the belief that people should govern themselves.  And now we cannot hesitate to stand squarely on the side of those who are reaching for their rights, knowing that their success will bring about a world that is more peaceful, more stable, and more just.\n",
      "Thank you very much, everybody.  (Applause.)  Thank you. \n",
      "\n"
     ]
    }
   ],
   "source": [
    "inner_div = soup.find('div', class_='transcript-inner')\n",
    "if inner_div:\n",
    "    text_inside_div = str(inner_div.text)\n",
    "print(text_inside_div)"
   ]
  },
  {
   "cell_type": "code",
   "execution_count": 10,
   "metadata": {},
   "outputs": [],
   "source": [
    "text_inside_div = text_inside_div.replace(\" (Applause.)\",\"\")\n",
    "text_inside_div = text_inside_div.replace(\"Transcript\",\"\")\n",
    "BO_May2011 = text_inside_div"
   ]
  },
  {
   "cell_type": "markdown",
   "metadata": {},
   "source": [
    "---"
   ]
  },
  {
   "cell_type": "markdown",
   "metadata": {},
   "source": [
    "### Obama - Speech on Strategy in Afghanistan and Pakistan: 1st December 2009"
   ]
  },
  {
   "cell_type": "code",
   "execution_count": 11,
   "metadata": {},
   "outputs": [],
   "source": [
    "transcript_url = \"https://millercenter.org/the-presidency/presidential-speeches/december-1-2009-speech-strategy-afghanistan-and-pakistan\"\n",
    "response = requests.get(transcript_url)\n",
    "soup = BeautifulSoup(response.content, \"html.parser\")"
   ]
  },
  {
   "cell_type": "code",
   "execution_count": 12,
   "metadata": {},
   "outputs": [
    {
     "name": "stdout",
     "output_type": "stream",
     "text": [
      "\n",
      "Transcript\n",
      "Good evening.  To the United States Corps of Cadets, to the men and women of our Armed Services, and to my fellow Americans:  I want to speak to you tonight about our effort in Afghanistan -- the nature of our commitment there, the scope of our interests, and the strategy that my administration will pursue to bring this war to a successful conclusion.  It's an extraordinary honor for me to do so here at West Point -- where so many men and women have prepared to stand up for our security, and to represent what is finest about our country.\n",
      "To address these important issues, it's important to recall why America and our allies were compelled to fight a war in Afghanistan in the first place.  We did not ask for this fight. On September 11, 2001, 19 men hijacked four airplanes and used them to murder nearly 3,000 people.  They struck at our military and economic nerve centers.  They took the lives of innocent men, women, and children without regard to their faith or race or station.  Were it not for the heroic actions of passengers onboard one of those flights, they could have also struck at one of the great symbols of our democracy in Washington, and killed many more.\n",
      "As we know, these men belonged to al Qaeda -- a group of extremists who have distorted and defiled Islam, one of the world’s great religions, to justify the slaughter of innocents. Al Qaeda’s base of operations was in Afghanistan, where they were harbored by the Taliban -- a ruthless, repressive and radical movement that seized control of that country after it was ravaged by years of Soviet occupation and civil war, and after the attention of America and our friends had turned elsewhere.\n",
      "Just days after 9/11, Congress authorized the use of force against al Qaeda and those who harbored them -- an authorization that continues to this day.  The vote in the Senate was 98 to nothing.  The vote in the House was 420 to 1.  For the first time in its history, the North Atlantic Treaty Organization invoked Article 5 -- the commitment that says an attack on one member nation is an attack on all.  And the United Nations Security Council endorsed the use of all necessary steps to respond to the 9/11 attacks.  America, our allies and the world were acting as one to destroy al Qaeda’s terrorist network and to protect our common security.\n",
      "Under the banner of this domestic unity and international legitimacy -- and only after the Taliban refused to turn over Osama bin Laden -- we sent our troops into Afghanistan.  Within a matter of months, al Qaeda was scattered and many of its operatives were killed.  The Taliban was driven from power and pushed back on its heels.  A place that had known decades of fear now had reason to hope.  At a conference convened by the U.N., a provisional government was established under President Hamid Karzai.  And an International Security Assistance Force was established to help bring a lasting peace to a war-torn country.\n",
      "Then, in early 2003, the decision was made to wage a second war, in Iraq.  The wrenching debate over the Iraq war is well-known and need not be repeated here.  It's enough to say that for the next six years, the Iraq war drew the dominant share of our troops, our resources, our diplomacy, and our national attention -- and that the decision to go into Iraq caused substantial rifts between America and much of the world.\n",
      "Today, after extraordinary costs, we are bringing the Iraq war to a responsible end.  We will remove our combat brigades from Iraq by the end of next summer, and all of our troops by the end of 2011.  That we are doing so is a testament to the character of the men and women in uniform.  (Applause.)  Thanks to their courage, grit and perseverance, we have given Iraqis a chance to shape their future, and we are successfully leaving Iraq to its people. \n",
      "But while we've achieved hard-earned milestones in Iraq, the situation in Afghanistan has deteriorated.  After escaping across the border into Pakistan in 2001 and 2002, al Qaeda’s leadership established a safe haven there.  Although a legitimate government was elected by the Afghan people, it's been hampered by corruption, the drug trade, an under-developed economy, and insufficient security forces. \n",
      "Over the last several years, the Taliban has maintained common cause with al Qaeda, as they both seek an overthrow of the Afghan government.  Gradually, the Taliban has begun to control additional swaths of territory in Afghanistan, while engaging in increasingly brazen and devastating attacks of terrorism against the Pakistani people.\n",
      "Now, throughout this period, our troop levels in Afghanistan remained a fraction of what they were in Iraq.  When I took office, we had just over 32,000 Americans serving in Afghanistan, compared to 160,000 in Iraq at the peak of the war.  Commanders in Afghanistan repeatedly asked for support to deal with the reemergence of the Taliban, but these reinforcements did not arrive.  And that's why, shortly after taking office, I approved a longstanding request for more troops.  After consultations with our allies, I then announced a strategy recognizing the fundamental connection between our war effort in Afghanistan and the extremist safe havens in Pakistan.  I set a goal that was narrowly defined as disrupting, dismantling, and defeating al Qaeda and its extremist allies, and pledged to better coordinate our military and civilian efforts. \n",
      "Since then, we've made progress on some important objectives.  High-ranking al Qaeda and Taliban leaders have been killed, and we've stepped up the pressure on al Qaeda worldwide. In Pakistan, that nation's army has gone on its largest offensive in years.  In Afghanistan, we and our allies prevented the Taliban from stopping a presidential election, and -- although it was marred by fraud -- that election produced a government that is consistent with Afghanistan's laws and constitution.\n",
      "Yet huge challenges remain.  Afghanistan is not lost, but for several years it has moved backwards.  There's no imminent threat of the government being overthrown, but the Taliban has gained momentum.  Al Qaeda has not reemerged in Afghanistan in the same numbers as before 9/11, but they retain their safe havens along the border.  And our forces lack the full support they need to effectively train and partner with Afghan security forces and better secure the population.  Our new commander in Afghanistan -- General McChrystal -- has reported that the security situation is more serious than he anticipated.  In short:  The status quo is not sustainable.\n",
      " \n",
      "As cadets, you volunteered for service during this time of danger.  Some of you fought in Afghanistan.  Some of you will deploy there.  As your Commander-in-Chief, I owe you a mission that is clearly defined, and worthy of your service.  And that's why, after the Afghan voting was completed, I insisted on a thorough review of our strategy.  Now, let me be clear:  There has never been an option before me that called for troop deployments before 2010, so there has been no delay or denial of resources necessary for the conduct of the war during this review period.  Instead, the review has allowed me to ask the hard questions, and to explore all the different options, along with my national security team, our military and civilian leadership in Afghanistan, and our key partners.  And given the stakes involved, I owed the American people -- and our troops -- no less.\n",
      " \n",
      "This review is now complete.  And as Commander-in-Chief, I have determined that it is in our vital national interest to send an additional 30,000 U.S. troops to Afghanistan.  After 18 months, our troops will begin to come home.  These are the resources that we need to seize the initiative, while building the Afghan capacity that can allow for a responsible transition of our forces out of Afghanistan. \n",
      " \n",
      "I do not make this decision lightly.  I opposed the war in Iraq precisely because I believe that we must exercise restraint in the use of military force, and always consider the long-term consequences of our actions.  We have been at war now for eight years, at enormous cost in lives and resources.  Years of debate over Iraq and terrorism have left our unity on national security issues in tatters, and created a highly polarized and partisan backdrop for this effort.  And having just experienced the worst economic crisis since the Great Depression, the American people are understandably focused on rebuilding our economy and putting people to work here at home.\n",
      " \n",
      "Most of all, I know that this decision asks even more of you -- a military that, along with your families, has already borne the heaviest of all burdens.  As President, I have signed a letter of condolence to the family of each American who gives their life in these wars.  I have read the letters from the parents and spouses of those who deployed.  I visited our courageous wounded warriors at Walter Reed.  I've traveled to Dover to meet the flag-draped caskets of 18 Americans returning home to their final resting place.  I see firsthand the terrible wages of war.  If I did not think that the security of the United States and the safety of the American people were at stake in Afghanistan, I would gladly order every single one of our troops home tomorrow.\n",
      " \n",
      "So, no, I do not make this decision lightly.  I make this decision because I am convinced that our security is at stake in Afghanistan and Pakistan.  This is the epicenter of violent extremism practiced by al Qaeda.  It is from here that we were attacked on 9/11, and it is from here that new attacks are being plotted as I speak.  This is no idle danger; no hypothetical threat.  In the last few months alone, we have apprehended extremists within our borders who were sent here from the border region of Afghanistan and Pakistan to commit new acts of terror. And this danger will only grow if the region slides backwards, and al Qaeda can operate with impunity.  We must keep the pressure on al Qaeda, and to do that, we must increase the stability and capacity of our partners in the region.\n",
      " \n",
      "Of course, this burden is not ours alone to bear.  This is not just America's war.  Since 9/11, al Qaeda’s safe havens have been the source of attacks against London and Amman and Bali.  The people and governments of both Afghanistan and Pakistan are endangered.  And the stakes are even higher within a nuclear-armed Pakistan, because we know that al Qaeda and other extremists seek nuclear weapons, and we have every reason to believe that they would use them.\n",
      "These facts compel us to act along with our friends and allies.  Our overarching goal remains the same:  to disrupt, dismantle, and defeat al Qaeda in Afghanistan and Pakistan, and to prevent its capacity to threaten America and our allies in the future.\n",
      "To meet that goal, we will pursue the following objectives within Afghanistan.  We must deny al Qaeda a safe haven.  We must reverse the Taliban's momentum and deny it the ability to overthrow the government.  And we must strengthen the capacity of Afghanistan's security forces and government so that they can take lead responsibility for Afghanistan's future. \n",
      "We will meet these objectives in three ways.  First, we will pursue a military strategy that will break the Taliban's momentum and increase Afghanistan's capacity over the next 18 months.\n",
      "The 30,000 additional troops that I'm announcing tonight will deploy in the first part of 2010 -- the fastest possible pace -- so that they can target the insurgency and secure key population centers.  They'll increase our ability to train competent Afghan security forces, and to partner with them so that more Afghans can get into the fight.  And they will help create the conditions for the United States to transfer responsibility to the Afghans. \n",
      "Because this is an international effort, I've asked that our commitment be joined by contributions from our allies.  Some have already provided additional troops, and we're confident that there will be further contributions in the days and weeks ahead. Our friends have fought and bled and died alongside us in Afghanistan.  And now, we must come together to end this war successfully.  For what's at stake is not simply a test of NATO's credibility -- what's at stake is the security of our allies, and the common security of the world.\n",
      "But taken together, these additional American and international troops will allow us to accelerate handing over responsibility to Afghan forces, and allow us to begin the transfer of our forces out of Afghanistan in July of 2011.  Just as we have done in Iraq, we will execute this transition responsibly, taking into account conditions on the ground.  We'll continue to advise and assist Afghanistan's security forces to ensure that they can succeed over the long haul.  But it will be clear to the Afghan government -- and, more importantly, to the Afghan people -- that they will ultimately be responsible for their own country. \n",
      "Second, we will work with our partners, the United Nations, and the Afghan people to pursue a more effective civilian strategy, so that the government can take advantage of improved security.\n",
      "This effort must be based on performance.  The days of providing a blank check are over.  President Karzai's inauguration speech sent the right message about moving in a new direction.  And going forward, we will be clear about what we expect from those who receive our assistance.  We'll support Afghan ministries, governors, and local leaders that combat corruption and deliver for the people.  We expect those who are ineffective or corrupt to be held accountable.  And we will also focus our assistance in areas -- such as agriculture -- that can make an immediate impact in the lives of the Afghan people.\n",
      "The people of Afghanistan have endured violence for decades. They've been confronted with occupation -- by the Soviet Union, and then by foreign al Qaeda fighters who used Afghan land for their own purposes.  So tonight, I want the Afghan people to understand -- America seeks an end to this era of war and suffering.  We have no interest in occupying your country.  We will support efforts by the Afghan government to open the door to those Taliban who abandon violence and respect the human rights of their fellow citizens.  And we will seek a partnership with Afghanistan grounded in mutual respect -- to isolate those who destroy; to strengthen those who build; to hasten the day when our troops will leave; and to forge a lasting friendship in which America is your partner, and never your patron.\n",
      "Third, we will act with the full recognition that our success in Afghanistan is inextricably linked to our partnership with Pakistan.\n",
      "We're in Afghanistan to prevent a cancer from once again spreading through that country.  But this same cancer has also taken root in the border region of Pakistan.  That's why we need a strategy that works on both sides of the border.\n",
      "In the past, there have been those in Pakistan who've argued that the struggle against extremism is not their fight, and that Pakistan is better off doing little or seeking accommodation with those who use violence.  But in recent years, as innocents have been killed from Karachi to Islamabad, it has become clear that it is the Pakistani people who are the most endangered by extremism.  Public opinion has turned.  The Pakistani army has waged an offensive in Swat and South Waziristan.  And there is no doubt that the United States and Pakistan share a common enemy.\n",
      "In the past, we too often defined our relationship with Pakistan narrowly.  Those days are over.  Moving forward, we are committed to a partnership with Pakistan that is built on a foundation of mutual interest, mutual respect, and mutual trust. We will strengthen Pakistan’s capacity to target those groups that threaten our countries, and have made it clear that we cannot tolerate a safe haven for terrorists whose location is known and whose intentions are clear.  America is also providing substantial resources to support Pakistan’s democracy and development.  We are the largest international supporter for those Pakistanis displaced by the fighting.  And going forward, the Pakistan people must know America will remain a strong supporter of Pakistan’s security and prosperity long after the guns have fallen silent, so that the great potential of its people can be unleashed.\n",
      "These are the three core elements of our strategy:  a military effort to create the conditions for a transition; a civilian surge that reinforces positive action; and an effective partnership with Pakistan.\n",
      "I recognize there are a range of concerns about our approach.  So let me briefly address a few of the more prominent arguments that I've heard, and which I take very seriously.\n",
      " \n",
      "First, there are those who suggest that Afghanistan is another Vietnam.  They argue that it cannot be stabilized, and we're better off cutting our losses and rapidly withdrawing.  I believe this argument depends on a false reading of history.  Unlike Vietnam, we are joined by a broad coalition of 43 nations that recognizes the legitimacy of our action.  Unlike Vietnam, we are not facing a broad-based popular insurgency.  And most importantly, unlike Vietnam, the American people were viciously attacked from Afghanistan, and remain a target for those same extremists who are plotting along its border.  To abandon this area now -- and to rely only on efforts against al Qaeda from a distance -- would significantly hamper our ability to keep the pressure on al Qaeda, and create an unacceptable risk of additional attacks on our homeland and our allies. \n",
      " \n",
      "Second, there are those who acknowledge that we can't leave Afghanistan in its current state, but suggest that we go forward with the troops that we already have.  But this would simply maintain a status quo in which we muddle through, and permit a slow deterioration of conditions there.  It would ultimately prove more costly and prolong our stay in Afghanistan, because we would never be able to generate the conditions needed to train Afghan security forces and give them the space to take over.\n",
      " \n",
      "Finally, there are those who oppose identifying a time frame for our transition to Afghan responsibility.  Indeed, some call for a more dramatic and open-ended escalation of our war effort  -- one that would commit us to a nation-building project of up to a decade.  I reject this course because it sets goals that are beyond what can be achieved at a reasonable cost, and what we need to achieve to secure our interests.  Furthermore, the absence of a time frame for transition would deny us any sense of urgency in working with the Afghan government.  It must be clear that Afghans will have to take responsibility for their security, and that America has no interest in fighting an endless war in Afghanistan.\n",
      "As President, I refuse to set goals that go beyond our responsibility, our means, or our interests.  And I must weigh all of the challenges that our nation faces.  I don't have the luxury of committing to just one.  Indeed, I'm mindful of the words of President Eisenhower, who -- in discussing our national security -- said, \"Each proposal must be weighed in the light of a broader consideration:  the need to maintain balance in and among national programs.\"\n",
      "Over the past several years, we have lost that balance.  We've failed to appreciate the connection between our national security and our economy.  In the wake of an economic crisis, too many of our neighbors and friends are out of work and struggle to pay the bills.  Too many Americans are worried about the future facing our children.  Meanwhile, competition within the global economy has grown more fierce.  So we can't simply afford to ignore the price of these wars.\n",
      "All told, by the time I took office the cost of the wars in Iraq and Afghanistan approached a trillion dollars.  Going forward, I am committed to addressing these costs openly and honestly.  Our new approach in Afghanistan is likely to cost us roughly $30 billion for the military this year, and I'll work closely with Congress to address these costs as we work to bring down our deficit.\n",
      "But as we end the war in Iraq and transition to Afghan responsibility, we must rebuild our strength here at home.  Our prosperity provides a foundation for our power.  It pays for our military.  It underwrites our diplomacy.  It taps the potential of our people, and allows investment in new industry.  And it will allow us to compete in this century as successfully as we did in the last.  That's why our troop commitment in Afghanistan cannot be open-ended -- because the nation that I'm most interested in building is our own.\n",
      "Now, let me be clear:  None of this will be easy.  The struggle against violent extremism will not be finished quickly, and it extends well beyond Afghanistan and Pakistan.  It will be an enduring test of our free society, and our leadership in the world.  And unlike the great power conflicts and clear lines of division that defined the 20th century, our effort will involve disorderly regions, failed states, diffuse enemies.\n",
      "So as a result, America will have to show our strength in the way that we end wars and prevent conflict -- not just how we wage wars.  We'll have to be nimble and precise in our use of military power.  Where al Qaeda and its allies attempt to establish a foothold -- whether in Somalia or Yemen or elsewhere -- they must be confronted by growing pressure and strong partnerships.\n",
      "And we can't count on military might alone.  We have to invest in our homeland security, because we can't capture or kill every violent extremist abroad.  We have to improve and better coordinate our intelligence, so that we stay one step ahead of shadowy networks.\n",
      " \n",
      "We will have to take away the tools of mass destruction.  And that's why I've made it a central pillar of my foreign policy to secure loose nuclear materials from terrorists, to stop the spread of nuclear weapons, and to pursue the goal of a world without them -- because every nation must understand that true security will never come from an endless race for ever more destructive weapons; true security will come for those who reject them.\n",
      " \n",
      "We'll have to use diplomacy, because no one nation can meet the challenges of an interconnected world acting alone.  I've spent this year renewing our alliances and forging new partnerships.  And we have forged a new beginning between America and the Muslim world -- one that recognizes our mutual interest in breaking a cycle of conflict, and that promises a future in which those who kill innocents are isolated by those who stand up for peace and prosperity and human dignity.\n",
      " \n",
      "And finally, we must draw on the strength of our values -- for the challenges that we face may have changed, but the things that we believe in must not.  That's why we must promote our values by living them at home -- which is why I have prohibited torture and will close the prison at Guantanamo Bay.  And we must make it clear to every man, woman and child around the world who lives under the dark cloud of tyranny that America will speak out on behalf of their human rights, and tend to the light of freedom and justice and opportunity and respect for the dignity of all peoples.  That is who we are.  That is the source, the moral source, of America’s authority.\n",
      "Since the days of Franklin Roosevelt, and the service and sacrifice of our grandparents and great-grandparents, our country has borne a special burden in global affairs.  We have spilled American blood in many countries on multiple continents.  We have spent our revenue to help others rebuild from rubble and develop their own economies.  We have joined with others to develop an architecture of institutions -- from the United Nations to NATO to the World Bank -- that provide for the common security and prosperity of human beings.\n",
      "We have not always been thanked for these efforts, and we have at times made mistakes.  But more than any other nation, the United States of America has underwritten global security for over six decades -- a time that, for all its problems, has seen walls come down, and markets open, and billions lifted from poverty, unparalleled scientific progress and advancing frontiers of human liberty. \n",
      "For unlike the great powers of old, we have not sought world domination.  Our union was founded in resistance to oppression. We do not seek to occupy other nations.  We will not claim another nation’s resources or target other peoples because their faith or ethnicity is different from ours.  What we have fought for -- what we continue to fight for -- is a better future for our children and grandchildren.  And we believe that their lives will be better if other peoples’ children and grandchildren can live in freedom and access opportunity.  (Applause.)   \n",
      "As a country, we're not as young -- and perhaps not as innocent -- as we were when Roosevelt was President.  Yet we are still heirs to a noble struggle for freedom.  And now we must summon all of our might and moral suasion to meet the challenges of a new age. \n",
      "In the end, our security and leadership does not come solely from the strength of our arms.  It derives from our people -- from the workers and businesses who will rebuild our economy; from the entrepreneurs and researchers who will pioneer new industries; from the teachers that will educate our children, and the service of those who work in our communities at home; from the diplomats and Peace Corps volunteers who spread hope abroad; and from the men and women in uniform who are part of an unbroken line of sacrifice that has made government of the people, by the people, and for the people a reality on this Earth.  (Applause.) \n",
      "This vast and diverse citizenry will not always agree on every issue -- nor should we.  But I also know that we, as a country, cannot sustain our leadership, nor navigate the momentous challenges of our time, if we allow ourselves to be split asunder by the same rancor and cynicism and partisanship that has in recent times poisoned our national discourse.\n",
      "It's easy to forget that when this war began, we were united -- bound together by the fresh memory of a horrific attack, and by the determination to defend our homeland and the values we hold dear.  I refuse to accept the notion that we cannot summon that unity again.  (Applause.)  I believe with every fiber of my being that we -- as Americans -- can still come together behind a common purpose.  For our values are not simply words written into parchment -- they are a creed that calls us together, and that has carried us through the darkest of storms as one nation, as one people.\n",
      "America -- we are passing through a time of great trial.  And the message that we send in the midst of these storms must be clear:  that our cause is just, our resolve unwavering.  We will go forward with the confidence that right makes might, and with the commitment to forge an America that is safer, a world that is more secure, and a future that represents not the deepest of fears but the highest of hopes.  (Applause.)  \n",
      "Thank you.  God bless you.  May God bless the United States of America.  (Applause.)  Thank you very much.  Thank you.  (Applause.)\n",
      "\n"
     ]
    }
   ],
   "source": [
    "inner_div = soup.find('div', class_='transcript-inner')\n",
    "if inner_div:\n",
    "    text_inside_div = str(inner_div.text)\n",
    "print(text_inside_div)"
   ]
  },
  {
   "cell_type": "code",
   "execution_count": 13,
   "metadata": {},
   "outputs": [],
   "source": [
    "text_inside_div = text_inside_div.replace(\" (Applause.)\",\"\")\n",
    "text_inside_div = text_inside_div.replace(\"Transcript\",\"\")\n",
    "BO_Dec2009 = text_inside_div"
   ]
  },
  {
   "cell_type": "markdown",
   "metadata": {},
   "source": [
    "---"
   ]
  },
  {
   "cell_type": "markdown",
   "metadata": {},
   "source": [
    "### Obama - Iraq Airstrikes and Humanitarian Aid: 08 Aug 2014"
   ]
  },
  {
   "cell_type": "code",
   "execution_count": 14,
   "metadata": {},
   "outputs": [],
   "source": [
    "transcript_url = \"https://obamawhitehouse.archives.gov/the-press-office/2014/08/07/statement-president\"\n",
    "response = requests.get(transcript_url)\n",
    "soup = BeautifulSoup(response.content, \"html.parser\")"
   ]
  },
  {
   "cell_type": "code",
   "execution_count": 15,
   "metadata": {},
   "outputs": [
    {
     "name": "stdout",
     "output_type": "stream",
     "text": [
      "\n",
      "State Dining Room\n",
      "9:30 P.M. EDT\n",
      "THE PRESIDENT:  Good evening.  Today I authorized two operations in Iraq -- targeted airstrikes to protect our American personnel, and a humanitarian effort to help save thousands of Iraqi civilians who are trapped on a mountain without food and water and facing almost certain death.  Let me explain the actions we’re taking and why.    \n",
      "First, I said in June -- as the terrorist group ISIL began an advance across Iraq -- that the United States would be prepared to take targeted military action in Iraq if and when we determined that the situation required it.  In recent days, these terrorists have continued to move across Iraq, and have neared the city of Erbil, where American diplomats and civilians serve at our consulate and American military personnel advise Iraqi forces. \n",
      "To stop the advance on Erbil, I’ve directed our military to take targeted strikes against ISIL terrorist convoys should they move toward the city.  We intend to stay vigilant, and take action if these terrorist forces threaten our personnel or facilities anywhere in Iraq, including our consulate in Erbil and our embassy in Baghdad.  We’re also providing urgent assistance to Iraqi government and Kurdish forces so they can more effectively wage the fight against ISIL.\n",
      "Second, at the request of the Iraqi government -- we’ve begun operations to help save Iraqi civilians stranded on the mountain.  As ISIL has marched across Iraq, it has waged a ruthless campaign against innocent Iraqis.  And these terrorists have been especially barbaric towards religious minorities, including Christian and Yezidis, a small and ancient religious sect.  Countless Iraqis have been displaced.  And chilling reports describe ISIL militants rounding up families, conducting mass executions, and enslaving Yezidi women. \n",
      "In recent days, Yezidi women, men and children from the area of Sinjar have fled for their lives.  And thousands -- perhaps tens of thousands -- are now hiding high up on the mountain, with little but the clothes on their backs.  They’re without food, they’re without water.  People are starving.  And children are dying of thirst.  Meanwhile, ISIL forces below have called for the systematic destruction of the entire Yezidi people, which would constitute genocide.  So these innocent families are faced with a horrible choice:  descend the mountain and be slaughtered, or stay and slowly die of thirst and hunger.\n",
      "I’ve said before, the United States cannot and should not intervene every time there’s a crisis in the world.  So let me be clear about why we must act, and act now.  When we face a situation like we do on that mountain -- with innocent people facing the prospect of violence on a horrific scale, when we have a mandate to help -- in this case, a request from the Iraqi government -- and when we have the unique capabilities to help avert a massacre, then I believe the United States of America cannot turn a blind eye.  We can act, carefully and responsibly, to prevent a potential act of genocide.  That’s what we’re doing on that mountain.\n",
      "I’ve, therefore, authorized targeted airstrikes, if necessary, to help forces in Iraq as they fight to break the siege of Mount Sinjar and protect the civilians trapped there.  Already, American aircraft have begun conducting humanitarian airdrops of food and water to help these desperate men, women and children survive.  Earlier this week, one Iraqi in the area cried to the world, “There is no one coming to help.”  Well today, America is coming to help.  We’re also consulting with other countries -- and the United Nations -- who have called for action to address this humanitarian crisis. \n",
      "I know that many of you are rightly concerned about any American military action in Iraq, even limited strikes like these.  I understand that.  I ran for this office in part to end our war in Iraq and welcome our troops home, and that’s what we’ve done.  As Commander-in-Chief, I will not allow the United States to be dragged into fighting another war in Iraq.  And so even as we support Iraqis as they take the fight to these terrorists, American combat troops will not be returning to fight in Iraq, because there’s no American military solution to the larger crisis in Iraq.  The only lasting solution is reconciliation among Iraqi communities and stronger Iraqi security forces. \n",
      "However, we can and should support moderate forces who can bring stability to Iraq.  So even as we carry out these two missions, we will continue to pursue a broader strategy that empowers Iraqis to confront this crisis.  Iraqi leaders need to come together and forge a new government that represents the legitimate interests of all Iraqis, and that can fight back against the threats like ISIL.  Iraqis have named a new President, a new Speaker of Parliament, and are seeking consensus on a new Prime Minister.  This is the progress that needs to continue in order to reverse the momentum of the terrorists who prey on Iraq’s divisions.\n",
      "Once Iraq has a new government, the United States will work with it and other countries in the region to provide increased support to deal with this humanitarian crisis and counterterrorism challenge.  None of Iraq’s neighbors have an interest in this terrible suffering or instability.\n",
      "And so we’ll continue to work with our friends and allies to help refugees get the shelter and food and water they so desperately need, and to help Iraqis push back against ISIL.  The several hundred American advisors that I ordered to Iraq will continue to assess what more we can do to help train, advise and support Iraqi forces going forward.  And just as I consulted Congress on the decisions I made today, we will continue to do so going forward.\n",
      "My fellow Americans, the world is confronted by many challenges.  And while America has never been able to right every wrong, America has made the world a more secure and prosperous place.  And our leadership is necessary to underwrite the global security and prosperity that our children and our grandchildren will depend upon.  We do so by adhering to a set of core principles.  We do whatever is necessary to protect our people.  We support our allies when they’re in danger.  We lead coalitions of countries to uphold international norms.  And we strive to stay true to the fundamental values -- the desire to live with basic freedom and dignity -- that is common to human beings wherever they are.  That’s why people all over the world look to the United States of America to lead.  And that’s why we do it.\n",
      "So let me close by assuring you that there is no decision that I take more seriously than the use of military force.  Over the last several years, we have brought the vast majority of our troops home from Iraq and Afghanistan.  And I’ve been careful to resist calls to turn time and again to our military, because America has other tools in our arsenal than our military.  We can also lead with the power of our diplomacy, our economy, and our ideals.\n",
      "But when the lives of American citizens are at risk, we will take action.  That’s my responsibility as Commander-in-Chief.  And when many thousands of innocent civilians are faced with the danger of being wiped out, and we have the capacity to do something about it, we will take action.  That is our responsibility as Americans.  That’s a hallmark of American leadership.  That’s who we are.\n",
      "So tonight, we give thanks to our men and women in uniform  -— especially our brave pilots and crews over Iraq who are protecting our fellow Americans and saving the lives of so many men, women and children that they will never meet.  They represent American leadership at its best.  As a nation, we should be proud of them, and of our country’s enduring commitment to uphold our own security and the dignity of our fellow human beings.\n",
      "God bless our Armed Forces, and God bless the United States of America.\n",
      "END\n",
      "\t9:38 P.M. EDT\n",
      "\n",
      "\n"
     ]
    }
   ],
   "source": [
    "inner_div = soup.find('div', class_='field-items')\n",
    "if inner_div:\n",
    "    text_inside_div = str(inner_div.text)\n",
    "print(text_inside_div)"
   ]
  },
  {
   "cell_type": "code",
   "execution_count": 16,
   "metadata": {},
   "outputs": [
    {
     "name": "stdout",
     "output_type": "stream",
     "text": [
      "49\n",
      "7909\n"
     ]
    }
   ],
   "source": [
    "start_substring = 'Good evening.'\n",
    "end_substring = 'and God bless the United States of America.'\n",
    "\n",
    "start_index = text_inside_div.find(start_substring)\n",
    "end_index = text_inside_div.find(end_substring) + len(end_substring)\n",
    "\n",
    "print(start_index)\n",
    "print(end_index)"
   ]
  },
  {
   "cell_type": "code",
   "execution_count": 17,
   "metadata": {},
   "outputs": [],
   "source": [
    "BO_Aug2014 = text_inside_div[49:7909]"
   ]
  },
  {
   "cell_type": "markdown",
   "metadata": {},
   "source": [
    "---"
   ]
  },
  {
   "cell_type": "markdown",
   "metadata": {},
   "source": [
    "### Obama - Remarks on the Afghanistan Pullout: June 22nd 2011"
   ]
  },
  {
   "cell_type": "code",
   "execution_count": 18,
   "metadata": {},
   "outputs": [],
   "source": [
    "transcript_url = \"https://millercenter.org/the-presidency/presidential-speeches/june-22-2011-remarks-afghanistan-pullout\"\n",
    "response = requests.get(transcript_url)\n",
    "soup = BeautifulSoup(response.content, \"html.parser\")"
   ]
  },
  {
   "cell_type": "code",
   "execution_count": 19,
   "metadata": {},
   "outputs": [
    {
     "name": "stdout",
     "output_type": "stream",
     "text": [
      "\n",
      "Transcript\n",
      "Good evening.  Nearly 10 years ago, America suffered the worst attack on our shores since Pearl Harbor.  This mass murder was planned by Osama bin Laden and his al Qaeda network in Afghanistan, and signaled a new threat to our security –- one in which the targets were no longer soldiers on a battlefield, but innocent men, women and children going about their daily lives. \n",
      "In the days that followed, our nation was united as we struck at al Qaeda and routed the Taliban in Afghanistan.  Then, our focus shifted.  A second war was launched in Iraq, and we spent enormous blood and treasure to support a new government there.  By the time I took office, the war in Afghanistan had entered its seventh year.  But al Qaeda’s leaders had escaped into Pakistan and were plotting new attacks, while the Taliban had regrouped and gone on the offensive.  Without a new strategy and decisive action, our military commanders warned that we could face a resurgent al Qaeda and a Taliban taking over large parts of Afghanistan.\n",
      "For this reason, in one of the most difficult decisions that I’ve made as President, I ordered an additional 30,000 American troops into Afghanistan.  When I announced this surge at West Point, we set clear objectives:  to refocus on al Qaeda, to reverse the Taliban’s momentum, and train Afghan security forces to defend their own country.  I also made it clear that our commitment would not be open-ended, and that we would begin to draw down our forces this July.\n",
      "Tonight, I can tell you that we are fulfilling that commitment.  Thanks to our extraordinary men and women in uniform, our civilian personnel, and our many coalition partners, we are meeting our goals.  As a result, starting next month, we will be able to remove 10,000 of our troops from Afghanistan by the end of this year, and we will bring home a total of 33,000 troops by next summer, fully recovering the surge I announced at West Point.  After this initial reduction, our troops will continue coming home at a steady pace as Afghan security forces move into the lead.  Our mission will change from combat to support.  By 2014, this process of transition will be complete, and the Afghan people will be responsible for their own security. \n",
      "We’re starting this drawdown from a position of strength.  Al Qaeda is under more pressure than at any time since 9/11.  Together with the Pakistanis, we have taken out more than half of al Qaeda’s leadership.  And thanks to our intelligence professionals and Special Forces, we killed Osama bin Laden, the only leader that al Qaeda had ever known.  This was a victory for all who have served since 9/11.  One soldier summed it up well.  “The message,” he said, “is we don’t forget.  You will be held accountable, no matter how long it takes.” \n",
      "The information that we recovered from bin Laden’s compound shows al Qaeda under enormous strain.  Bin Laden expressed concern that al Qaeda had been unable to effectively replace senior terrorists that had been killed, and that al Qaeda has failed in its effort to portray America as a nation at war with Islam -– thereby draining more widespread support.  Al Qaeda remains dangerous, and we must be vigilant against attacks.  But we have put al Qaeda on a path to defeat, and we will not relent until the job is done.\n",
      "In Afghanistan, we’ve inflicted serious losses on the Taliban and taken a number of its strongholds.  Along with our surge, our allies also increased their commitments, which helped stabilize more of the country.  Afghan security forces have grown by over 100,000 troops, and in some provinces and municipalities we’ve already begun to transition responsibility for security to the Afghan people.  In the face of violence and intimidation, Afghans are fighting and dying for their country, establishing local police forces, opening markets and schools, creating new opportunities for women and girls, and trying to turn the page on decades of war.\n",
      "Of course, huge challenges remain.  This is the beginning -- but not the end –- of our effort to wind down this war.  We’ll have to do the hard work of keeping the gains that we’ve made, while we draw down our forces and transition responsibility for security to the Afghan government.  And next May, in Chicago, we will host a summit with our NATO allies and partners to shape the next phase of this transition.\n",
      "We do know that peace cannot come to a land that has known so much war without a political settlement.  So as we strengthen the Afghan government and security forces, America will join initiatives that reconcile the Afghan people, including the Taliban.  Our position on these talks is clear:  They must be led by the Afghan government, and those who want to be a part of a peaceful Afghanistan must break from al Qaeda, abandon violence, and abide by the Afghan constitution.  But, in part because of our military effort, we have reason to believe that progress can be made.\n",
      "The goal that we seek is achievable, and can be expressed simply:  No safe haven from which al Qaeda or its affiliates can launch attacks against our homeland or our allies.  We won't try to make Afghanistan a perfect place.  We will not police its streets or patrol its mountains indefinitely.  That is the responsibility of the Afghan government, which must step up its ability to protect its people, and move from an economy shaped by war to one that can sustain a lasting peace.  What we can do, and will do, is build a partnership with the Afghan people that endures –- one that ensures that we will be able to continue targeting terrorists and supporting a sovereign Afghan government.\n",
      "Of course, our efforts must also address terrorist safe havens in Pakistan.  No country is more endangered by the presence of violent extremists, which is why we will continue to press Pakistan to expand its participation in securing a more peaceful future for this war-torn region.  We'll work with the Pakistani government to root out the cancer of violent extremism, and we will insist that it keeps its commitments.  For there should be no doubt that so long as I am President, the United States will never tolerate a safe haven for those who aim to kill us.  They cannot elude us, nor escape the justice they deserve. \n",
      "My fellow Americans, this has been a difficult decade for our country.  We've learned anew the profound cost of war -- a cost that's been paid by the nearly 4,500 Americans who have given their lives in Iraq, and the over 1,500 who have done so in Afghanistan -– men and women who will not live to enjoy the freedom that they defended.  Thousands more have been wounded. Some have lost limbs on the battlefield, and others still battle the demons that have followed them home.\n",
      "Yet tonight, we take comfort in knowing that the tide of war is receding.  Fewer of our sons and daughters are serving in harm’s way.  We’ve ended our combat mission in Iraq, with 100,000 American troops already out of that country.  And even as there will be dark days ahead in Afghanistan, the light of a secure peace can be seen in the distance.  These long wars will come to a responsible end.\n",
      "As they do, we must learn their lessons.  Already this decade of war has caused many to question the nature of America’s engagement around the world.  Some would have America retreat from our responsibility as an anchor of global security, and embrace an isolation that ignores the very real threats that we face.  Others would have America over-extended, confronting every evil that can be found abroad.\n",
      "We must chart a more centered course.  Like generations before, we must embrace America’s singular role in the course of human events.  But we must be as pragmatic as we are passionate; as strategic as we are resolute.  When threatened, we must respond with force –- but when that force can be targeted, we need not deploy large armies overseas.  When innocents are being slaughtered and global security endangered, we don’t have to choose between standing idly by or acting on our own.  Instead, we must rally international action, which we’re doing in Libya, where we do not have a single soldier on the ground, but are supporting allies in protecting the Libyan people and giving them the chance to determine their own destiny.\n",
      "In all that we do, we must remember that what sets America apart is not solely our power -– it is the principles upon which our union was founded.  We’re a nation that brings our enemies to justice while adhering to the rule of law, and respecting the rights of all our citizens.  We protect our own freedom and prosperity by extending it to others.  We stand not for empire, but for self-determination.  That is why we have a stake in the democratic aspirations that are now washing across the Arab world.  We will support those revolutions with fidelity to our ideals, with the power of our example, and with an unwavering belief that all human beings deserve to live with freedom and dignity.\n",
      "Above all, we are a nation whose strength abroad has been anchored in opportunity for our citizens here at home.  Over the last decade, we have spent a trillion dollars on war, at a time of rising debt and hard economic times.  Now, we must invest in America’s greatest resource –- our people.  We must unleash innovation that creates new jobs and industries, while living within our means.  We must rebuild our infrastructure and find new and clean sources of energy.  And most of all, after a decade of passionate debate, we must recapture the common purpose that we shared at the beginning of this time of war.  For our nation draws strength from our differences, and when our union is strong no hill is too steep, no horizon is beyond our reach.\n",
      "America, it is time to focus on nation building here at home.\n",
      "In this effort, we draw inspiration from our fellow Americans who have sacrificed so much on our behalf.  To our troops, our veterans and their families, I speak for all Americans when I say that we will keep our sacred trust with you, and provide you with the care and benefits and opportunity that you deserve.  \n",
      "I met some of these patriotic Americans at Fort Campbell.  A while back, I spoke to the 101st Airborne that has fought to turn the tide in Afghanistan, and to the team that took out Osama bin Laden.  Standing in front of a model of bin Laden’s compound, the Navy SEAL who led that effort paid tribute to those who had been lost –- brothers and sisters in arms whose names are now written on bases where our troops stand guard overseas, and on headstones in quiet corners of our country where their memory will never be forgotten.  This officer -- like so many others I’ve met on bases, in Baghdad and Bagram, and at Walter Reed and Bethesda Naval Hospital -– spoke with humility about how his unit worked together as one, depending on each other, and trusting one another, as a family might do in a time of peril. \n",
      "That’s a lesson worth remembering -– that we are all a part of one American family.  Though we have known disagreement and division, we are bound together by the creed that is written into our founding documents, and a conviction that the United States of America is a country that can achieve whatever it sets out to accomplish.  Now, let us finish the work at hand.  Let us responsibly end these wars, and reclaim the American Dream that is at the center of our story.  With confidence in our cause, with faith in our fellow citizens, and with hope in our hearts, let us go about the work of extending the promise of America -– for this generation, and the next. \n",
      "May God bless our troops.  And may God bless the United States of America.\n",
      "\n"
     ]
    }
   ],
   "source": [
    "inner_div = soup.find('div', class_='transcript-inner')\n",
    "if inner_div:\n",
    "    text_inside_div = str(inner_div.text)\n",
    "print(text_inside_div)"
   ]
  },
  {
   "cell_type": "code",
   "execution_count": 20,
   "metadata": {},
   "outputs": [],
   "source": [
    "text_inside_div = text_inside_div.replace(\"Transcript\",\"\")\n",
    "BO_Jun2011 = text_inside_div"
   ]
  },
  {
   "cell_type": "markdown",
   "metadata": {},
   "source": [
    "---"
   ]
  },
  {
   "cell_type": "markdown",
   "metadata": {},
   "source": [
    "### Obama - Remarks on the End of the War in Iraq: 21st October 2011"
   ]
  },
  {
   "cell_type": "code",
   "execution_count": 21,
   "metadata": {},
   "outputs": [],
   "source": [
    "transcript_url = \"https://millercenter.org/the-presidency/presidential-speeches/october-21-2011-remarks-end-war-iraq\"\n",
    "response = requests.get(transcript_url)\n",
    "soup = BeautifulSoup(response.content, \"html.parser\")"
   ]
  },
  {
   "cell_type": "code",
   "execution_count": 22,
   "metadata": {},
   "outputs": [
    {
     "name": "stdout",
     "output_type": "stream",
     "text": [
      "\n",
      "Transcript\n",
      "Good afternoon, everybody.  As a candidate for President, I pledged to bring the war in Iraq to a responsible end -- for the sake of our national security and to strengthen American leadership around the world.  After taking office, I announced a new strategy that would end our combat mission in Iraq and remove all of our troops by the end of 2011.\n",
      "    \n",
      "As Commander-in-Chief, ensuring the success of this strategy has been one of my highest national security priorities.  Last year, I announced the end to our combat mission in Iraq.  And to date, we’ve removed more than 100,000 troops.  Iraqis have taken full responsibility for their country’s security.\n",
      "A few hours ago I spoke with Iraqi Prime Minister Maliki.  I reaffirmed that the United States keeps its commitments.  He spoke of the determination of the Iraqi people to forge their own future.  We are in full agreement about how to move forward.\n",
      "So today, I can report that, as promised, the rest of our troops in Iraq will come home by the end of the year.  After nearly nine years, America’s war in Iraq will be over.\n",
      "Over the next two months, our troops in Iraq -- tens of thousands of them -- will pack up their gear and board convoys for the journey home.  The last American soldier[s] will cross the border out of Iraq with their heads held high, proud of their success, and knowing that the American people stand united in our support for our troops.  That is how America’s military efforts in Iraq will end.\n",
      "But even as we mark this important milestone, we’re also moving into a new phase in the relationship between the United States and Iraq.  As of January 1st, and in keeping with our Strategic Framework Agreement with Iraq, it will be a normal relationship between sovereign nations, an equal partnership based on mutual interests and mutual respect.\n",
      "In today’s conversation, Prime Minister Maliki and I agreed that a meeting of the Higher Coordinating Committee of the Strategic Framework Agreement will convene in the coming weeks.  And I invited the Prime Minister to come to the White House in December, as we plan for all the important work that we have to do together.  This will be a strong and enduring partnership.  With our diplomats and civilian advisors in the lead, we’ll help Iraqis strengthen institutions that are just, representative and accountable.  We’ll build new ties of trade and of commerce, culture and education, that unleash the potential of the Iraqi people.  We’ll partner with an Iraq that contributes to regional security and peace, just as we insist that other nations respect Iraq’s sovereignty.\n",
      "     As I told Prime Minister Maliki, we will continue discussions on how we might help Iraq train and equip its forces -- again, just as we offer training and assistance to countries around the world.  After all, there will be some difficult days ahead for Iraq, and the United States will continue to have an interest in an Iraq that is stable, secure and self-reliant.  Just as Iraqis have persevered through war, I’m confident that they can build a future worthy of their history as a cradle of civilization.\n",
      "     Here at home, the coming months will be another season of homecomings.  Across America, our servicemen and women will be reunited with their families.  Today, I can say that our troops in Iraq will definitely be home for the holidays. \n",
      "This December will be a time to reflect on all that we’ve been though in this war.  I’ll join the American people in paying tribute to the more than 1 million Americans who have served in Iraq.  We’ll honor our many wounded warriors and the nearly 4,500 American patriots -- and their Iraqi and coalition partners -- who gave their lives to this effort.\n",
      "And finally, I would note that the end of war in Iraq reflects a larger transition.  The tide of war is receding.  The drawdown in Iraq allowed us to refocus our fight against al Qaeda and achieve major victories against its leadership -- including Osama bin Laden.  Now, even as we remove our last troops from Iraq, we’re beginning to bring our troops home from Afghanistan, where we’ve begun a transition to Afghan security and leadership.  When I took office, roughly 180,000 troops were deployed in both these wars.  And by the end of this year that number will be cut in half, and make no mistake:  It will continue to go down. \n",
      "Meanwhile, yesterday marked the definitive end of the Qaddafi regime in Libya.  And there, too, our military played a critical role in shaping a situation on the ground in which the Libyan people can build their own future.  Today, NATO is working to bring this successful mission to a close.\n",
      "So to sum up, the United States is moving forward from a position of strength.  The long war in Iraq will come to an end by the end of this year.  The transition in Afghanistan is moving forward, and our troops are finally coming home.  As they do, fewer deployments and more time training will help keep our military the very best in the world.  And as we welcome home our newest veterans, we’ll never stop working to give them and their families the care, the benefits and the opportunities that they have earned. \n",
      "This includes enlisting our veterans in the greatest challenge that we now face as a nation -- creating opportunity and jobs in this country.  Because after a decade of war, the nation that we need to build -- and the nation that we will build -- is our own; an America that sees its economic strength restored just as we’ve restored our leadership around the globe.\n",
      "Thank you very much.\n",
      "\n"
     ]
    }
   ],
   "source": [
    "inner_div = soup.find('div', class_='transcript-inner')\n",
    "if inner_div:\n",
    "    text_inside_div = str(inner_div.text)\n",
    "print(text_inside_div)"
   ]
  },
  {
   "cell_type": "code",
   "execution_count": 23,
   "metadata": {},
   "outputs": [],
   "source": [
    "text_inside_div = text_inside_div.replace(\"Transcript\",\"\")\n",
    "BO_Oct2011 = text_inside_div"
   ]
  },
  {
   "cell_type": "markdown",
   "metadata": {},
   "source": [
    "---"
   ]
  },
  {
   "cell_type": "markdown",
   "metadata": {},
   "source": [
    "## Transcript Sentence Transformation"
   ]
  },
  {
   "cell_type": "markdown",
   "metadata": {},
   "source": [
    "##### Sentence Tokenization using Spacy"
   ]
  },
  {
   "cell_type": "code",
   "execution_count": 24,
   "metadata": {},
   "outputs": [
    {
     "name": "stderr",
     "output_type": "stream",
     "text": [
      "c:\\Users\\User\\miniconda3\\envs\\rainbow\\lib\\site-packages\\tqdm\\auto.py:21: TqdmWarning: IProgress not found. Please update jupyter and ipywidgets. See https://ipywidgets.readthedocs.io/en/stable/user_install.html\n",
      "  from .autonotebook import tqdm as notebook_tqdm\n"
     ]
    },
    {
     "data": {
      "text/plain": [
       "['tok2vec',\n",
       " 'tagger',\n",
       " 'parser',\n",
       " 'attribute_ruler',\n",
       " 'lemmatizer',\n",
       " 'ner',\n",
       " 'sentencizer']"
      ]
     },
     "execution_count": 24,
     "metadata": {},
     "output_type": "execute_result"
    }
   ],
   "source": [
    "import spacy\n",
    "nlp = spacy.load(\"en_core_web_sm\")\n",
    "nlp.add_pipe('sentencizer')\n",
    "nlp.pipe_names"
   ]
  },
  {
   "cell_type": "code",
   "execution_count": 26,
   "metadata": {},
   "outputs": [
    {
     "name": "stdout",
     "output_type": "stream",
     "text": [
      "sentence: Throughout American history, \n",
      "              there have been moments that call on us to meet the challenges of \n",
      "              an uncertain world, and pay whatever price is required to secure \n",
      "              our freedom.\n",
      "sentence: They are the soul-trying times our forbearers spoke \n",
      "              of, when the ease of complacency and self-interest must give way \n",
      "              to the more difficult task of rendering judgment on what is best \n",
      "              for the nation and for posterity, and then acting on that judgment \n",
      "              ?\n",
      "sentence: making the hard choices and sacrifices necessary to uphold our \n",
      "              most deeply held values and ideals.\n",
      "sentence: This was true for those \n",
      "              who went to Lexington and Concord.\n",
      "sentence: It was true for those who lie \n",
      "              buried at Gettysburg.\n",
      "sentence: It was true for those who built democracy’s \n",
      "              arsenal to vanquish fascism, and who then built a series of alliances \n",
      "              and a world order that would ultimately defeat communism.\n",
      "sentence: And this has been true \n",
      "              for those of us who looked on the rubble and ashes of 9/11, and \n",
      "              made a solemn pledge that such an atrocity would never again happen \n",
      "              on United States soil; that we would do whatever it took to hunt \n",
      "              down those responsible, and use every tool at our disposal ?\n",
      "sentence: diplomatic, \n",
      "              economic, and military ?\n",
      "sentence: to root out both the agents of terrorism \n",
      "              and the conditions that helped breed it.\n",
      "sentence: In each case, what has \n",
      "              been required to meet the challenges we face has been good judgment \n",
      "              and clear vision from our leaders, and a fundamental seriousness \n",
      "              and engagement on the part of the American people ?\n",
      "sentence: a willingness \n",
      "              on the part of each of us to look past what is petty and small and \n",
      "              sensational, and look ahead to what is necessary and purposeful.\n",
      "sentence: A few Tuesdays ago, the \n",
      "              American people embraced this seriousness with regards to America’s \n",
      "              policy in Iraq.\n",
      "sentence: Americans were originally persuaded by the President \n",
      "              to go to war in part because of the threat of weapons of mass destruction, \n",
      "              and in part because they were told that it would help reduce the \n",
      "              threat of international terrorism.\n",
      "sentence: Neither turned out to be \n",
      "              true.\n",
      "sentence: And now, after three long years of watching the same back \n",
      "              and forth in Washington, the American people have sent a clear message \n",
      "              that the days of using the war on terror as a political football \n",
      "              are over.\n",
      "sentence: That policy-by-slogan will no longer pass as an acceptable \n",
      "              form of debate in this country.\n",
      "sentence: “Mission Accomplished,” \n",
      "              “cut and run,” “stay the course” ?\n",
      "sentence: the American \n",
      "              people have determined that all these phrases have become meaningless \n",
      "              in the face of a conflict that grows more deadly and chaotic with \n",
      "              each passing day ?\n",
      "sentence: a conflict that has only increased the terrorist \n",
      "              threat it was supposed to help contain.2,867 Americans have now \n",
      "              died in this war.\n",
      "sentence: Thousands more have suffered wounds that will \n",
      "              last a lifetime.\n"
     ]
    }
   ],
   "source": [
    "spacy_sen_tokens = []\n",
    "doc = nlp(BO_Nov2006)\n",
    "for sentence in doc.sents:\n",
    "    spacy_sen_tokens.append(sentence)\n",
    "\n",
    "for each in spacy_sen_tokens[:20]:\n",
    "    print(f\"sentence: {each}\")"
   ]
  },
  {
   "cell_type": "code",
   "execution_count": 27,
   "metadata": {},
   "outputs": [],
   "source": [
    "my_df = pd.DataFrame(spacy_sen_tokens)"
   ]
  },
  {
   "cell_type": "code",
   "execution_count": 28,
   "metadata": {},
   "outputs": [],
   "source": [
    "spacy_sen_new = []\n",
    "for each in spacy_sen_tokens:\n",
    "    spacy_sen_new.append(str(each))"
   ]
  },
  {
   "cell_type": "code",
   "execution_count": 32,
   "metadata": {},
   "outputs": [
    {
     "data": {
      "text/plain": [
       "['Throughout American history, \\n              there have been moments that call on us to meet the challenges of \\n              an uncertain world, and pay whatever price is required to secure \\n              our freedom.',\n",
       " 'They are the soul-trying times our forbearers spoke \\n              of, when the ease of complacency and self-interest must give way \\n              to the more difficult task of rendering judgment on what is best \\n              for the nation and for posterity, and then acting on that judgment \\n              ?',\n",
       " 'making the hard choices and sacrifices necessary to uphold our \\n              most deeply held values and ideals.',\n",
       " 'This was true for those \\n              who went to Lexington and Concord.',\n",
       " 'It was true for those who lie \\n              buried at Gettysburg.',\n",
       " 'It was true for those who built democracy’s \\n              arsenal to vanquish fascism, and who then built a series of alliances \\n              and a world order that would ultimately defeat communism.',\n",
       " 'And this has been true \\n              for those of us who looked on the rubble and ashes of 9/11, and \\n              made a solemn pledge that such an atrocity would never again happen \\n              on United States soil; that we would do whatever it took to hunt \\n              down those responsible, and use every tool at our disposal ?',\n",
       " 'diplomatic, \\n              economic, and military ?',\n",
       " 'to root out both the agents of terrorism \\n              and the conditions that helped breed it.',\n",
       " 'In each case, what has \\n              been required to meet the challenges we face has been good judgment \\n              and clear vision from our leaders, and a fundamental seriousness \\n              and engagement on the part of the American people ?',\n",
       " 'a willingness \\n              on the part of each of us to look past what is petty and small and \\n              sensational, and look ahead to what is necessary and purposeful.',\n",
       " 'A few Tuesdays ago, the \\n              American people embraced this seriousness with regards to America’s \\n              policy in Iraq.',\n",
       " 'Americans were originally persuaded by the President \\n              to go to war in part because of the threat of weapons of mass destruction, \\n              and in part because they were told that it would help reduce the \\n              threat of international terrorism.',\n",
       " 'Neither turned out to be \\n              true.',\n",
       " 'And now, after three long years of watching the same back \\n              and forth in Washington, the American people have sent a clear message \\n              that the days of using the war on terror as a political football \\n              are over.',\n",
       " 'That policy-by-slogan will no longer pass as an acceptable \\n              form of debate in this country.',\n",
       " '“Mission Accomplished,” \\n              “cut and run,” “stay the course” ?',\n",
       " 'the American \\n              people have determined that all these phrases have become meaningless \\n              in the face of a conflict that grows more deadly and chaotic with \\n              each passing day ?',\n",
       " 'a conflict that has only increased the terrorist \\n              threat it was supposed to help contain.2,867 Americans have now \\n              died in this war.',\n",
       " 'Thousands more have suffered wounds that will \\n              last a lifetime.',\n",
       " 'Iraq is descending into chaos based on ethnic divisions \\n              that were around long before American troops arrived.',\n",
       " 'The conflict \\n              has left us distracted from containing the world’s growing \\n              threats ?',\n",
       " 'in North Korea, in Iran, and in Afghanistan.',\n",
       " 'And a report \\n              by our own intelligence agencies has concluded that al Qaeda is \\n              successfully using the war in Iraq to recruit a new generation of \\n              terrorists for its war on America.',\n",
       " 'These are serious times \\n              for our country, and with their votes two weeks ago, Americans demanded \\n              a feasible strategy with defined goals in Iraq ?',\n",
       " 'a strategy no longer \\n              driven by ideology and politics, but one that is based on a realistic \\n              assessment of the sobering facts on the ground and our interests \\n              in the region.',\n",
       " 'This kind of realism has \\n              been missing since the very conception of this war, and it is what \\n              led me to publicly oppose it in 2002.',\n",
       " 'The notion that Iraq would \\n              quickly and easily become a bulwark of flourishing democracy in \\n              the Middle East was not a plan for victory, but an ideological fantasy. \\n              ',\n",
       " 'I said then and believe now that Saddam Hussein was a ruthless dictator \\n              who craved weapons of mass destruction but posed no imminent threat \\n              to the United States; that a war in Iraq would harm, not help, our \\n              efforts to defeat al Qaeda and finish the job in Afghanistan; and \\n              that an invasion would require an occupation of undetermined length, \\n              at undetermined cost, with undetermined consequences.',\n",
       " 'Month after month, and \\n              then year after year, I’ve watched with a heavy heart as my \\n              deepest suspicions about this war’s conception have been confirmed \\n              and exacerbated in its disastrous implementation.',\n",
       " 'No matter how \\n              bad it gets, we are told to wait, and not ask questions.',\n",
       " 'We have \\n              been assured that the insurgency is in its last throes.',\n",
       " 'We have \\n              been told that progress is just around the corner, and that when \\n              the Iraqis stand up, we will be able to stand down.',\n",
       " 'Last week, without \\n              a trace of irony, the President even chose Vietnam as the backdrop \\n              for remarks counseling “patience” with his policies \\n              in Iraq.',\n",
       " 'When I came here and gave \\n              a speech on this war a year ago, I suggested that we begin to move \\n              towards a phased redeployment of American troops from Iraqi soil. \\n              ',\n",
       " 'At that point, seventy-five U.S. Senators, Republican and Democrat, \\n              including myself, had also voted in favor of a resolution demanding \\n              that 2006 be a year of significant transition in Iraq.',\n",
       " 'What we have seen instead \\n              is a year of significant deterioration.',\n",
       " 'A year in which well-respected \\n              Republicans like John Warner, former Administration officials like \\n              Colin Powell, generals who have served in Iraq, and intelligence \\n              experts have all said that what we are doing is not working.',\n",
       " 'A year \\n              that is ending with an attempt by the bipartisan Iraq Study Group \\n              to determine what can be done about a country that is quickly spiraling \\n              out of control.',\n",
       " 'According to our own Pentagon, \\n              the situation on the ground is now pointing towards chaos.',\n",
       " 'Sectarian \\n              violence has reached an all-time high, and 365,000 Iraqis have fled \\n              their homes since the bombing of a Shia mosque in Samarra last February. \\n              ',\n",
       " '300,000 Iraqi security forces have supposedly been recruited and \\n              trained over the last two years, and yet American troop levels have \\n              not been reduced by a single soldier.',\n",
       " 'The addition of 4,000 American \\n              troops in Baghdad has not succeeded in securing that increasingly \\n              perilous city.',\n",
       " 'And polls show that almost two-thirds of all Iraqis \\n              now sympathize with attacks on American soldiers.',\n",
       " 'Prime Minister Maliki is \\n              not making our job easier.',\n",
       " 'In just the past three weeks, he has \\n              ?',\n",
       " 'and I’m quoting from a New York Times article here ?',\n",
       " '“rejected \\n              the notion of an American ‘timeline’ for action on urgent \\n              Iraqi political issues; ordered American commanders to lift checkpoints \\n              they had set up around the Shiite district of Sadr City to hunt \\n              for a kidnapped American soldier and a fugitive Shiite death squad \\n              leader; and blamed the Americans for the deteriorating security \\n              situation in Iraq.',\n",
       " '”This is now the reality \\n              of Iraq.',\n",
       " 'Now, I am hopeful that \\n              the Iraq Study Group emerges next month with a series of proposals \\n              around which we can begin to build a bipartisan consensus.',\n",
       " 'I am \\n              committed to working with this White House and any of my colleagues \\n              in the months to come to craft such a consensus.',\n",
       " 'And I believe that \\n              it remains possible to salvage an acceptable outcome to this long \\n              and misguided war.',\n",
       " 'But it will not be easy. \\n              ',\n",
       " 'For the fact is that there are no good options left in this war. \\n              ',\n",
       " 'There are no options that do not carry significant risks.',\n",
       " 'And so \\n              the question is not whether there is some magic formula for success, \\n              or guarantee against failure, in Iraq.',\n",
       " 'Rather, the question is what \\n              strategies, imperfect though they may be, are most likely to achieve \\n              the best outcome in Iraq, one that will ultimately put us on a more \\n              effective course to deal with international terrorism, nuclear proliferation, \\n              and other critical threats to our security.',\n",
       " 'What is absolutely clear \\n              is that it is not enough for the President to respond to Iraq’s \\n              reality by saying that he is “open to” or “interested \\n              in” new ideas while acting as if all that’s required \\n              is doing more of the same.',\n",
       " 'It is not enough for him to simply lay \\n              out benchmarks for progress with no consequences attached for failing \\n              to meet them.',\n",
       " 'And it is not enough for the President to tell us \\n              that victory in this war is simply a matter of American resolve. \\n              ',\n",
       " 'The American people have been extraordinarily resolved.',\n",
       " 'They have \\n              seen their sons and daughters killed or wounded in the streets of \\n              Fallujah.',\n",
       " 'They have spent hundreds of billions of their hard-earned \\n              dollars on this effort ?',\n",
       " 'money that could have been devoted to strengthening \\n              our homeland security and our competitive standing as a nation. \\n              ',\n",
       " 'No, it has not been a failure of resolve that has led us to this \\n              chaos, but a failure of strategy ?',\n",
       " 'and that strategy must change.',\n",
       " 'It may be politically advantageous \\n              for the President to simply define victory as staying and defeat \\n              as leaving, but it prevents a serious conversation about the realistic \\n              objectives we can still achieve in Iraq.',\n",
       " 'Dreams of democracy and \\n              hopes for a perfect government are now just that ?',\n",
       " 'dreams and hopes. \\n              ',\n",
       " 'We must instead turn our focus to those concrete objectives that \\n              are possible to attain ?',\n",
       " 'namely, preventing Iraq from becoming what \\n              Afghanistan once was, maintaining our influence in the Middle East, \\n              and forging a political settlement to stop the sectarian violence \\n              so that our troops can come home.',\n",
       " 'There is no reason to believe \\n              that more of the same will achieve these objectives in Iraq.',\n",
       " 'And, \\n              while some have proposed escalating this war by adding thousands \\n              of more troops, there is little reason to believe that this will \\n              achieve these results either.',\n",
       " 'It’s not clear that these troop \\n              levels are sustainable for a significant period of time, and according \\n              to our commanders on the ground, adding American forces will only \\n              relieve the Iraqis from doing more on their own.',\n",
       " 'Moreover, without \\n              a coherent strategy or better cooperation from the Iraqis, we would \\n              only be putting more of our soldiers in the crossfire of a civil \\n              war.',\n",
       " 'Let me underscore this \\n              point.',\n",
       " 'The American soldiers I met when I traveled to Iraq this \\n              year were performing their duties with bravery, with brilliance, \\n              and without question.',\n",
       " 'They are doing so today.',\n",
       " 'They have battled \\n              insurgents, secured cities, and maintained some semblance of order \\n              in Iraq.',\n",
       " 'But even as they have carried out their responsibilities \\n              with excellence and valor, they have also told me that there is \\n              no military solution to this war.',\n",
       " 'Our troops can help suppress the \\n              violence, but they cannot solve its root causes.',\n",
       " 'And all the troops \\n              in the world won’t be able to force Shia, Sunni, and Kurd \\n              to sit down at a table, resolve their differences, and forge a lasting \\n              peace.',\n",
       " 'I have long said that the \\n              only solution in Iraq is a political one.',\n",
       " 'To reach such a solution, \\n              we must communicate clearly and effectively to the factions in Iraq \\n              that the days of asking, urging, and waiting for them to take control \\n              of their own country are coming to an end.',\n",
       " 'No more coddling, no \\n              more equivocation.',\n",
       " 'Our best hope for success is to use the tools \\n              we have ?',\n",
       " 'military, financial, diplomatic ?',\n",
       " 'to pressure the Iraqi \\n              leadership to finally come to a political agreement between the \\n              warring factions that can create some sense of stability in the \\n              country and bring this conflict under control.',\n",
       " 'The first part of this \\n              strategy begins by exerting the greatest leverage we have on the \\n              Iraqi government ?',\n",
       " 'a phased redeployment of U.S. troops from Iraq \\n              on a timetable that would begin in four to six months.',\n",
       " 'When I first advocated \\n              steps along these lines over a year ago, I had hoped that this phased \\n              redeployment could begin by the end of 2006.',\n",
       " 'Such a timetable may \\n              now need to begin in 2007, but begin it must.',\n",
       " 'For only through this \\n              phased redeployment can we send a clear message to the Iraqi factions \\n              that the U.S. is not going to hold together this country indefinitely \\n              ?',\n",
       " 'that it will be up to them to form a viable government that can \\n              effectively run and secure Iraq.',\n",
       " 'Let me be more specific. \\n              ',\n",
       " 'The President should announce to the Iraqi people that our policy \\n              will include a gradual and substantial reduction in U.S. forces. \\n              ',\n",
       " 'He should then work with our military commanders to map out the \\n              best plan for such a redeployment and determine precise levels and \\n              dates.',\n",
       " 'When possible, this should be done in consultation with the \\n              Iraqi government ?',\n",
       " 'but it should not depend on Iraqi approval.',\n",
       " 'I am not suggesting that \\n              this timetable be overly-rigid.']"
      ]
     },
     "execution_count": 32,
     "metadata": {},
     "output_type": "execute_result"
    }
   ],
   "source": [
    "spacy_sen_new[:100]"
   ]
  },
  {
   "cell_type": "markdown",
   "metadata": {},
   "source": [
    "### Transcript Sentence Tokenization"
   ]
  },
  {
   "cell_type": "code",
   "execution_count": 34,
   "metadata": {},
   "outputs": [],
   "source": [
    "# import functions .py script which contains the functions used across all notebooks\n",
    "import functions as fnc"
   ]
  },
  {
   "cell_type": "code",
   "execution_count": 35,
   "metadata": {},
   "outputs": [],
   "source": [
    "BO_Nov2006_df = fnc.transcript_transform(BO_Nov2006)\n",
    "BO_May2011_df = fnc.transcript_transform(BO_May2011)\n",
    "BO_Jun2011_df = fnc.transcript_transform(BO_Jun2011)\n",
    "BO_Dec2009_df = fnc.transcript_transform(BO_Dec2009)\n",
    "BO_Oct2011_df = fnc.transcript_transform(BO_Oct2011)\n",
    "BO_Aug2014_df = fnc.transcript_transform(BO_Aug2014)"
   ]
  },
  {
   "cell_type": "markdown",
   "metadata": {},
   "source": [
    "Pickle Speeches to Folder"
   ]
  },
  {
   "cell_type": "code",
   "execution_count": 36,
   "metadata": {},
   "outputs": [],
   "source": [
    "BO_Nov2006_df.to_pickle('Obama Speeches Raw/BO_Nov2006_df.pkl')\n",
    "BO_Dec2009_df.to_pickle('Obama Speeches Raw/BO_Dec2009_df.pkl')\n",
    "BO_May2011_df.to_pickle('Obama Speeches Raw/BO_May2011_df.pkl')\n",
    "BO_Jun2011_df.to_pickle('Obama Speeches Raw/BO_Jun2011_df.pkl')\n",
    "BO_Oct2011_df.to_pickle('Obama Speeches Raw/BO_Oct2011_df.pkl')\n",
    "BO_Aug2014_df.to_pickle('Obama Speeches Raw/BO_Aug2014_df.pkl')"
   ]
  },
  {
   "cell_type": "markdown",
   "metadata": {},
   "source": [
    "---"
   ]
  }
 ],
 "metadata": {
  "kernelspec": {
   "display_name": "snowflakes",
   "language": "python",
   "name": "python3"
  },
  "language_info": {
   "codemirror_mode": {
    "name": "ipython",
    "version": 3
   },
   "file_extension": ".py",
   "mimetype": "text/x-python",
   "name": "python",
   "nbconvert_exporter": "python",
   "pygments_lexer": "ipython3",
   "version": "3.10.12"
  },
  "orig_nbformat": 4
 },
 "nbformat": 4,
 "nbformat_minor": 2
}
