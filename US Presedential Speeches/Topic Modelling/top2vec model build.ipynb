{
 "cells": [
  {
   "cell_type": "markdown",
   "metadata": {},
   "source": [
    "# Top2Vec Model Build"
   ]
  },
  {
   "cell_type": "code",
   "execution_count": 1,
   "metadata": {},
   "outputs": [
    {
     "name": "stderr",
     "output_type": "stream",
     "text": [
      "c:\\Users\\User\\miniconda3\\envs\\rainbow\\lib\\site-packages\\umap\\distances.py:1063: NumbaDeprecationWarning: \u001b[1mThe 'nopython' keyword argument was not supplied to the 'numba.jit' decorator. The implicit default value for this argument is currently False, but it will be changed to True in Numba 0.59.0. See https://numba.readthedocs.io/en/stable/reference/deprecation.html#deprecation-of-object-mode-fall-back-behaviour-when-using-jit for details.\u001b[0m\n",
      "  @numba.jit()\n",
      "c:\\Users\\User\\miniconda3\\envs\\rainbow\\lib\\site-packages\\umap\\distances.py:1071: NumbaDeprecationWarning: \u001b[1mThe 'nopython' keyword argument was not supplied to the 'numba.jit' decorator. The implicit default value for this argument is currently False, but it will be changed to True in Numba 0.59.0. See https://numba.readthedocs.io/en/stable/reference/deprecation.html#deprecation-of-object-mode-fall-back-behaviour-when-using-jit for details.\u001b[0m\n",
      "  @numba.jit()\n",
      "c:\\Users\\User\\miniconda3\\envs\\rainbow\\lib\\site-packages\\umap\\distances.py:1086: NumbaDeprecationWarning: \u001b[1mThe 'nopython' keyword argument was not supplied to the 'numba.jit' decorator. The implicit default value for this argument is currently False, but it will be changed to True in Numba 0.59.0. See https://numba.readthedocs.io/en/stable/reference/deprecation.html#deprecation-of-object-mode-fall-back-behaviour-when-using-jit for details.\u001b[0m\n",
      "  @numba.jit()\n",
      "c:\\Users\\User\\miniconda3\\envs\\rainbow\\lib\\site-packages\\tqdm\\auto.py:21: TqdmWarning: IProgress not found. Please update jupyter and ipywidgets. See https://ipywidgets.readthedocs.io/en/stable/user_install.html\n",
      "  from .autonotebook import tqdm as notebook_tqdm\n",
      "c:\\Users\\User\\miniconda3\\envs\\rainbow\\lib\\site-packages\\umap\\umap_.py:660: NumbaDeprecationWarning: \u001b[1mThe 'nopython' keyword argument was not supplied to the 'numba.jit' decorator. The implicit default value for this argument is currently False, but it will be changed to True in Numba 0.59.0. See https://numba.readthedocs.io/en/stable/reference/deprecation.html#deprecation-of-object-mode-fall-back-behaviour-when-using-jit for details.\u001b[0m\n",
      "  @numba.jit()\n"
     ]
    }
   ],
   "source": [
    "from top2vec import Top2Vec"
   ]
  },
  {
   "cell_type": "code",
   "execution_count": 3,
   "metadata": {},
   "outputs": [],
   "source": [
    "import pandas as pd"
   ]
  },
  {
   "cell_type": "code",
   "execution_count": 2,
   "metadata": {},
   "outputs": [],
   "source": [
    "def df_to_list(speech_df):\n",
    "    dflist = speech_df['sentence'].astype(str).tolist()\n",
    "    newlist = []\n",
    "\n",
    "    for text in dflist:\n",
    "        newlist.append(text)\n",
    "    return newlist"
   ]
  },
  {
   "cell_type": "code",
   "execution_count": 4,
   "metadata": {},
   "outputs": [],
   "source": [
    "documents = df_to_list(pd.read_pickle(\"speech_documents.pkl\"))"
   ]
  },
  {
   "cell_type": "code",
   "execution_count": 6,
   "metadata": {},
   "outputs": [
    {
     "data": {
      "text/plain": [
       "1957"
      ]
     },
     "execution_count": 6,
     "metadata": {},
     "output_type": "execute_result"
    }
   ],
   "source": [
    "len(documents)"
   ]
  },
  {
   "cell_type": "code",
   "execution_count": 7,
   "metadata": {},
   "outputs": [
    {
     "name": "stdout",
     "output_type": "stream",
     "text": [
      "['Good afternoon.', 'Earlier today, I was briefed by our senior military and national security leaders on the status of the drawdown of U.S. forces and allied forces in Afghanistan.', 'When I announced our drawdown in April, I said we would be out by September, and we’re on track to meet that target.', 'Our military mission in Afghanistan will conclude on August 31st.', 'The drawdown is proceeding in a secure and orderly way, prioritizing the safety of our troops as they depart.', 'Our military commanders advised me that once I made the decision to end the war, we needed to move swiftly to conduct the main elements of the drawdown.', 'And in this context, speed is safety.', 'And thanks to the way in which we have managed our withdrawal, no one—no one U.S. forces or any forces have—have been lost.', 'Conducting our drawdown differently would have certainly come with an increased risk of safety to our personnel.', 'To me, those risks were unacceptable.', 'And there was never any doubt that our military would perform this task efficiently and with the highest level of professionalism.', 'That’s what they do.', 'And the same is true of our NATO Allies and partners who have supported—we are supporting, and supporting us as well, as they conclude their retrograde.', 'I want to be clear: The U.S. military mission in Afghanistan continues through the end of August.', 'We remain—we retain personnel and capacities in the country, and we maintain some authority—excuse me, the same authority under which we’ve been operating for some time.', 'As I said in April, the United States did what we went to do in Afghanistan: to get the terrorists who attacked us on 9/11 and to deliver justice to Osama Bin Laden, and to degrade the terrorist threat to keep Afghanistan from becoming a base from which attacks could be continued against the United States.', 'We achieved those objectives.', 'That’s why we went.', 'We did not go to Afghanistan to nation-build.', 'And it’s the right and the responsibility of the Afghan people alone to decide their future and how they want to run their country.', 'Together, with our NATO Allies and partners, we have trained and equipped over three hu-—nearly 300,000 current serving members of the military—of the Afghan National Security Force, and many beyond that who are no longer serving.', 'Add to that, hundreds of thousands more Afghan National Defense and Security Forces trained over the last two decades.', 'We provided our Afghan partners with all the tools—let me emphasize: all the tools, training, and equipment of any modern military.', 'We provided advanced weaponry.', 'And we’re going to continue to provide funding and equipment.', 'And we’ll ensure they have the capacity to maintain their air force.', 'But most critically, as I stressed in my meeting just two weeks ago with President Ghani and Chairman Abdullah, Afghan leaders have to come together and drive toward a future that the Afghan people want and they deserve.', 'In our meeting, I also assured Ghani that U.S. support for the people of Afghanistan will endure.', 'We will continue to provide civilian and humanitarian assistance, including speaking out for the rights of women and girls.', 'I intend to maintain our diplomatic presence in Afghanistan, and we are coordinating closely with our international partners in order to continue to secure the international airport.', 'And we’re going to engage in a determined diplomacy to pursue peace and a peace agreement that will end this senseless violence.', 'I’ve asked Secretary of State Blinken and our Special Representative for Afghanistan Reconciliation to work vigorously with the parties in Afghanistan, as well as the regional and international stakeholders to support a negotiated solution.', 'To be clear—to be clear: Countries in the region have an essential role to play in supporting a peaceful settlement.', 'We’ll work with them, and they should help step up their efforts as well.', 'We’re going to continue to work for the release of detained Americans, including Mark—excuse me—Fre– Frerichs—I want to pronounce the name correctly; I mis-—I misspoke—so that he can return to his family safely.', 'We’re also going to continue to make sure that we take on the Afghan nationals who work side-by-side with U.S. forces, including interpreters and translators—since we’re no longer going to have military there after this; we’re not going to need them and they have no jobs—who are also going to be vital to our efforts so they—and they’ve been very vital—and so their families are not exposed to danger as well.', 'We’ve already dramatically accelerated the procedure time for Special Immigrant Visas to bring them to the United States.', 'Since I was inaugurated on January 20th, we’ve already approved 2,500 Special Immigrant Visas to come to the United States.', 'Up to now, fewer than half have exercised their right to do that.', 'Half have gotten on aircraft and com—commercial flights and come, and the other half believe they want to stay—at least thus far.', 'We’re working closely with Congress to change the authorization legislation so that we can streamline the process of approving those visas.', 'And those who have stood up for the operation to physically relocate thousands of Afghans and their families before the U.S. military mission concludes so that, if they choose, they can wait safely outside of Afghanistan while their U.S. visas are being processed.', 'The operation has identified U.S. facilities outside of the continental United States, as well as in third countries, to host our Afghan allies, if they ch-—if they so choose.', 'And, starting this month, we’re going to begin to re-—re-—reloc-—we’re going to begin relocation flights for Afghanistan SIV applicants and their families who choose to leave.', 'We have a point person in the White House and at the State Department-led task force coordinating all these efforts.', 'But our message to those women and men is clear: There is a home for you in the United States if you so choose, and we will stand with you just as you stood with us.', 'When I made the decision to end the U.S. military involvement in Afghanistan, I judged that it was not in the national interest of the United States of America to continue fighting this war indefinitely.', 'I made the decision with clear eyes, and I am briefed daily on the battlefield updates.', 'But for those who have argued that we should stay just six more months or just one more year, I ask them to consider the lessons of recent history.', 'In 2011, the NATO Allies and partners agreed that we would end our combat mission in 2014.', 'In 2014, some argued, “One more year.”', 'So we kept fighting, and we kept taking casualties.', 'In 2015, the same.', 'And on and on.', 'Nearly 20 years of experience has shown us that the current security situation only confirms that “just one more year” of fighting in Afghanistan is not a solution but a recipe for being there indefinitely.', 'It’s up to Afghans to make the decision about the future of their country.', 'Others are more direct.', 'Their argument is that we should stay with the Afghan—in Afghanistan indefinitely.', 'In doing so, they point to the fact that we—we have not taken losses in this last year, so they claim that the cost of just maintaining the status quo is minimal.', 'But that ignores the reality and the facts that already presented on the ground in Afghanistan when I took office: The Taliban was at its strongest mil-—is at its strongest militarily since 2001.', 'The number of U.S. forces in Afghanistan had been reduced to a bare minimum.', 'And the United States, in the last administration, made an agreement that the—with the Taliban to remove all our forces by May 1 of this past—of this year.', 'That’s what I inherited.', 'That agreement was the reason the Taliban had ceased major attacks against U.S. forces.', 'If, in April, I had instead announced that the United States was going to back—going back on that agreement made by the last administration—[that] the United States and allied forces would remain in Afghanistan for the foreseeable future—the Taliban would have again begun to target our forces.', 'The status quo was not an option.', 'Staying would have meant U.S. troops taking casualties; American men and women back in the middle of a civil war.', 'And we would have run the risk of having to send more troops back into Afghanistan to defend our remaining troops.', 'Once that agreement with the Taliban had been made, staying with a bare minimum force was no longer possible.', 'So let me ask those who wanted us to stay: How many more—how many thousands more of America’s daughters and sons are you willing to risk?', 'How long would you have them stay?', 'Already we have members of our military whose parents fought in Afghanistan 20 years ago.', 'Would you send their children and their grandchildren as well?', 'Would you send your own son or daughter?', 'After 20 years—a trillion dollars spent training and equipping hundreds of thousands of Afghan National Security and Defense Forces, 2,448 Americans killed, 20,722 more wounded, and untold thousands coming home with unseen trauma to their mental health—I will not send another generation of Americans to war in Afghanistan with no reasonable expectation of achieving a different outcome.', 'The United States cannot afford to remain tethered to policies creating a response to a world as it was 20 years ago.', 'We need to meet the threats where they are today.', 'Today, the terrorist threat has metastasized beyond Afghanistan.', 'So, we are repositioning our resources and adapting our counterterrorism posture to meet the threats where they are now significantly higher: in South Asia, the Middle East, and Africa.', 'But make no mistake: Our military and intelligence leaders are confident they have the capabilities to protect the homeland and our interests from any resurgent terrorist challenge emerging or emanating from Afghanistan.', 'We are developing a counterterrorism over-the-horizon capability that will allow us to keep our eyes firmly fixed on any direct threats to the United States in the region, and act quickly and decisively if needed.', 'And we also need to focus on shoring up America’s core strengths to meet the strategic competition with China and other nations that is really going to determine—determine our future.', 'We have to defeat COVID-19 at home and around the world, make sure we’re better prepared for the next pandemic or biological threat.', 'We need to establish international norms for cyberspace and the use of emergenc-—emerging technologies.', 'We need to take concerted action to fight existential threats of climate change.', 'And we will be more formidable to our adversaries and competitors over the long run if we fight the battles of the next 20 years, not the last 20 years.', 'Finally, I want to recognize the incredible sacrifice and dedication that the U.S. military and civilian personnel, serving alongside our Allies and partners, have made over the last two decades in Afghanistan.', 'I want to honor the significance of what they’ve accomplished and the great personal risk they encountered and the incredible cost to their families: pursuing the terrorist threat in some of the most unforgiving terrain on the planet—and I’ve been almost throughout that entire country; ensuring there hasn’t been another attack on the homeland from Afghanistan for the last 20 years; taking out Bin Laden.', 'I want to thank you all for your service and the dedication to the mission so many of you have given, and to the sacrifices that you and your families have made over the long course of this war.', 'We’ll never forget those who gave the last full measure of devotion for their country in Afghanistan, nor those whose lives have been immeasurably altered by wounds sustained in service to their country.', 'We’re ending America’s longest war, but we’ll always, always honor the bravery of the American patriots who served in it.', 'May God bless you all, and may God protect our troops', ' Good afternoon.', 'I want to speak today to the unfolding situation in Afghanistan: the developments that have taken place in the last week and the steps we’re taking to address the rapidly evolving events.\\r', 'My national security team and I have been closely monitoring the situation on the ground in Afghanistan and moving quickly to execute the plans we had put in place to respond to every constituency, including—and contingency—including the rapid collapse we’re seeing now.\\r', 'I’ll speak more in a moment about the specific steps we’re taking, but I want to remind everyone how we got here and what America’s interests are in Afghanistan.\\r', 'We went to Afghanistan almost 20 years ago with clear goals: get those who attacked us on September 11th, 2001, and make sure al Qaeda could not use Afghanistan as a base from which to attack us again.\\r', 'We did that.', 'We severely degraded al Qaeda in Afghanistan.', 'We never gave up the hunt for Osama bin Laden, and we got him.', 'That was a decade ago.', 'Our mission in Afghanistan was never supposed to have been nation building.', 'It was never supposed to be creating a unified, centralized democracy.\\r', 'Our only vital national interest in Afghanistan remains today what it has always been: preventing a terrorist attack on American homeland.\\r', 'I’ve argued for many years that our mission should be narrowly focused on counterterrorism—not counterinsurgency or nation building.', 'That’s why I opposed the surge when it was proposed in 2009 when I was Vice President.\\r', 'And that’s why, as President, I am adamant that we focus on the threats we face today in 2021—not yesterday’s threats.\\r', 'Today, the terrorist threat has metastasized well beyond Afghanistan: al Shabaab in Somalia, al Qaeda in the Arabian Peninsula, al-Nusra in Syria, ISIS attempting to create a caliphate in Syria and Iraq and establishing affiliates in multiple countries in Africa and Asia.', 'These threats warrant our attention and our resources.\\r', 'We conduct effective counterterrorism missions against terrorist groups in multiple countries where we don’t have a permanent military presence.\\r', 'If necessary, we will do the same in Afghanistan.', 'We’ve developed counterterrorism over-the-horizon capability that will allow us to keep our eyes firmly fixed on any direct threats to the United States in the region and to act quickly and decisively if needed.\\r', 'When I came into office, I inherited a deal that President Trump negotiated with the Taliban.', 'Under his agreement, U.S. forces would be out of Afghanistan by May 1, 2021—just a little over three months after I took office.\\r', 'U.S. forces had already drawn down during the Trump administration from roughly 15,500 American forces to 2,500 troops in country, and the Taliban was at its strongest militarily since 2001.\\r', 'The choice I had to make, as your President, was either to follow through on that agreement or be prepared to go back to fighting the Taliban in the middle of the spring fighting season.\\r', 'There would have been no ceasefire after May 1.', 'There was no agreement protecting our forces after May 1.', 'There was no status quo of stability without American casualties after May 1.\\r', 'There was only the cold reality of either following through on the agreement to withdraw our forces or escalating the conflict and sending thousands more American troops back into combat in Afghanistan, lurching into the third decade of conflict.', 'I stand squarely behind my decision.', 'After 20 years, I’ve learned the hard way that there was never a good time to withdraw U.S. forces.\\r', 'That’s why we were still there.', 'We were clear-eyed about the risks.', 'We planned for every contingency.\\r', 'But I always promised the American people that I will be straight with you.', 'The truth is: This did unfold more quickly than we had anticipated.\\r', 'So what’s happened?', 'Afghanistan political leaders gave up and fled the country.', 'The Afghan military collapsed, sometimes without trying to fight.\\r', 'If anything, the developments of the past week reinforced that ending U.S. military involvement in Afghanistan now was the right decision.', 'American troops cannot and should not be fighting in a war and dying in a war that Afghan forces are not willing to fight for themselves.', 'We spent over a trillion dollars.', 'We trained and equipped an Afghan military force of some 300,000 strong—incredibly well equipped—a force larger in size than the militaries of many of our NATO allies.', 'We gave them every tool they could need.', 'We paid their salaries, provided for the maintenance of their air force—something the Taliban doesn’t have.', 'Taliban does not have an air force.', 'We provided close air support.', 'We gave them every chance to determine their own future.', 'What we could not provide them was the will to fight for that future.\\r', 'There’s some very brave and capable Afghan special forces units and soldiers, but if Afghanistan is unable to mount any real resistance to the Taliban now, there is no chance that 1 year—1 more year, 5 more years, or 20 more years of U.S. military boots on the ground would’ve made any difference.\\r', 'And here’s what I believe to my core: It is wrong to order American troops to step up when Afghanistan’s own armed forces would not.', 'If the political leaders of Afghanistan were unable to come together for the good of their people, unable to negotiate for the future of their country when the chips were down, they would never have done so while U.S. troops remained in Afghanistan bearing the brunt of the fighting for them.\\r', 'And our true strategic competitors—China and Russia—would love nothing more than the United States to continue to funnel billions of dollars in resources and attention into stabilizing Afghanistan indefinitely.\\r', 'When I hosted President Ghani and Chairman Abdullah at the White House in June and again when I spoke by phone to Ghani in July, we had very frank conversations.', 'We talked about how Afghanistan should prepare to fight their civil wars after the U.S. military departed, to clean up the corruption in government so the government could function for the Afghan people.', 'We talked extensively about the need for Afghan leaders to unite politically.', 'They failed to do any of that.\\r', 'I also urged them to engage in diplomacy, to seek a political settlement with the Taliban.', 'This advice was flatly refused.', 'Mr. Ghani insisted the Afghan forces would fight, but obviously he was wrong.\\r', 'So I’m left again to ask of those who argue that we should stay: How many more generations of America’s daughters and sons would you have me send to fight Afghans—Afghanistan’s civil war when Afghan troops will not?', 'How many more lives—American lives—is it worth?', 'How many endless rows of headstones at Arlington National Cemetery?\\rI’m clear on my answer: I will not repeat the mistakes we’ve made in the past—the mistake of staying and fighting indefinitely in a conflict that is not in the national interest of the United States, of doubling down on a civil war in a foreign country, of attempting to remake a country through the endless military deployments of U.S. forces.\\r', 'Those are the mistakes we cannot continue to repeat, because we have significant vital interests in the world that we cannot afford to ignore.\\r', 'I also want to acknowledge how painful this is to so many of us.', 'The scenes we’re seeing in Afghanistan, they’re gut-wrenching, particularly for our veterans, our diplomats, humanitarian workers, for anyone who has spent time on the ground working to support the Afghan people.\\r', 'For those who have lost loved ones in Afghanistan and for Americans who have fought and served in the country—serve our country in Afghanistan—this is deeply, deeply personal.\\r', 'It is for me as well.', 'I’ve worked on these issues as long as anyone.', 'I’ve been throughout Afghanistan during this war—while the war was going on—from Kabul to Kandahar to the Kunar Valley.\\r', 'I’ve traveled there on four different occasions.', 'I met with the people.', 'I’ve spoken to the leaders.', 'I spent time with our troops.', 'And I came to understand firsthand what was and was not possible in Afghanistan.\\r', 'So, now we’re fercus [sic]—focused on what is possible.', 'We will continue to support the Afghan people.', 'We will lead with our diplomacy, our international influence, and our humanitarian aid.\\r', 'We’ll continue to push for regional diplomacy and engagement to prevent violence and instability.\\r', 'We’ll continue to speak out for the basic rights of the Afghan people—of women and girls—just as we speak out all over the world.\\r', 'I have been clear that human rights must be the center of our foreign policy, not the periphery.', 'But the way to do it is not through endless military deployments; it’s with our diplomacy, our economic tools, and rallying the world to join us.', 'Now, let me lay out the current mission in Afghanistan.', 'I was asked to authorize—and I did—6,000 U.S. troops to deploy to Afghanistan for the purpose of assisting in the departure of U.S. and Allied civilian personnel from Afghanistan, and to evacuate our Afghan allies and vulnerable Afghans to safety outside of Afghanistan.\\r', 'Our troops are working to secure the airfield and to ensure continued operation of both the civilian and military flights.', 'We’re taking over air traffic control.', 'We have safely shut down our embassy and transferred our diplomats.', 'Our dip-—our diplomatic presence is now consolidated at the airport as well.\\r', 'Over the coming days, we intend to transport out thousands of American citizens who have been living and working in Afghanistan.\\r', 'We’ll also continue to support the safe departure of civilian personnel—the civilian personnel of our Allies who are still serving in Afghanistan.\\r', 'Operation Allies Refugee [Refuge], which I announced back in July, has already moved 2,000 Afghans who are eligible for Special Immigration Visas and their families to the United States.\\r', 'In the coming days, the U.S. military will provide assistance to move more SIV-eligible Afghans and their families out of Afghanistan.\\r', 'We’re also expanding refugee access to cover other vulnerable Afghans who worked for our embassy: U.S. non-governmental agencies—or the U.S. non-governmental organizations; and Afghans who otherwise are at great risk; and U.S. news agencies.\\r', 'I know that there are concerns about why we did not begin evacuating Afghans—civilians sooner.', 'Part of the answer is some of the Afghans did not want to leave earlier—still hopeful for their country.', 'And part of it was because the Afghan government and its supporters discouraged us from organizing a mass exodus to avoid triggering, as they said, “a crisis of confidence.”\\r', 'American troops are performing this mission as professionally and as effectively as they always do, but it is not without risks.\\r', 'As we carry out this departure, we have made it clear to the Taliban: If they attack our personnel or disrupt our operation, the U.S. presence will be swift and the response will be swift and forceful.', 'We will defend our people with devastating force if necessary.\\r', 'Our current military mission will be short in time, limited in scope, and focused in its objectives: Get our people and our allies to safety as quickly as possible.', 'And once we have completed this mission, we will conclude our military withdrawal.', 'We will end America’s longest war after 20 long years of bloodshed.\\r', 'The events we’re seeing now are sadly proof that no amount of military force would ever deliver a stable, united, and secure Afghanistan—as known in history as the “graveyard of empires.”\\r', 'What is happening now could just as easily have happened 5 years ago or 15 years in the future.', 'We have to be honest: Our mission in Afghanistan has taken many missteps—made many missteps over the past two decades.', 'I’m now the fourth American President to preside over war in Afghanistan—two Democrats and two Republicans.', 'I will not pass this responsibly on—responsibility on to a fifth President.\\r', 'I will not mislead the American people by claiming that just a little more time in Afghanistan will make all the difference.', 'Nor will I shrink from my share of responsibility for where we are today and how we must move forward from here.\\r', 'I am President of the United States of America, and the buck stops with me.\\r', 'I am deeply saddened by the facts we now face.', 'But I do not regret my decision to end America’s warfighting in Afghanistan and maintain a laser-focus on our counterterrorism missions there and in other parts of the world.\\r', 'Our mission to degrade the terrorist threat of al Qaeda in Afghanistan and kill Osama bin Laden was a success.\\r', 'Our decades-long effort to overcome centuries of history and permanently change and remake Afghanistan was not, and I wrote and believed it never could be.\\r', 'I cannot and I will not ask our troops to fight on endlessly in another—in another country’s civil war, taking casualties, suffering life-shattering injuries, leaving families broken by grief and loss.\\r', 'This is not in our national security interest.', 'It is not what the American people want.', 'It is not what our troops, who have sacrificed so much over the past two decades, deserve.\\r', 'I made a commitment to the American people when I ran for President that I would bring America’s military involvement in Afghanistan to an end.', 'And while it’s been hard and messy—and yes, far from perfect—I’ve honored that commitment.\\r', 'More importantly, I made a commitment to the brave men and women who serve this nation that I wasn’t going to ask them to continue to risk their lives in a military action that should have ended long ago.', 'Our leaders did that in Vietnam when I got here as a young man.', 'I will not do it in Afghanistan.\\r', 'I know my decision will be criticized, but I would rather take all that criticism than pass this decision on to another President of the United States—yet another one—a fifth one.', 'Because it’s the right one—it’s the right decision for our people.', 'The right one for our brave service members who have risked their lives serving our nation.', 'And it’s the right one for America.', 'So, thank you.', 'May God protect our troops, our diplomats, and all of the brave Americans serving in harm’s way.', ' Been a tough day.', 'This evening in Kabul, as you all know, terrorists attacked—that we’ve been talking about and worried about, that the intelligence community has assessed\\xa0has\\xa0[was] undertaken—an attack—by a group known as ISIS-K—took the lives of American service members standing guard at the airport, and wounded several others seriously.', 'They also wounded a number of civilians, and civilians were killed as well.\\r', 'I’ve been engaged all day and in constant contact with the military commanders here in Washington, the Pentagon, as well as in Afghanistan and Doha.', 'And my commanders here in Washington and in the field have been on this with great detail, and you’ve had a chance to speak to some, so far.\\r', 'The situation on the ground is still evolving, and I’m constantly being updated.\\r', 'These American service members who gave their lives—it’s an overused word, but it’s totally appropriate—they were heroes.', 'Heroes who have been engaged in a dangerous, selfless mission to save the lives of others.\\r', 'They were part of an airlift, an evacuation effort unlike any seen in history, with more than 100,000 American citizens, American partners, Afghans who helped us, and others taken to safety in the last 11 days.', 'Just in the last 12 hours or so, another 7,000 have gotten out.\\r', 'They were part of the bravest, most capable, and the most selfless military on the face of the Earth.', 'And they were part of, simply, what I call the “backbone of America.”', 'They’re the spine of America, the best the country has to offer.\\r', 'Jill and I—our hearts ache, like I’m sure all of you do as well, for all those Afghan families who have lost loved ones, including small children, or been wounded in this vicious attack.', 'And we’re outraged as well as heartbroken.\\r', 'Being the father of an Army major who served for a year in Iraq and, before that, was in Kosovo as a U.S. attorney for the better part of six months in the middle of a war—when he came home after a year in Iraq, he was diagnosed, like many, many coming home, with an aggressive and lethal cancer of the brain—who we lost.', 'We have some sense, like many of you do, what the families of these brave heroes are feeling today.', 'You get this feeling like you’re being sucked into a black hole in the middle of your chest; there’s no way out.', 'My heart aches for you.\\r', 'But I know this: We have a continuing obligation, a sacred obligation to all of you—the families of those heroes.', 'That obligation is not temporary; it lasts forever.\\r', 'The lives we lost today were lives given in the service of liberty, the service of security, in the service of others, in the service of America.\\r', 'Like their fellow brothers and sisters in arms who died defending our vision and our values in the struggle against terrorism of—the fallen this day, they’re part of a great and noble company of American heroes.\\r', 'To those who carried out this attack, as well as anyone who wishes America harm, know this: We will not forgive.', 'We will not forget.', 'We will hunt you down and make you pay.', 'I will defend our interests and our people with every measure at my command.\\r', 'Over the past few weeks—I know you’re—many of you are probably tired of hearing me say it—we’ve been made aware by our intelligence community that the ISIS-K—an arch-enemy of the Taliban; people who were freed when both those prisons were opened—has been planning a complex set of attacks on the United States personnel and others.\\r', 'This is why, from the outset, I’ve repeatedly said this mission was extraordinarily dangerous and why I have been so determined to limit the duration of this mission.\\r', 'And as General McKenzie said, this is why our mission was designed—this is the way it was designed to operate: operate under severe stress and attack.', 'We’ve known that from the beginning.\\r', 'And as I’ve been in constant contact with our senior military leaders—and I mean constant, around the clock—and our commanders on the ground and throughout the day, they made it clear that we can and we must complete this mission, and we will.', 'And that’s what I’ve ordered them to do.\\r', 'We will not be deterred by terrorists.', 'We will not let them stop our mission.', 'We will continue the evacuation.\\r', 'I’ve also ordered my commanders to develop operational plans to strike ISIS-K assets, leadership, and facilities.', 'We will respond with force and precision at our time, at the place we choose, and the moment of our choosing.', 'Here is what you need to know: These ISIS terrorists will not win.', 'We will rescue the Americans who are there.', 'We will get out our Afghan allies out, and our mission will go on.', 'America will not be intimidated.', 'I have the utmost confidence in our brave service members who continue to execute this mission with courage and honor to save lives and get Americans, our partners, our Afghan allies out of Afghanistan.\\r', 'Every day when I talk to our commanders, I ask them what they need—what more do they need, if anything, to get the job done.', 'As they will tell you, I granted every request.', 'I reiterated to them again today, on three occasions, that they should take the maximum steps necessary to protect our forces on the ground in Kabul.\\r', 'And I also want to thank the Secretary of Defense and the military leadership at the Pentagon, and all the commanders in the field.', 'There has been complete unanimity from every commander on the objectives of this mission and the best way to achieve those objectives.\\r', 'Those who have served through the ages have drawn inspiration from the Book of Isaiah, when the Lord says, “Whom shall I send…who shall go for us?”', 'And the American military has been answering for a long time: “Here am I, Lord.', 'Send me.”', '“Here I am.', 'Send me.”\\r', 'Each one of these women and men of our armed forces are the heirs of that tradition of sacrifice of volunteering to go into harm’s way, to risk everything—not for glory, not for profit, but to defend what we love and the people we love.\\r', 'And I ask that you join me now in a moment of silence for all those in uniform and out uniform—military and civilian, who have given the last full measure of devotion.Thank you.', 'May God bless you all.', 'And may God protect those troops and all those standing watch for America.', 'We have so much to do.', 'It’s within our capacity to do it.', 'We just have to remain steadfast.', 'Steadfast.', 'We will complete our mission.', 'And we will continue, after our troops have withdrawn, to find means by which we defined any American who wishes to get out of Afghanistan.', 'We will find them and we will get them out.', ' President of the United States, Iran will never be allowed to have a nuclear weapon.', 'Good morning.\\xa0', 'I’m pleased to inform you: The American people should be extremely grateful and happy no Americans were harmed in last night’s attack by the Iranian regime.\\xa0', 'We suffered no casualties, all of our soldiers are safe, and only minimal damage was sustained at our military bases.', 'Our great American forces are prepared for anything.\\xa0', 'Iran appears to be standing down, which is a good thing for all parties concerned and a very good thing for the world.', 'No American or Iraqi lives were lost because of the precautions taken, the dispersal of forces, and an early warning system that worked very well.\\xa0', 'I salute the incredible skill and courage of America’s men and women in uniform.', 'For far too long — all the way back to 1979, to be exact — nations have tolerated Iran’s destructive and destabilizing behavior in the Middle East and beyond.\\xa0', 'Those days are over.\\xa0', 'Iran has been the leading sponsor of terrorism, and their pursuit of nuclear weapons threatens the civilized world.\\xa0', 'We will never let that happen.', 'Last week, we took decisive action to stop a ruthless terrorist from threatening American lives.\\xa0', 'At my direction, the United States military eliminated the world’s top terrorist, Qasem Soleimani.\\xa0', 'As the head of the Quds Force, Soleimani was personally responsible for some of the absolutely worst atrocities.', 'He trained terrorist armies, including Hezbollah, launching terrorist strikes against civilian targets.\\xa0', 'He fueled bloody civil wars all across the region.\\xa0', 'He viciously wounded and murdered thousands of U.S. troops, including the planting of roadside bombs that maim and dismember their victims.', 'Soleimani directed the recent attacks on US\\xa0personnel in Iraq that badly wounded four service members and killed one American, and he orchestrated the violent assault on the US\\xa0embassy in Baghdad.\\xa0', 'In recent days, he was planning new attacks on American targets, but we stopped him.', 'Soleimani’s hands were drenched in both American and Iranian blood.\\xa0', 'He should have been terminated long ago.\\xa0', 'By removing Soleimani, we have sent a powerful message to terrorists: If you value your own life, you will not threaten the lives of our people.', 'As we continue to evaluate options in response to Iranian aggression, the United States will immediately impose additional punishing economic sanctions on the Iranian regime.\\xa0', 'These powerful sanctions will remain until Iran changes its behavior.', 'In recent months alone, Iran has seized ships in international waters, fired an unprovoked strike on Saudi Arabia, and shot down two US\\xa0drones.', 'Iran’s hostilities substantially increased after the foolish Iran nuclear deal was signed in 2013, and they were given $150 billion, not to mention $1.8 billion in cash.\\xa0', 'Instead of saying “thank you” to the United States, they chanted “death to America.”\\xa0', 'In fact, they chanted “death to America” the day the agreement was signed.', 'Then, Iran went on a terror spree, funded by the money from the deal, and created hell in Yemen, Syria, Lebanon, Afghanistan, and Iraq.\\xa0', 'The missiles fired last night at us and our allies were paid for with the funds made available by the last administration.\\xa0', 'The regime also greatly tightened the reins on their own country, even recently killing 1,500 people at the many protests that are taking place all throughout Iran.', 'The very defective JCPOA expires shortly anyway, and gives Iran a clear and quick path to nuclear breakout.\\xa0', 'Iran must abandon its nuclear ambitions and end its support for terrorism.\\xa0', 'The time has come for the United Kingdom, Germany, France, Russia, and China to recognize this reality.', 'They must now break away from the remnants of the Iran deal -– or JCPOA –- and we must all work together toward making a deal with Iran that makes the world a safer and more peaceful place.\\xa0', 'We must also make a deal that allows Iran to thrive and prosper, and take advantage of its enormous untapped potential.\\xa0', 'Iran can be a great country.', 'Peace and stability cannot prevail in the Middle East as long as Iran continues to foment violence, unrest, hatred, and war.\\xa0', 'The civilized world must send a clear and unified message to the Iranian regime: Your campaign of terror, murder, mayhem will not be tolerated any longer.\\xa0', 'It will not be allowed to go forward.', 'Today, I am going to ask NATO to become much more involved in the Middle East process.\\xa0', 'Over the last three years, under my leadership, our economy is stronger than ever before and America has achieved energy independence.\\xa0', 'These historic\\xa0accomplishments\\xa0changed our strategic priorities.\\xa0', 'These are accomplishments that nobody thought were possible.\\xa0', 'And options in the Middle East became available.\\xa0', 'We are now the number-one producer of oil and natural gas anywhere in the world.\\xa0', 'We are independent, and we do not need Middle East oil.', 'The American military has been completely rebuilt under my administration, at a cost of $2.5 trillion.\\xa0', 'US\\xa0Armed Forces are stronger than ever before.\\xa0', 'Our missiles are big, powerful, accurate, lethal, and fast.\\xa0', 'Under construction are many hypersonic missiles.', 'The fact that we have this great military and equipment, however, does not mean we have to use it.\\xa0', 'We do not want to use it.\\xa0', 'American strength, both military and economic, is the best deterrent.', 'Three months ago, after destroying 100 percent of ISIS and its territorial caliphate, we killed the savage leader of ISIS, al-Baghdadi, who was responsible for so much death, including the mass beheadings of Christians, Muslims, and all who stood in his way.\\xa0', 'He was a monster.\\xa0', 'Al-Baghdadi was trying again to rebuild the ISIS caliphate, and failed.', 'Tens of thousands of ISIS fighters have been killed or captured during my administration.\\xa0', 'ISIS is a natural enemy of IranThe destruction of ISIS is good for Iran, and we should work together on this and other shared priorities.', 'Finally, to the people and leaders of Iran: We want you to have a future and a great future — one that you deserve, one of prosperity at home, and harmony with the nations of the world.\\xa0', 'The United States is ready to embrace peace with all who seek it.', 'I want to thank you, and God bless America.', 'Thank you very much.', 'Thank you.', 'Thank you.', 'As long as I am President of the United States, Iran will never be allowed to have a nuclear weapon.', 'Good morning.\\xa0', 'I’m pleased to inform you: The American people should be extremely grateful and happy no Americans were harmed in last night’s attack by the Iranian regime.\\xa0', 'We suffered no casualties, all of our soldiers are safe, and only minimal damage was sustained at our military bases.', 'Our great American forces are prepared for anything.\\xa0', 'Iran appears to be standing down, which is a good thing for all parties concerned and a very good thing for the world.', 'No American or Iraqi lives were lost because of the precautions taken, the dispersal of forces, and an early warning system that worked very well.\\xa0', 'I salute the incredible skill and courage of America’s men and women in uniform.', 'For far too long — all the way back to 1979, to be exact — nations have tolerated Iran’s destructive and destabilizing behavior in the Middle East and beyond.\\xa0', 'Those days are over.\\xa0', 'Iran has been the leading sponsor of terrorism, and their pursuit of nuclear weapons threatens the civilized world.\\xa0', 'We will never let that happen.', 'Last week, we took decisive action to stop a ruthless terrorist from threatening American lives.\\xa0', 'At my direction, the United States military eliminated the world’s top terrorist, Qasem Soleimani.\\xa0', 'As the head of the Quds Force, Soleimani was personally responsible for some of the absolutely worst atrocities.', 'He trained terrorist armies, including Hezbollah, launching terrorist strikes against civilian targets.\\xa0', 'He fueled bloody civil wars all across the region.\\xa0', 'He viciously wounded and murdered thousands of U.S. troops, including the planting of roadside bombs that maim and dismember their victims.', 'Soleimani directed the recent attacks on US\\xa0personnel in Iraq that badly wounded four service members and killed one American, and he orchestrated the violent assault on the US\\xa0embassy in Baghdad.\\xa0', 'In recent days, he was planning new attacks on American targets, but we stopped him.', 'Soleimani’s hands were drenched in both American and Iranian blood.\\xa0', 'He should have been terminated long ago.\\xa0', 'By removing Soleimani, we have sent a powerful message to terrorists: If you value your own life, you will not threaten the lives of our people.', 'As we continue to evaluate options in response to Iranian aggression, the United States will immediately impose additional punishing economic sanctions on the Iranian regime.\\xa0', 'These powerful sanctions will remain until Iran changes its behavior.', 'In recent months alone, Iran has seized ships in international waters, fired an unprovoked strike on Saudi Arabia, and shot down two US\\xa0drones.', 'Iran’s hostilities substantially increased after the foolish Iran nuclear deal was signed in 2013, and they were given $150 billion, not to mention $1.8 billion in cash.\\xa0', 'Instead of saying “thank you” to the United States, they chanted “death to America.”\\xa0', 'In fact, they chanted “death to America” the day the agreement was signed.', 'Then, Iran went on a terror spree, funded by the money from the deal, and created hell in Yemen, Syria, Lebanon, Afghanistan, and Iraq.\\xa0', 'The missiles fired last night at us and our allies were paid for with the funds made available by the last administration.\\xa0', 'The regime also greatly tightened the reins on their own country, even recently killing 1,500 people at the many protests that are taking place all throughout Iran.', 'The very defective JCPOA expires shortly anyway, and gives Iran a clear and quick path to nuclear breakout.\\xa0', 'Iran must abandon its nuclear ambitions and end its support for terrorism.\\xa0', 'The time has come for the United Kingdom, Germany, France, Russia, and China to recognize this reality.', 'They must now break away from the remnants of the Iran deal -– or JCPOA –- and we must all work together toward making a deal with Iran that makes the world a safer and more peaceful place.\\xa0', 'We must also make a deal that allows Iran to thrive and prosper, and take advantage of its enormous untapped potential.\\xa0', 'Iran can be a great country.', 'Peace and stability cannot prevail in the Middle East as long as Iran continues to foment violence, unrest, hatred, and war.\\xa0', 'The civilized world must send a clear and unified message to the Iranian regime: Your campaign of terror, murder, mayhem will not be tolerated any longer.\\xa0', 'It will not be allowed to go forward.', 'Today, I am going to ask NATO to become much more involved in the Middle East process.\\xa0', 'Over the last three years, under my leadership, our economy is stronger than ever before and America has achieved energy independence.\\xa0', 'These historic\\xa0accomplishments\\xa0changed our strategic priorities.\\xa0', 'These are accomplishments that nobody thought were possible.\\xa0', 'And options in the Middle East became available.\\xa0', 'We are now the number-one producer of oil and natural gas anywhere in the world.\\xa0', 'We are independent, and we do not need Middle East oil.', 'The American military has been completely rebuilt under my administration, at a cost of $2.5 trillion.\\xa0', 'US\\xa0Armed Forces are stronger than ever before.\\xa0', 'Our missiles are big, powerful, accurate, lethal, and fast.\\xa0', 'Under construction are many hypersonic missiles.', 'The fact that we have this great military and equipment, however, does not mean we have to use it.\\xa0', 'We do not want to use it.\\xa0', 'American strength, both military and economic, is the best deterrent.', 'Three months ago, after destroying 100 percent of ISIS and its territorial caliphate, we killed the savage leader of ISIS, al-Baghdadi, who was responsible for so much death, including the mass beheadings of Christians, Muslims, and all who stood in his way.\\xa0', 'He was a monster.\\xa0', 'Al-Baghdadi was trying again to rebuild the ISIS caliphate, and failed.', 'Tens of thousands of ISIS fighters have been killed or captured during my administration.\\xa0', 'ISIS is a natural enemy of IranThe destruction of ISIS is good for Iran, and we should work together on this and other shared priorities.', 'Finally, to the people and leaders of Iran: We want you to have a future and a great future — one that you deserve, one of prosperity at home, and harmony with the nations of the world.\\xa0', 'The United States is ready to embrace peace with all who seek it.', 'I want to thank you, and God bless America.', 'Last night, the United States brought the world’s number one terrorist leader to justice.', 'Abu Bakr al-Baghdadi is dead.', 'He was the founder and leader of ISIS, the most ruthless and violent terror organization in the World.', 'The United States has been searching for Baghdadi for many years.', 'Capturing or killing Baghdadi has been the top national security priority of my Administration.', 'U.S. Special Operations forces executed a dangerous and daring nighttime raid into Northwestern Syria to accomplish this mission.', 'No U.S. personnel were lost in the operation, while a large number of Baghdadi’s fighters and companions were killed with him.', 'He died after running into a dead-end tunnel, whimpering and crying and screaming.', 'The compound had been cleared by this time, with people either surrendering or being shot and killed.', 'Eleven young children were moved out of the house un-injured.', 'The only ones remaining were Baghdadi in the tunnel, who had dragged three children with him to certain death.', 'He reached the end of the tunnel, as our dogs chased him down.', 'He ignited his vest, killing himself and the three children.', 'His body was mutilated by the blast, but test results gave certain and positive identification.', 'The thug who tried so hard to intimidate others spent his last moments in utter fear, panic and dread – terrified of the American Forces bearing down.\\r', 'We were in the compound for approximately 2 hours, and after the mission was accomplished we took highly sensitive material and information from the raid.\\r', 'Baghdadi’s demise demonstrates America’s relentless pursuit of terrorist leaders, and our commitment to the enduring and total defeat of ISIS!\\r', 'The reach of America is long.', 'As you know, last month we announced that we recently killed Hamza Bin Laden, the very violent son of Osama Bin Laden, who was saying very bad things.', 'He was the heir apparent to Al Qaeda.', 'Terrorists who oppress and murder innocent people should never sleep soundly, knowing that we will completely destroy them.', 'These savage monsters will not escape their fate – and they will not escape the final judgement of God.', 'Baghdadi has been on the run for many years, long before I took office.', 'At my direction, as Commander-in-Chief, the United States obliterated his ‘caliphate’ in March of this year.', 'Today’s events are another reminder that we will continue to pursue the remaining ISIS terrorists to their brutal end.', 'Baghdadi and the losers who worked with him – in some cases people who had no idea what they were getting into and how dangerous and unglamorous it was – killed many people.', 'Their murder of innocent Americans Jim Foley, Steven Sotloff, Peter Kassig, and Kayla Mueller were especially heinous.', 'The shocking publicized murder of a Jordanian pilot who was burned alive in a cage for all to see, and the execution of Christians in Libya and Egypt, as well as the genocidal mass murder of Yazidis, rank ISIS among the most depraved organizations in history.', 'The forced religious conversions, the orange suits prior to many beheadings, all of which were openly displayed for the world – this was all Abu Bakr al-Baghdadi’s work.', 'He was vicious and violent, and he died in a vicious and violent way, as a coward, running and crying.', 'This raid was impeccable, and could only have taken place with the acknowledgement and help of certain other nations and people.', 'I want to thank the nations of Russia, Turkey, Syria and Iraq, and I also want to thank the Syrian Kurds for certain support they were able to give us.', 'Thank you as well to the great intelligence professionals who helped make this very successful journey possible.', 'I want to thank the soldiers, sailors, airmen, and marines involved in last night’s operation.', 'You are the very best there is anywhere in the world.', 'I want to thank General Mark Milley and our Joint Chiefs of Staff, and I also want to thank our professionals who work in other agencies of the United States government and were critical to the mission’s success.', 'Last night was a great night for the United States and for the World.', 'A brutal killer, one who has caused so much hardship and death, was violently eliminated – he will never again harm another innocent man, woman or child.', 'He died like a dog.', 'He died like a coward.', 'The world is now a much safer place.', 'God bless the United States of America!', 'Good evening.', 'Today I authorized two operations inIraq -- targeted airstrikes to protect our American personnel, and a humanitarian effort to he lp save thousands of Iraqi civilians who are trapped on a mountain without food and water an d facing almost certain death.', 'Let me explain the actions we’re taking and why.', 'First, I said in June -- as the terrorist group ISI L began an advance across Iraq -- that the United States would be prepared to take targeted mi litary action in Iraq if and when we determined that the situation required it.', 'In rece nt days, these terrorists have continued to move across Iraq, and have neared the city of Erbil , where American diplomats and civilians serve at our consulate and American military person nel advise Iraqi forces.', 'To stop the advance on Erbil, I’ve directed our mil itary to take targeted strikes against ISIL terrorist convoys should they move toward the city.', 'We intend to stay vigilant, and take action if these terrorist forces threaten our perso nnel or facilities anywhere in Iraq, including our consulate in Erbil and our embassy in Baghdad.', 'We’re also providing urgent assistance to Iraqi government and Kurdish forces so they can mor e effectively wage the fight against ISIL.', 'Second, at the request of the Iraqi government -- w e’ve begun operations to help save Iraqi civilians stranded on the mountain.', '1', 'As ISIL has marched across Iraq, it has waged a r uthless campaign against innocent Iraqis.', 'And these terror ists have been especially barbaric towards religious minorities, including Christian and Yezid is, a small and ancient religious sect.', 'Countless Iraqis have been displaced.', 'And chillingreports describe ISIL militants rounding up families, conducting mass executions, and enslavingYezidi women.', '2', 'In recent days, Yezidi women, men and children fromthe area of Sinjar have fled for their lives.', 'And thousands -- perhaps tens of thousands -- are now hiding high up on the mountain, with little but the clothes on their back s.', 'They’re without food, they’re without water.', 'People are starving.', 'And children are dyin g of thirst.', 'Meanwhile, ISIL forces below have called for the systematic destruction of the e ntire Yezidi people, which would constitute genocide.', 'So these innocent families are faced wit h a horrible choice:descend the mountain and be slaughtered, or stay and slowly die of thirs t and hunger.', 'I’ve said before, the United States cannot and shou ld not intervene every time there’s a crisis in the world.', 'So let me be clear about why we mustact, and act now.', 'When we face a situation like we do on that mountain -- with innoc ent people facing the prospect of violence on a horrific scale, when we have a mandate to help-- in this case, a request from the Iraqi government -- and when we have the unique capabilit ies to help avert a massacre, then I believe the United States of America cannot turn a blind eye.', 'We can act, carefully and responsibly, to prevent a potential act of genocide .', 'That’s what we’re doing on that mountain.', 'I’ve, therefore, authorized targeted airstrikes, ifnecessary, to help forces in Iraq as they fight to break the siege of Mount Sinjar and protect the civilians trapped there.', 'Already, American aircraft have begun conducting humanitarian airdrop s of food and water to help these desperate men, women and children survive.', 'Earlierthis week, one Iraqi in the area cried to the world, \"There is no one coming to help.\"', 'Well t oday, America is coming to help.', 'We’re also consulting with other countries -- and the Uni ted Nations -- who have called for action to address this humanitarian crisis.', 'I know that many of you are rightly concerned aboutany American military action in Iraq, even limited strikes like these.', 'I understand that .', 'I ran for this office in part to end our war in Iraq and welcome our troops home, and that’s wha t we’ve done.', 'As Commander-in-Chief, I will not allow the United States to be dragged intofighting another war in Iraq.', 'And so even as we support Iraqis as they take the fight to thes e terrorists, American combat troops will not be returning to fight in Iraq, because there’s no A merican military solution to the larger crisis in Iraq.', 'The only lasting solution is reconciliati on among Iraqi communities and stronger Iraqi security forces.', 'However, we can and should support moderate forces who can bring stability to Iraq.', 'So even as we carry out these two missions, we will continu e to pursue a broader strategy that empowers Iraqis to confront this crisis.', 'Iraqi lea ders need to come together and forge a new government that represents the legitimate interestsof all Iraqis, and that can fight back against the threats like ISIL.', 'Iraqis have named anew President, a new Speaker of Parliament, and are seeking consensus on a new Prim e Minister.', 'This is the progress that needs to continue in order to reverse the momentum of the terrorists who prey on Iraq’s divisions.', '3', 'Once Iraq has a new government, the United States w ill work with it and other countries in the region to provide increased support to deal wit h this humanitarian crisis and counterterrorism challenge.']\n"
     ]
    }
   ],
   "source": [
    "print(documents[:500])"
   ]
  },
  {
   "cell_type": "markdown",
   "metadata": {},
   "source": [
    "### Tokenized into Sentences"
   ]
  },
  {
   "cell_type": "markdown",
   "metadata": {},
   "source": [
    "Our **documents** object is already tokenized into sentences as we transformed each speech before we combined them. Therefore we can proceed to run the model with this as our documents input."
   ]
  },
  {
   "cell_type": "code",
   "execution_count": 28,
   "metadata": {},
   "outputs": [
    {
     "name": "stderr",
     "output_type": "stream",
     "text": [
      "2023-09-14 13:17:21,138 - top2vec - INFO - Pre-processing documents for training\n"
     ]
    },
    {
     "name": "stderr",
     "output_type": "stream",
     "text": [
      "2023-09-14 13:17:21,399 - top2vec - INFO - Creating joint document/word embedding\n",
      "2023-09-14 13:18:01,860 - top2vec - INFO - Creating lower dimension embedding of documents\n",
      "2023-09-14 13:18:08,582 - top2vec - INFO - Finding dense areas of documents\n",
      "2023-09-14 13:18:08,664 - top2vec - INFO - Finding topics\n"
     ]
    }
   ],
   "source": [
    "model = Top2Vec(documents=documents, speed='deep-learn', workers=5)"
   ]
  },
  {
   "cell_type": "markdown",
   "metadata": {},
   "source": [
    "#### Model Understanding"
   ]
  },
  {
   "cell_type": "code",
   "execution_count": 29,
   "metadata": {},
   "outputs": [
    {
     "name": "stdout",
     "output_type": "stream",
     "text": [
      "Number of topics: 17\n"
     ]
    }
   ],
   "source": [
    "# number of topics Top2Vec has found in the data\n",
    "print(f\"Number of topics: {model.get_num_topics()}\")"
   ]
  },
  {
   "cell_type": "code",
   "execution_count": 31,
   "metadata": {},
   "outputs": [],
   "source": [
    "# number of documents most similar to each topic\n",
    "topic_words, word_scores, topic_nums = model.get_topics(17)\n",
    "# topic_words: for each topic, the top 50 words are returned, in order of semantic similarity to topic\n",
    "# word_scores: for each topic, the cosine similafrity scores of the top 50 words to the topic are returned\n",
    "# topic_nums: the unique index of every topic will be returned"
   ]
  },
  {
   "cell_type": "code",
   "execution_count": 32,
   "metadata": {},
   "outputs": [
    {
     "name": "stdout",
     "output_type": "stream",
     "text": [
      "0 ['when' 'have' 'war' 'if' 'our' 'nation' 'many' 'do' 'time' 'women' 'them'\n",
      " 'on' 'its' 'what' 've' 'american' 'would' 'military' 'more' 'some' 'not'\n",
      " 'your' 'country' 'you' 'are' 'from' 'fight' 'region' 'over' 'iraq' 'or'\n",
      " 'america' 'who' 'but' 'terrorists' 'so' 'afghanistan' 'can' 'it' 'be'\n",
      " 'those' 'forces' 'they' 'own' 'by' 'been' 'us' 'to' 'he' 'there'] \n",
      "\n",
      "1 ['your' 'do' 'you' 'my' 'when' 'nation' 'peace' 'them' 'those' 'country'\n",
      " 'they' 'who' 'have' 'we' 'been' 'so' 'what' 'on' 'region' 'terrorists'\n",
      " 'one' 'by' 'military' 'be' 're' 'many' 'over' 'security' 'iran' 'can'\n",
      " 'or' 'our' 'if' 'that' 'all' 'iraqis' 'america' 'has' 'iraqi' 'were'\n",
      " 'also' 'for' 'his' 'want' 'people' 'freedom' 'help' 'forces' 'some'\n",
      " 'states'] \n",
      "\n",
      "2 ['iraq' 'those' 'there' 'one' 'is' 'over' 'been' 'what' 'his' 'from'\n",
      " 'afghanistan' 'that' 'not' 'in' 'has' 'we' 'an' 'america' 'when' 'no'\n",
      " 'now' 'us' 'my' 'if' 'be' 'new' 'more' 'but' 'was' 'would' 'help' 'own'\n",
      " 'it' 'so' 'forces' 'nation' 'to' 'at' 'by' 'this' 'on' 'american' 'them'\n",
      " 'must' 'for' 'out' 'fight' 'the' 'do' 'security'] \n",
      "\n",
      "3 ['us' 'iraq' 'when' 'not' 'was' 'is' 'if' 'to' 'them' 'its' 'what' 'from'\n",
      " 'war' 'new' 'as' 'own' 'america' 'that' 'there' 'fight' 'now' 'it' 'his'\n",
      " 'would' 'in' 'but' 'by' 'more' 'today' 'have' 'on' 'of' 'do' 'our' 'some'\n",
      " 'united' 'for' 'forces' 've' 'over' 'many' 'nation' 'and' 'women' 'he'\n",
      " 'with' 'has' 'the' 'an' 'be'] \n",
      "\n",
      "4 ['freedom' 'today' 'also' 'time' 'support' 'can' 'want' 'are' 'them' 'and'\n",
      " 'iraqis' 'these' 'will' 'were' 'people' 'by' 'some' 'their' 'they' 'many'\n",
      " 'iran' 'east' 'fight' 'our' 'country' 'was' 'he' 'or' 'of' 'the' 'own'\n",
      " 'have' 'to' 'with' 'your' 'peace' 'for' 've' 'as' 'its' 'world' 'now'\n",
      " 'women' 'this' 'what' 'do' 'government' 'us' 'from' 'if'] \n",
      "\n",
      "5 ['east' 'freedom' 'support' 'middle' 'peace' 'were' 'want' 'iran' 'also'\n",
      " 'today' 'their' 'people' 'these' 'can' 'iraqis' 'will' 're' 'they' 'and'\n",
      " 'are' 'must' 'the' 'by' 'government' 'all' 'country' 'your' 'this' 'he'\n",
      " 'or' 'an' 'out' 'time' 'now' 'terrorists' 'with' 'at' 'of' 'for' 'we'\n",
      " 'some' 'so' 'was' 'new' 'own' 'them' 'iraqi' 'help' 'many' 'fight'] \n",
      "\n",
      "6 ['support' 'today' 'new' 'freedom' 'people' 'east' 'iran' 'middle' 'is'\n",
      " 'was' 'must' 'and' 'will' 'now' 'also' 'the' 'their' 'to' 'want' 'by'\n",
      " 'were' 'an' 'us' 'at' 'as' 'of' 'can' 'own' 'these' 'he' 'for' 'this'\n",
      " 'in' 'there' 'with' 'it' 'government' 'united' 'them' 'fight' 'but'\n",
      " 'from' 'world' 'not' 'or' 'america' 'iraqis' 'are' 'that' 'its'] \n",
      "\n",
      "7 ['out' 'this' 'all' 're' 'are' 'were' 'can' 'want' 'these' 'country'\n",
      " 'government' 'or' 'freedom' 'terrorists' 'many' 'but' 'we' 'those' 'who'\n",
      " 'afghanistan' 'at' 'he' 'no' 'the' 'by' 'there' 'an' 'peace' 'one' 've'\n",
      " 'must' 'with' 'people' 'and' 'also' 'your' 'it' 'will' 'been' 'for' 'our'\n",
      " 'so' 'support' 'security' 'america' 'my' 'american' 'time' 'fight' 'now'] \n",
      "\n",
      "8 ['out' 'american' 'are' 'this' 'government' 'afghanistan' 'terrorists'\n",
      " 'more' 've' 'these' 'but' 're' 'many' 'time' 'war' 'no' 'at' 'our' 'can'\n",
      " 'country' 'fight' 'from' 'were' 'all' 'been' 'so' 'if' 'help' 'or'\n",
      " 'those' 'the' 'over' 'there' 'want' 'we' 'he' 'own' 'an' 'not' 'women'\n",
      " 'and' 'have' 'america' 'some' 'be' 'their' 'with' 'world' 'in' 'what'] \n",
      "\n",
      "9 ['been' 'those' 'afghanistan' 'no' 'when' 'my' 'over' 'terrorists'\n",
      " 'american' 'more' 'country' 'nation' 'have' 'one' 'if' 'you' 'out' 'many'\n",
      " 'who' 'we' 'military' 'would' 'war' 'our' 're' 'your' 'so' 'be' 'region'\n",
      " 'what' 'do' 'has' 've' 'but' 'iraq' 'from' 'security' 'or' 'on' 'america'\n",
      " 'not' 'there' 'all' 'help' 'this' 'are' 'his' 'women' 'fight' 'forces'] \n",
      "\n",
      "10 ['afghanistan' 'been' 'no' 'american' 'out' 'would' 'region' 'war' 'more'\n",
      " 'those' 'over' 'when' 'one' 'if' 've' 'who' 'but' 'terrorists' 'women'\n",
      " 'my' 'have' 'not' 'military' 'all' 'our' 'security' 'iraq' 'many' 'his'\n",
      " 'nation' 're' 'you' 'this' 'has' 'from' 'country' 'help' 'be' 'or' 'so'\n",
      " 'we' 'government' 'its' 'america' 'on' 'are' 'there' 'it' 'what' 'forces'] \n",
      "\n",
      "11 ['been' 'my' 'military' 'country' 'security' 'afghanistan' 'states'\n",
      " 'would' 'has' 'one' 'those' 'troops' 'over' 'we' 'be' 'terrorists' 'have'\n",
      " 'you' 'government' 've' 'no' 're' 'more' 'many' 'do' 'on' 'out' 'your'\n",
      " 'with' 'when' 'all' 'our' 'if' 'at' 'these' 'american' 'are' 'time'\n",
      " 'this' 'were' 'iraq' 'america' 'that' 'an' 'can' 'want' 'but' 'fight'\n",
      " 'iraqis' 'war'] \n",
      "\n",
      "12 ['troops' 'states' 'military' 'time' 'would' 'at' 'with' 'and'\n",
      " 'government' 'has' 'security' 've' 'my' 'support' 'united' 'country'\n",
      " 'these' 'be' 'iraqis' 'want' 'will' 'must' 'were' 'over' 'an' 'been' 'of'\n",
      " 'are' 'also' 'the' 'as' 'fight' 'have' 'on' 'we' 'afghanistan' 'can'\n",
      " 'more' 'today' 'terrorists' 'that' 'iraq' 'this' 'iraqi' 'do' 'many'\n",
      " 'world' 'america' 'our' 'them'] \n",
      "\n",
      "13 ['united' 'states' 'would' 'time' 'military' 'troops' 'do' 'them' 'have'\n",
      " 'as' 'when' 'with' 'and' 'will' 'its' 'world' 'us' 'support' 'if' 'of'\n",
      " 'that' 've' 'has' 'fight' 'on' 'our' 'war' 'was' 'is' 'be' 'want' 'iraq'\n",
      " 'country' 'many' 'also' 'over' 'america' 'my' 'at' 'by' 'iraqis' 'to'\n",
      " 'can' 'today' 'the' 'are' 'must' 'security' 'your' 'more'] \n",
      "\n",
      "14 ['is' 'new' 'us' 'iraq' 'was' 'his' 'now' 'in' 'united' 'that' 'as'\n",
      " 'there' 'today' 'to' 'not' 'an' 'must' 'at' 'people' 'it' 'from' 'what'\n",
      " 'own' 'america' 'iran' 'the' 'east' 'for' 'has' 'middle' 'support' 'of'\n",
      " 'their' 'states' 'iraqi' 'forces' 'he' 'by' 'its' 'but' 'them' 'and'\n",
      " 'one' 'troops' 'help' 'will' 'also' 'would' 'over' 'we'] \n",
      "\n",
      "15 ['your' 'been' 'you' 'those' 'my' 'who' 'when' 'do' 'nation' 'one' 'no'\n",
      " 'country' 'region' 'afghanistan' 'have' 'terrorists' 're' 'military' 'we'\n",
      " 'over' 'on' 'many' 'so' 'security' 'what' 'his' 'if' 'or' 'has' 'all'\n",
      " 'be' 'they' 'our' 'peace' 'would' 'more' 'iraq' 'them' 'out' 'american'\n",
      " 'women' 'america' 'that' 'war' 'there' 'not' 'help' 'from' 'it' 'but'] \n",
      "\n",
      "16 ['middle' 'east' 'states' 'peace' 'united' 'region' 'you' 'troops' 'they'\n",
      " 'would' 'women' 'world' 'who' 'been' 'security' 'freedom' 'my' 'all'\n",
      " 'your' 'iraqi' 'time' 'when' 'military' 'no' 'one' 'nation' 'on'\n",
      " 'american' 'its' 'his' 'war' 'afghanistan' 'do' 're' 'forces' 'iran' 'of'\n",
      " 'have' 'help' 'iraqis' 'over' 'that' 'he' 'as' 'in' 'some' 've' 'out'\n",
      " 'terrorists' 'so'] \n",
      "\n"
     ]
    },
    {
     "data": {
      "text/plain": [
       "[None,\n",
       " None,\n",
       " None,\n",
       " None,\n",
       " None,\n",
       " None,\n",
       " None,\n",
       " None,\n",
       " None,\n",
       " None,\n",
       " None,\n",
       " None,\n",
       " None,\n",
       " None,\n",
       " None,\n",
       " None,\n",
       " None]"
      ]
     },
     "execution_count": 32,
     "metadata": {},
     "output_type": "execute_result"
    }
   ],
   "source": [
    "[print(num, each, '\\n') for num, each in zip(topic_nums, topic_words)]"
   ]
  },
  {
   "cell_type": "markdown",
   "metadata": {},
   "source": [
    "### Tokenized into N-grams"
   ]
  },
  {
   "cell_type": "markdown",
   "metadata": {},
   "source": [
    "### Tokenized into Words"
   ]
  },
  {
   "cell_type": "markdown",
   "metadata": {},
   "source": []
  }
 ],
 "metadata": {
  "kernelspec": {
   "display_name": "rainbow",
   "language": "python",
   "name": "python3"
  },
  "language_info": {
   "codemirror_mode": {
    "name": "ipython",
    "version": 3
   },
   "file_extension": ".py",
   "mimetype": "text/x-python",
   "name": "python",
   "nbconvert_exporter": "python",
   "pygments_lexer": "ipython3",
   "version": "3.10.12"
  },
  "orig_nbformat": 4
 },
 "nbformat": 4,
 "nbformat_minor": 2
}
