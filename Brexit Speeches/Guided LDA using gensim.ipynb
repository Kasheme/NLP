{
 "cells": [
  {
   "cell_type": "markdown",
   "metadata": {},
   "source": [
    "# Guided LDA using gensim"
   ]
  },
  {
   "cell_type": "markdown",
   "metadata": {},
   "source": [
    "For a Guided LDA model, we need to provide the model with a list of topics and seed words. More often then not the topics we get from a standard, unsupervised LDA model are not to our satisfaction. Guided LDA can give the topics a nudge in the direction we want it to converge. We can call this a **semi-supervised LDA model**."
   ]
  },
  {
   "cell_type": "markdown",
   "metadata": {},
   "source": [
    "Inspiration for this notebook was provided by: https://gist.github.com/scign/2dda76c292ef76943e0cd9ff8d5a174a"
   ]
  },
  {
   "cell_type": "code",
   "execution_count": 23,
   "metadata": {},
   "outputs": [],
   "source": [
    "# Import required libraraies\n",
    "import warnings\n",
    "warnings.filterwarnings(action='ignore', category=UserWarning)\n",
    "\n",
    "import pandas as pd\n",
    "import numpy as np\n",
    "import matplotlib.pyplot as plt\n",
    "%matplotlib inline\n",
    "\n",
    "import gensim\n",
    "import nltk\n",
    "from nltk.corpus import stopwords\n",
    "from nltk.stem import WordNetLemmatizer"
   ]
  },
  {
   "cell_type": "markdown",
   "metadata": {},
   "source": [
    "There are a couple of additional subpackages that nltk requires to use the POS tagging feature and the WordNet model. We have to make sure those are downloaded."
   ]
  },
  {
   "cell_type": "code",
   "execution_count": 24,
   "metadata": {},
   "outputs": [
    {
     "name": "stderr",
     "output_type": "stream",
     "text": [
      "[nltk_data] Downloading package averaged_perceptron_tagger to\n",
      "[nltk_data]     C:\\Users\\User\\AppData\\Roaming\\nltk_data...\n",
      "[nltk_data]   Package averaged_perceptron_tagger is already up-to-\n",
      "[nltk_data]       date!\n",
      "[nltk_data] Downloading package wordnet to\n",
      "[nltk_data]     C:\\Users\\User\\AppData\\Roaming\\nltk_data...\n",
      "[nltk_data]   Package wordnet is already up-to-date!\n",
      "[nltk_data] Downloading package omw-1.4 to\n",
      "[nltk_data]     C:\\Users\\User\\AppData\\Roaming\\nltk_data...\n",
      "[nltk_data]   Package omw-1.4 is already up-to-date!\n"
     ]
    },
    {
     "data": {
      "text/plain": [
       "True"
      ]
     },
     "execution_count": 24,
     "metadata": {},
     "output_type": "execute_result"
    }
   ],
   "source": [
    "nltk.download('averaged_perceptron_tagger')\n",
    "nltk.download('wordnet')\n",
    "nltk.download('omw-1.4')"
   ]
  },
  {
   "cell_type": "markdown",
   "metadata": {},
   "source": [
    "Let's import the datasets from the EDA notebook."
   ]
  },
  {
   "cell_type": "code",
   "execution_count": 25,
   "metadata": {},
   "outputs": [],
   "source": [
    "boris_speech = pd.read_pickle(\"Pickled Files/boris_speech.pkl\")\n",
    "may_speech = pd.read_pickle(\"Pickled Files/may_speech.pkl\")"
   ]
  },
  {
   "cell_type": "code",
   "execution_count": 26,
   "metadata": {},
   "outputs": [
    {
     "data": {
      "text/html": [
       "<div>\n",
       "<style scoped>\n",
       "    .dataframe tbody tr th:only-of-type {\n",
       "        vertical-align: middle;\n",
       "    }\n",
       "\n",
       "    .dataframe tbody tr th {\n",
       "        vertical-align: top;\n",
       "    }\n",
       "\n",
       "    .dataframe thead th {\n",
       "        text-align: right;\n",
       "    }\n",
       "</style>\n",
       "<table border=\"1\" class=\"dataframe\">\n",
       "  <thead>\n",
       "    <tr style=\"text-align: right;\">\n",
       "      <th></th>\n",
       "      <th>Sentence</th>\n",
       "    </tr>\n",
       "  </thead>\n",
       "  <tbody>\n",
       "    <tr>\n",
       "      <th>0</th>\n",
       "      <td>i am pleased that this campaign has so far bee...</td>\n",
       "    </tr>\n",
       "    <tr>\n",
       "      <th>1</th>\n",
       "      <td>that rocked me  at first  and then i decided t...</td>\n",
       "    </tr>\n",
       "    <tr>\n",
       "      <th>2</th>\n",
       "      <td>for many of us who are now deeply sceptical  t...</td>\n",
       "    </tr>\n",
       "  </tbody>\n",
       "</table>\n",
       "</div>"
      ],
      "text/plain": [
       "                                            Sentence\n",
       "0  i am pleased that this campaign has so far bee...\n",
       "1  that rocked me  at first  and then i decided t...\n",
       "2  for many of us who are now deeply sceptical  t..."
      ]
     },
     "execution_count": 26,
     "metadata": {},
     "output_type": "execute_result"
    }
   ],
   "source": [
    "boris_speech.head(3)"
   ]
  },
  {
   "cell_type": "code",
   "execution_count": 27,
   "metadata": {},
   "outputs": [
    {
     "data": {
      "text/html": [
       "<div>\n",
       "<style scoped>\n",
       "    .dataframe tbody tr th:only-of-type {\n",
       "        vertical-align: middle;\n",
       "    }\n",
       "\n",
       "    .dataframe tbody tr th {\n",
       "        vertical-align: top;\n",
       "    }\n",
       "\n",
       "    .dataframe thead th {\n",
       "        text-align: right;\n",
       "    }\n",
       "</style>\n",
       "<table border=\"1\" class=\"dataframe\">\n",
       "  <thead>\n",
       "    <tr style=\"text-align: right;\">\n",
       "      <th></th>\n",
       "      <th>Sentence</th>\n",
       "    </tr>\n",
       "  </thead>\n",
       "  <tbody>\n",
       "    <tr>\n",
       "      <th>0</th>\n",
       "      <td>today i want to talk about the united kingdom ...</td>\n",
       "    </tr>\n",
       "    <tr>\n",
       "      <th>1</th>\n",
       "      <td>but before i start  i want to make clear that ...</td>\n",
       "    </tr>\n",
       "    <tr>\n",
       "      <th>2</th>\n",
       "      <td>sovereignty and membership of multilateral ins...</td>\n",
       "    </tr>\n",
       "  </tbody>\n",
       "</table>\n",
       "</div>"
      ],
      "text/plain": [
       "                                            Sentence\n",
       "0  today i want to talk about the united kingdom ...\n",
       "1  but before i start  i want to make clear that ...\n",
       "2  sovereignty and membership of multilateral ins..."
      ]
     },
     "execution_count": 27,
     "metadata": {},
     "output_type": "execute_result"
    }
   ],
   "source": [
    "may_speech.head(3)"
   ]
  },
  {
   "cell_type": "markdown",
   "metadata": {},
   "source": [
    "Here we'll create a corpus of text strings for each speech."
   ]
  },
  {
   "cell_type": "code",
   "execution_count": 28,
   "metadata": {},
   "outputs": [
    {
     "name": "stdout",
     "output_type": "stream",
     "text": [
      "i am pleased that this campaign has so far been relatively free of personal abuse   and long may it so remain   but the other day someone insulted me in terms that were redolent of     s soviet russia  he said that i had no right to vote leave  because i was in fact a  liberal cosmopolitan  \n",
      "that rocked me  at first  and then i decided that as insults go  i didn t mind it at all   because it was probably true  and so i want this morning to explain why the campaign to leave the eu is attracting other liberal spirits and people i admire such as david owen  and gisela stuart  nigel lawson  john longworth   people who love europe and who feel at home on the continent  but whose attitudes towards the project of european union have been hardening over time \n",
      "for many of us who are now deeply sceptical  the evolution has been roughly the same  we began decades ago to query the anti democratic absurdities of the eu  then we began to campaign for reform  and were excited in      by the prime minister s bloomberg speech  and then quietly despaired as no reform was forthcoming  and then thanks to the referendum given to this country by david cameron we find that a door has magically opened in our lives \n",
      "\n",
      "\n",
      "length of boris speech: 100 sentences\n",
      "\n",
      "today i want to talk about the united kingdom  our place in the world and our membership of the european union \n",
      "but before i start  i want to make clear that   as you can see   this is not a rally   it will not be an attack or even a criticism of people who take a different view to me   it will simply be my analysis of the rights and wrongs  the opportunities and risks  of our membership of the eu \n",
      "sovereignty and membership of multilateral institutions\n",
      "\n",
      "\n",
      "length of may speech: 74 sentences\n"
     ]
    }
   ],
   "source": [
    "boris_corp_list = list(boris_speech['Sentence'])\n",
    "may_corp_list = list(may_speech['Sentence'])\n",
    "\n",
    "for sentence in boris_corp_list[:3]:\n",
    "    print(sentence)\n",
    "print(\"\\n\")\n",
    "print(f\"length of boris speech: {len(boris_corp_list)} sentences\\n\")\n",
    "\n",
    "for sentence in may_corp_list[:3]:\n",
    "    print(sentence)\n",
    "print(\"\\n\")\n",
    "print(f\"length of may speech: {len(may_corp_list)} sentences\")"
   ]
  },
  {
   "cell_type": "markdown",
   "metadata": {},
   "source": [
    "We'll now perform some lemmatization using the nltk library in order to transform words into their root form (lemma.)\n",
    "\n",
    "To identify what part-of-speech any particular word is, is not easy, but nltk again comes to the rescue providing access to a part-of-speech tagger which returns a suitable tag for each word in a given text.\n",
    "\n",
    "The twist is that the nltk.pos_tag function returns the Penn Treebank tag for the word but we just want whether the word is a noun, verb, adjective or adverb. We need a short simplification routine to translate from the Penn tag to a simpler tag."
   ]
  },
  {
   "cell_type": "code",
   "execution_count": 29,
   "metadata": {},
   "outputs": [],
   "source": [
    "# simplify Penn tags to n (NOUN), v (VERB), a (ADJECTIVE) or r (ADVERB)\n",
    "def simplify(penn_tag):\n",
    "    pre = penn_tag[0]\n",
    "    if (pre == 'J'):\n",
    "        return 'a'\n",
    "    elif (pre == 'R'):\n",
    "        return 'r'\n",
    "    elif (pre == 'V'):\n",
    "        return 'v'\n",
    "    else:\n",
    "        return 'n'"
   ]
  },
  {
   "cell_type": "markdown",
   "metadata": {},
   "source": [
    "Now we can perform some preprocessing on the two corpuses."
   ]
  },
  {
   "cell_type": "code",
   "execution_count": 30,
   "metadata": {},
   "outputs": [],
   "source": [
    "def preprocess(text):\n",
    "    stop_words = stopwords.words('english')\n",
    "    toks = gensim.utils.simple_preprocess(str(text), deacc=True)\n",
    "    wn = WordNetLemmatizer()\n",
    "    return [wn.lemmatize(tok, simplify(pos)) for tok, pos in nltk.pos_tag(toks) if tok not in stop_words]"
   ]
  },
  {
   "cell_type": "code",
   "execution_count": 31,
   "metadata": {},
   "outputs": [
    {
     "name": "stdout",
     "output_type": "stream",
     "text": [
      "Boris:\n",
      "['pleased', 'campaign', 'far', 'relatively', 'free', 'personal', 'abuse', 'long', 'may', 'remain', 'day', 'someone', 'insult', 'term', 'redolent', 'soviet', 'russia', 'say', 'right', 'vote', 'leave', 'fact', 'liberal', 'cosmopolitan']\n",
      "['rock', 'first', 'decide', 'insult', 'go', 'mind', 'probably', 'true', 'want', 'morning', 'explain', 'campaign', 'leave', 'eu', 'attract', 'liberal', 'spirit', 'people', 'admire', 'david', 'owen', 'gisela', 'stuart', 'nigel', 'lawson', 'john', 'longworth', 'people', 'love', 'europe', 'feel', 'home', 'continent', 'whose', 'attitude', 'towards', 'project', 'european', 'union', 'harden', 'time']\n",
      "['many', 'u', 'deeply', 'sceptical', 'evolution', 'roughly', 'begin', 'decade', 'ago', 'query', 'anti', 'democratic', 'absurdity', 'eu', 'begin', 'campaign', 'reform', 'excite', 'prime', 'minister', 'bloomberg', 'speech', 'quietly', 'despair', 'reform', 'forthcoming', 'thanks', 'referendum', 'give', 'country', 'david', 'cameron', 'find', 'door', 'magically', 'open', 'life']\n",
      "May:\n",
      "['today', 'want', 'talk', 'united', 'kingdom', 'place', 'world', 'membership', 'european', 'union']\n",
      "['start', 'want', 'make', 'clear', 'see', 'rally', 'attack', 'even', 'criticism', 'people', 'take', 'different', 'view', 'simply', 'analysis', 'right', 'wrong', 'opportunity', 'risk', 'membership', 'eu']\n",
      "['sovereignty', 'membership', 'multilateral', 'institution']\n"
     ]
    }
   ],
   "source": [
    "boris_corp = [preprocess(line) for line in boris_corp_list]\n",
    "print(\"Boris:\")\n",
    "print(boris_corp[0])\n",
    "print(boris_corp[1])\n",
    "print(boris_corp[2])\n",
    "\n",
    "print(\"May:\")\n",
    "may_corp = [preprocess(line) for line in may_corp_list]\n",
    "print(may_corp[0])\n",
    "print(may_corp[1])\n",
    "print(may_corp[2])\n"
   ]
  },
  {
   "cell_type": "markdown",
   "metadata": {},
   "source": [
    "It looks like the lemmatizing functions have performed their task very well in putting the words into their root form depending on the POS tag. We've also removed any more lingering stopwords which is excellent."
   ]
  },
  {
   "cell_type": "markdown",
   "metadata": {},
   "source": [
    "This is very important to grasp. The LDA algorithm in gensim reads the strings in a **bag of words** format. This structure will list each distinct word in the sentence once, along with the number of times it occurs in the sentence. The <span style=\"color: red; background-color: grey\">*doc2bow*</span> function in the gensim dictionary will replace each word string with a tuple of exactly this format:"
   ]
  },
  {
   "cell_type": "code",
   "execution_count": 32,
   "metadata": {},
   "outputs": [
    {
     "name": "stdout",
     "output_type": "stream",
     "text": [
      "1110\n",
      "964\n"
     ]
    }
   ],
   "source": [
    "boris_dict = gensim.corpora.Dictionary(boris_corp)\n",
    "may_dict = gensim.corpora.Dictionary(may_corp)\n",
    "\n",
    "print(len(boris_dict))\n",
    "print(len(may_dict))"
   ]
  },
  {
   "cell_type": "markdown",
   "metadata": {},
   "source": [
    "We need to make sure that our proposed seed words are actually in each dictionary, otherwise it throw an error later when we run the model. If they're not in the dictionary we can add them using the **gensim.dictionary.add_documents** method. <br>\n",
    "\n",
    "We can also modify our dictionaries to remvoe words that will not be insightful to us and throw off our model, such as 'eu', 'european', etc. "
   ]
  },
  {
   "cell_type": "markdown",
   "metadata": {},
   "source": [
    "##### Add Words"
   ]
  },
  {
   "cell_type": "code",
   "execution_count": 33,
   "metadata": {},
   "outputs": [],
   "source": [
    "proposed_seed_words = [\n",
    "    'trade','market', 'economic', 'single', 'export',\n",
    "    'immigrant', 'immigration', 'movement', 'border', 'population',\n",
    "    'sovereignty', 'control', 'power','democracy', 'democratic']"
   ]
  },
  {
   "cell_type": "code",
   "execution_count": 34,
   "metadata": {},
   "outputs": [
    {
     "name": "stdout",
     "output_type": "stream",
     "text": [
      "False\n",
      "False\n"
     ]
    }
   ],
   "source": [
    "print(all(i in proposed_seed_words for i in boris_dict.token2id))\n",
    "print(all(i in proposed_seed_words for i in may_dict.token2id))\n",
    "# The above proves that not all of the proposed seed words are missing from the corpuses but some of them are. We'll have to check each one."
   ]
  },
  {
   "cell_type": "code",
   "execution_count": 35,
   "metadata": {},
   "outputs": [
    {
     "name": "stdout",
     "output_type": "stream",
     "text": [
      "trade True\n",
      "market True\n",
      "economic True\n",
      "single True\n",
      "export True\n",
      "immigrant False\n",
      "immigration True\n",
      "movement True\n",
      "border True\n",
      "population True\n",
      "sovereignty False\n",
      "control True\n",
      "power True\n",
      "democracy True\n",
      "democratic True\n"
     ]
    }
   ],
   "source": [
    "for word in proposed_seed_words:\n",
    "    print(word, word in boris_dict.token2id)"
   ]
  },
  {
   "cell_type": "code",
   "execution_count": 36,
   "metadata": {},
   "outputs": [],
   "source": [
    "boris_dict.add_documents([[\"immigrant\", \"sovereignty\"]])"
   ]
  },
  {
   "cell_type": "code",
   "execution_count": 37,
   "metadata": {},
   "outputs": [
    {
     "name": "stdout",
     "output_type": "stream",
     "text": [
      "trade True\n",
      "market True\n",
      "economic True\n",
      "single True\n",
      "export True\n",
      "immigrant True\n",
      "immigration True\n",
      "movement True\n",
      "border True\n",
      "population True\n",
      "sovereignty True\n",
      "control True\n",
      "power True\n",
      "democracy True\n",
      "democratic True\n"
     ]
    }
   ],
   "source": [
    "for word in proposed_seed_words:\n",
    "    print(word, word in boris_dict.token2id)"
   ]
  },
  {
   "cell_type": "code",
   "execution_count": 38,
   "metadata": {},
   "outputs": [
    {
     "name": "stdout",
     "output_type": "stream",
     "text": [
      "trade True\n",
      "market True\n",
      "economic True\n",
      "single True\n",
      "export True\n",
      "immigrant True\n",
      "immigration False\n",
      "movement True\n",
      "border True\n",
      "population True\n",
      "sovereignty True\n",
      "control True\n",
      "power True\n",
      "democracy True\n",
      "democratic True\n"
     ]
    }
   ],
   "source": [
    "for word in proposed_seed_words:\n",
    "    print(word, word in may_dict.token2id)"
   ]
  },
  {
   "cell_type": "code",
   "execution_count": 39,
   "metadata": {},
   "outputs": [],
   "source": [
    "may_dict.add_documents([[\"immigration\"]])"
   ]
  },
  {
   "cell_type": "code",
   "execution_count": 40,
   "metadata": {},
   "outputs": [
    {
     "name": "stdout",
     "output_type": "stream",
     "text": [
      "trade True\n",
      "market True\n",
      "economic True\n",
      "single True\n",
      "export True\n",
      "immigrant True\n",
      "immigration True\n",
      "movement True\n",
      "border True\n",
      "population True\n",
      "sovereignty True\n",
      "control True\n",
      "power True\n",
      "democracy True\n",
      "democratic True\n"
     ]
    }
   ],
   "source": [
    "for word in proposed_seed_words:\n",
    "    print(word, word in may_dict.token2id)"
   ]
  },
  {
   "cell_type": "markdown",
   "metadata": {},
   "source": [
    "##### Remove words"
   ]
  },
  {
   "cell_type": "code",
   "execution_count": 41,
   "metadata": {},
   "outputs": [],
   "source": [
    "# https://radimrehurek.com/gensim/corpora/dictionary.html#gensim.corpora.dictionary.Dictionary\n",
    "\n",
    "# remove most frequent word\n",
    "boris_dict.filter_tokens(bad_ids=[boris_dict.token2id['eu']])\n",
    "boris_dict.filter_tokens(bad_ids=[boris_dict.token2id['european']])\n",
    "boris_dict.filter_tokens(bad_ids=[boris_dict.token2id['europe']])\n",
    "boris_dict.filter_tokens(bad_ids=[boris_dict.token2id['country']])\n",
    "boris_dict.filter_tokens(bad_ids=[boris_dict.token2id['britain']])\n",
    "boris_dict.filter_tokens(bad_ids=[boris_dict.token2id['uk']])\n",
    "boris_dict.filter_tokens(bad_ids=[boris_dict.token2id['government']])\n",
    "boris_dict.filter_tokens(bad_ids=[boris_dict.token2id['someone']])"
   ]
  },
  {
   "cell_type": "code",
   "execution_count": 42,
   "metadata": {},
   "outputs": [],
   "source": [
    "# https://radimrehurek.com/gensim/corpora/dictionary.html#gensim.corpora.dictionary.Dictionary\n",
    "\n",
    "# remove most frequent word\n",
    "may_dict.filter_tokens(bad_ids=[may_dict.token2id['eu']])\n",
    "may_dict.filter_tokens(bad_ids=[may_dict.token2id['european']])\n",
    "may_dict.filter_tokens(bad_ids=[may_dict.token2id['europe']])\n",
    "may_dict.filter_tokens(bad_ids=[may_dict.token2id['country']])\n",
    "may_dict.filter_tokens(bad_ids=[may_dict.token2id['britain']])\n",
    "may_dict.filter_tokens(bad_ids=[may_dict.token2id['uk']])\n",
    "may_dict.filter_tokens(bad_ids=[may_dict.token2id['government']])\n",
    "#may_dict.filter_tokens(bad_ids=[may_dict.token2id['someone']])"
   ]
  },
  {
   "cell_type": "code",
   "execution_count": 43,
   "metadata": {},
   "outputs": [],
   "source": [
    "boris_bow = [boris_dict.doc2bow(line) for line in boris_corp]\n",
    "may_bow = [may_dict.doc2bow(line) for line in may_corp]"
   ]
  },
  {
   "cell_type": "code",
   "execution_count": 44,
   "metadata": {},
   "outputs": [
    {
     "name": "stdout",
     "output_type": "stream",
     "text": [
      "[(1, 1), (7, 1), (8, 1), (9, 1), (23, 1), (24, 1), (25, 1), (26, 1), (27, 1), (28, 1)]\n",
      "[(1, 1), (7, 1), (9, 1), (10, 1), (11, 1), (12, 1), (13, 1), (14, 1), (15, 1), (16, 1)]\n"
     ]
    }
   ],
   "source": [
    "print(boris_bow[1][:10])\n",
    "print(may_bow[1][:10])"
   ]
  },
  {
   "cell_type": "markdown",
   "metadata": {},
   "source": [
    "If we make any changes to the dictionary such as adding or removing words, we then have to make sure our corpus is modified accordingly to reflect these changes. Otherwise the indices won't align and we will get an **\"index out of bounds\"** error when  run the topic model."
   ]
  },
  {
   "cell_type": "code",
   "execution_count": 45,
   "metadata": {},
   "outputs": [],
   "source": [
    "removed_words = ['eu', 'european','europe','country', 'britain', 'uk', 'government', 'someone']"
   ]
  },
  {
   "cell_type": "code",
   "execution_count": 46,
   "metadata": {},
   "outputs": [],
   "source": [
    "for each_string in boris_corp_list:\n",
    "    for word in each_string:\n",
    "        if word in removed_words:\n",
    "            each_string.replace(word, \"\")"
   ]
  },
  {
   "cell_type": "code",
   "execution_count": 47,
   "metadata": {},
   "outputs": [],
   "source": [
    "for each_string in may_corp_list:\n",
    "    for word in each_string:\n",
    "        if word in removed_words:\n",
    "            each_string.replace(word, \"\")"
   ]
  },
  {
   "cell_type": "code",
   "execution_count": 48,
   "metadata": {},
   "outputs": [
    {
     "name": "stdout",
     "output_type": "stream",
     "text": [
      "1104\n",
      "100\n",
      "958\n",
      "74\n"
     ]
    }
   ],
   "source": [
    "print(len(boris_dict))\n",
    "print(len(boris_corp_list))\n",
    "print(len(may_dict))\n",
    "print(len(may_corp_list))"
   ]
  },
  {
   "cell_type": "code",
   "execution_count": 49,
   "metadata": {},
   "outputs": [
    {
     "name": "stdout",
     "output_type": "stream",
     "text": [
      "False\n",
      "False\n"
     ]
    }
   ],
   "source": [
    "print(any(i in removed_words for i in boris_corp_list))\n",
    "print(any(i in removed_words for i in may_corp_list))"
   ]
  },
  {
   "cell_type": "markdown",
   "metadata": {},
   "source": [
    "We'll set up a function that displays the probability distribution calculated by the algorithm so that we can see how the topics have been allocated across terms."
   ]
  },
  {
   "cell_type": "markdown",
   "metadata": {},
   "source": [
    "We will run the following function for each test. Train a model with our prior distribution (or 'auto'), print out the topic distribution and show the topic allocation for our corpus."
   ]
  },
  {
   "cell_type": "code",
   "execution_count": 62,
   "metadata": {},
   "outputs": [],
   "source": [
    "def run_eta(bow_select, eta, corp_list, dictionary, ntopics, print_topics=True, print_dist=True):\n",
    "    np.random.seed(42) # set the random seed for repeatability\n",
    "\n",
    "    with (np.errstate(divide='ignore')):  # ignore divide-by-zero warnings\n",
    "        model = gensim.models.ldamodel.LdaModel(\n",
    "            corpus=bow_select, id2word=dictionary, num_topics=ntopics,\n",
    "            random_state=42, chunksize=100, eta=eta,\n",
    "            eval_every=1, update_every=1,\n",
    "            passes=150, alpha='auto', per_word_topics=False, iterations=150)\n",
    "    print('Perplexity: {:.2f}'.format(model.log_perplexity(bow_select)))\n",
    "    if print_topics:\n",
    "        # display the top terms for each topic\n",
    "        for topic in range(ntopics):\n",
    "            print('Topic {}: {}'.format(topic, [dictionary[w] for w,p in model.get_topic_terms(topic, topn=10)]))\n",
    "    if print_dist:\n",
    "        # display the topic probabilities for each document\n",
    "        for line,bag in zip(corp_list[:15],bow_select):\n",
    "            doc_topics = ['({}, {:.1%})'.format(topic, prob) for topic,prob in model.get_document_topics(bag)]\n",
    "            print('{} {}'.format(line, doc_topics))\n",
    "    return model\n",
    "    # visuzlize the model term topics"
   ]
  },
  {
   "cell_type": "markdown",
   "metadata": {},
   "source": [
    "The model parameter that tracks how words are allocated to terms is called **<span style=\"color: black; background-color: grey\">eta</span>** in the gensim implementation."
   ]
  },
  {
   "cell_type": "code",
   "execution_count": 51,
   "metadata": {},
   "outputs": [
    {
     "name": "stdout",
     "output_type": "stream",
     "text": [
      "Perplexity: -6.59\n",
      "Topic 0: ['would', 'per', 'state', 'market', 'cent', 'single', 'trade', 'risk', 'way', 'could']\n",
      "Topic 1: ['right', 'human', 'court', 'parliament', 'trade', 'world', 'would', 'leave', 'could', 'economy']\n",
      "Topic 2: ['would', 'u', 'union', 'make', 'remain', 'member', 'membership', 'trade', 'want', 'people']\n",
      "today i want to talk about the united kingdom  our place in the world and our membership of the european union  ['(2, 99.7%)']\n",
      "but before i start  i want to make clear that   as you can see   this is not a rally   it will not be an attack or even a criticism of people who take a different view to me   it will simply be my analysis of the rights and wrongs  the opportunities and risks  of our membership of the eu  ['(2, 99.9%)']\n",
      "sovereignty and membership of multilateral institutions ['(0, 66.7%)', '(2, 33.0%)']\n",
      "in essence  the question the country has to answer on   rd june   whether to leave or remain   is about how we maximise britain s security  prosperity and influence in the world  and how we maximise our sovereignty  that is  the control we have over our own affairs in future  ['(2, 99.9%)']\n",
      "i use the word  maximise  advisedly  because no country or empire in world history has ever been totally sovereign  completely in control of its destiny   even at the height of their power  the roman empire  imperial china  the ottomans  the british empire  the soviet union  modern day america  were never able to have everything their own way   at different points  military rivals  economic crises  diplomatic manoeuvring  competing philosophies and emerging technologies all played their part in inflicting defeats and hardships  and necessitated compromises even for states as powerful as these  ['(2, 100.0%)']\n",
      "today  those factors continue to have their effect on the sovereignty of nations large and small  rich and poor   but there is now an additional complication   international  multilateral institutions exist to try to systematise negotiations between nations  promote trade  ensure cooperation on matters like cross border crime  and create rules and norms that reduce the risk of conflict  ['(0, 99.9%)']\n",
      "these institutions invite nation states to make a trade off  to pool and therefore cede some sovereignty in a controlled way  to prevent a greater loss of sovereignty in an uncontrolled way  through for example military conflict or economic decline  ['(0, 99.8%)']\n",
      "article   of nato s washington treaty is a good example of how this principle works  nato member countries  britain included  have agreed to be bound by the principle of collective defence   an attack on any single member will  according to the treaty  be interpreted as an attack on all members  and collective defence measures   including full military action   can be triggered   britain could find itself bound to go to war because of a dispute involving a different country   a clear and dramatic loss of control of our foreign policy   but on the other hand  nato membership means we are far more secure from attack by hostile states   which increases our control of our destiny   this is an institutionalised trade off that the vast majority of the public   and most political leaders  apart from jeremy corbyn   think is worthwhile  ['(2, 100.0%)']\n",
      "looking back at history   and not very distant history at that   we know what a world without international  multilateral institutions looks like   any student of the way in which europe stumbled its way to war in      knows that the confused lines of communications between states  the ambiguity of nations  commitments to one another  and the absence of any system to de escalate tension and conflict were key factors in the origins of the first world war   the united nations may be a flawed organisation that has failed to prevent conflict on many occasions  but nobody should want an end to a rules based international system and   so long as they have the right remits   institutions that try to promote peace and trade  ['(0, 99.9%)']\n",
      "how we reconcile these institutions and their rules with democratic government   and the need for politicians to be accountable to the public   remains one of the great challenges of this century   and the organisations of which the united kingdom should become   and remain   a member will be a matter of constant judgement for our leaders and the public for many years to come  ['(2, 99.9%)']\n",
      "principles for britain s membership of international institutions ['(2, 99.4%)']\n",
      "we need  therefore  to establish clear principles for britain s membership of these institutions   does it make us more influential beyond our own shores   does it make us more secure   does it make us more prosperous   can we control or influence the direction of the organisation in question   to what extent does membership bind the hands of parliament  ['(2, 99.9%)']\n",
      "if membership of an international institution can pass these tests  then i believe it will be in our national interest to join or remain a member of it   and on this basis  the case for britain remaining a member of organisations such as nato  the world trade organisation and the united nations  for example  is clear   ['(2, 99.9%)']\n",
      "but as i have said before  the case for remaining a signatory of the european convention on human rights   which means britain is subject to the jurisdiction of the european court of human rights   is not clear   because  despite what people sometimes think  it wasn t the european union that delayed for years the extradition of abu hamza  almost stopped the deportation of abu qatada  and tried to tell parliament that   however we voted   we could not deprive prisoners of the vote   it was the european convention on human rights  ['(1, 99.9%)']\n",
      "the echr can bind the hands of parliament  adds nothing to our prosperity  makes us less secure by preventing the deportation of dangerous foreign nationals   and does nothing to change the attitudes of governments like russia s when it comes to human rights   so regardless of the eu referendum  my view is this   if we want to reform human rights laws in this country  it isn t the eu we should leave but the echr and the jurisdiction of its court  ['(1, 99.9%)']\n"
     ]
    }
   ],
   "source": [
    "# check may with auto \n",
    "may_test = run_eta(may_bow,'auto',corp_list=may_corp_list,dictionary=may_dict, ntopics=3)"
   ]
  },
  {
   "cell_type": "markdown",
   "metadata": {},
   "source": [
    "The model parameter that tracks how words are allocated to terms is called **<span style=\"color: black; background-color: grey\">'eta'</span>** in the gensim implementation.When we use the keyword **<span style=\"color: black; background-color: grey\">'auto'</span>**, gensim presupposes an even distribution across terms and topics. As we can see, this is not going to be an accurate technique for our analysis. There is too much overlap with the topics. We'll now try to give the model a nudge by presenting it with some seed words.  <br><br>\n",
    "We can use the top 10 words from the EDA notebook for each politician to help us create the topic categories. I also am aware of the tmain topics from my studies of Brexit while at university!"
   ]
  },
  {
   "cell_type": "code",
   "execution_count": 59,
   "metadata": {},
   "outputs": [],
   "source": [
    "seed_words = {\n",
    "    'trade':0, 'market':0, 'economic':0, 'single':0, 'export':0,\n",
    "    'immigrant':1, 'immigration':1, 'movement':1, 'border':1, 'population':1,\n",
    "    'sovereignty':2, 'control':2, 'power':2,'democracy':2, \"democratic\":2\n",
    "}"
   ]
  },
  {
   "cell_type": "markdown",
   "metadata": {},
   "source": [
    "To define a prior distribution, we need to create a numpy matrix with the same number of rows and columns as topics and terms, respectively. We then populate that matrix with our prior distribution. To do this we pre-populate all the matrix elements with 1, then with a really high number for the elements that correspond to our 'guided' term-topic distribution."
   ]
  },
  {
   "cell_type": "code",
   "execution_count": 60,
   "metadata": {},
   "outputs": [],
   "source": [
    "def create_eta(seed_words, etadict, ntopics):\n",
    "    eta = np.full(shape=(ntopics, len(etadict)), fill_value=1) # create a (ntopics, nterms) matrix and fill with 1\n",
    "    for word, topic in seed_words.items(): # for each word in the list of seed words\n",
    "        keyindex = [index for index,term in etadict.items() if term==word] # look up the word in the dictionary\n",
    "        if (len(keyindex)>0): # if it's in the dictionary\n",
    "            eta[topic,keyindex[0]] = 1e7  # put a large number in there\n",
    "    eta = np.divide(eta, eta.sum(axis=0)) # normalize so that the probabilities sum to 1 over all topics\n",
    "    return eta"
   ]
  },
  {
   "cell_type": "markdown",
   "metadata": {},
   "source": [
    "##### Boris ETA Run"
   ]
  },
  {
   "cell_type": "code",
   "execution_count": 63,
   "metadata": {},
   "outputs": [
    {
     "name": "stdout",
     "output_type": "stream",
     "text": [
      "Perplexity: -0.93\n",
      "Topic 0: ['need', 'common', 'change', 'single', 'year', 'people', 'leave', 'french', 'new', 'policy']\n",
      "Topic 1: ['people', 'remain', 'economic', 'trade', 'control', 'campaign', 'leave', 'take', 'per', 'go']\n",
      "Topic 2: ['year', 'court', 'trade', 'single', 'market', 'change', 'get', 'deal', 'right', 'good']\n",
      "i am pleased that this campaign has so far been relatively free of personal abuse   and long may it so remain   but the other day someone insulted me in terms that were redolent of     s soviet russia  he said that i had no right to vote leave  because i was in fact a  liberal cosmopolitan   ['(1, 99.9%)']\n",
      "that rocked me  at first  and then i decided that as insults go  i didn t mind it at all   because it was probably true  and so i want this morning to explain why the campaign to leave the eu is attracting other liberal spirits and people i admire such as david owen  and gisela stuart  nigel lawson  john longworth   people who love europe and who feel at home on the continent  but whose attitudes towards the project of european union have been hardening over time  ['(0, 99.9%)']\n",
      "for many of us who are now deeply sceptical  the evolution has been roughly the same  we began decades ago to query the anti democratic absurdities of the eu  then we began to campaign for reform  and were excited in      by the prime minister s bloomberg speech  and then quietly despaired as no reform was forthcoming  and then thanks to the referendum given to this country by david cameron we find that a door has magically opened in our lives  ['(1, 99.9%)']\n",
      "we can see the sunlit meadows beyond  i believe we would be mad not to take this once in a lifetime chance to walk through that door because the truth is it is not we who have changed  it is the eu that has changed out of all recognition  and to keep insisting that the eu is about economics is like saying the italian mafia is interested in olive oil and real estate  ['(2, 99.9%)']\n",
      "it is true  but profoundly uninformative about the real aims of that organization  what was once the eec has undergone a spectacular metamorphosis in the last    years  and the crucial point is that it is still becoming ever more centralizing  interfering and anti democratic  ['(0, 99.9%)']\n",
      "you only have to read the lisbon treaty   whose constitutional provisions were rejected by three eu populations  the french  the dutch and the irish   to see how far this thing has moved on from what we signed up for in       brussels now has exclusive or explicit competence for trade  customs  competition  agriculture  fisheries  environment  consumer protection  transport  trans european networks  energy  the areas of freedom  security and justice  and new powers over culture  tourism  education and youth  the eu already has considerable powers to set rates of indirect taxation across the whole    nation territory  and of course it has total control of monetary policy for all    in the eurozone  ['(0, 100.0%)']\n",
      "in recent years brussels has acquired its own foreign minister  its own series of eu embassies around the world  and is continuing to develop its own defence policy  we have got to stop trying to kid the british people  we have got to stop saying one thing in brussels  and another thing to the domestic audience  we have got to stop the systematic campaign of subterfuge   to conceal from the public the scale of the constitutional changes involved  we need to look at the legal reality  which is that this is a continuing and accelerating effort to build a country called europe  ['(2, 99.9%)']\n",
      "look at that list of lisbon competences   with    new fields of policy where britain can be outvoted by a qualified majority   and you can see why the house of commons library has repeatedly confirmed that when you add primary and secondary legislation together the eu is now generating    per cent of the laws passing through parliament  ['(0, 99.9%)']\n",
      "the independence of this country is being seriously compromised  it is this fundamental democratic problem   this erosion of democracy   that brings me into this fight  ['(0, 99.7%)']\n",
      "people are surprised and alarmed to discover that our gross contributions to the eu budget are now running at about    bn a year  and that the net contribution is     bn  and it is not just that we have no control over how that money is spent  ['(0, 99.8%)']\n",
      "no one has any proper control   which is why eu spending is persistently associated with fraud  of course the remain campaign dismisses this uk contribution as a mere bagatelle   even though you could otherwise use it to pay for a new british hospital every week  but that expense is  in a sense  the least of the costs inflicted by the eu on this country  ['(1, 99.9%)']\n",
      "it is deeply corrosive of popular trust in democracy that every year uk politicians tell the public that they can cut immigration to the tens of thousands   and then find that they miss their targets by hundreds of thousands  so that we add a population the size of newcastle every year  with all the extra and unfunded pressure that puts on the nhs and other public services  ['(0, 99.9%)']\n",
      "in our desperation to meet our hopeless so called targets  we push away brilliant students from commonwealth countries  who want to pay to come to our universities  we find ourselves hard pressed to recruit people who might work in our nhs  as opposed to make use of its services   because we have absolutely no power to control the numbers who are coming with no job offers and no qualifications from the    eu countries  i am in favour of immigration  but i am also in favour of control  and of politicians taking responsibility for what is happening  and i think it bewilders people to be told that this most basic power of a state   to decide who has the right to live and work in your country   has been taken away and now resides in brussels  ['(1, 100.0%)']\n",
      "and  as i say  that is only one aspect of a steady attrition of the rights of the people to decide their priorities  and to remove  at elections  those who take the decisions  it is sad that our powers of economic self government have become so straitened that the chancellor of the exchequer has to go around personally asking other finance ministers to allow him to cut vat on tampons  and as far as i can see we still have not secured consent  ['(1, 99.9%)']\n",
      "it is very worrying that the european court of justice   luxembourg  not strasbourg   should now be freely adjudicating on human rights questions  and whether or not this country has the right to deport people the home office believes are a threat to our security  and it is peculiar that the government is now straining at the gnat of the convention and the strasbourg court  whose rulings are not actually binding on uk courts  while swallowing the camel of the    article charter of fundamental rights  which is fully justiciable by the european court in luxembourg  when you consider that it is the rulings of this court that are binding and that must be applied by every court in this country  including parliament  ['(2, 99.9%)']\n"
     ]
    },
    {
     "data": {
      "text/plain": [
       "<gensim.models.ldamodel.LdaModel at 0x1527aae7df0>"
      ]
     },
     "execution_count": 63,
     "metadata": {},
     "output_type": "execute_result"
    }
   ],
   "source": [
    "boris_eta = create_eta(seed_words, boris_dict, 3)\n",
    "run_eta(bow_select=boris_bow, eta=boris_eta, corp_list=boris_corp_list,dictionary=boris_dict,ntopics=3)"
   ]
  },
  {
   "cell_type": "markdown",
   "metadata": {},
   "source": [
    "##### May ETA Run"
   ]
  },
  {
   "cell_type": "code",
   "execution_count": 66,
   "metadata": {},
   "outputs": [
    {
     "name": "stdout",
     "output_type": "stream",
     "text": [
      "Perplexity: -2.27\n",
      "Topic 0: ['would', 'market', 'state', 'per', 'risk', 'trade', 'single', 'cent', 'way', 'could']\n",
      "Topic 1: ['right', 'human', 'court', 'parliament', 'trade', 'world', 'would', 'leave', 'could', 'economy']\n",
      "Topic 2: ['would', 'u', 'union', 'make', 'remain', 'member', 'membership', 'want', 'trade', 'people']\n",
      "today i want to talk about the united kingdom  our place in the world and our membership of the european union  ['(2, 99.7%)']\n",
      "but before i start  i want to make clear that   as you can see   this is not a rally   it will not be an attack or even a criticism of people who take a different view to me   it will simply be my analysis of the rights and wrongs  the opportunities and risks  of our membership of the eu  ['(2, 99.9%)']\n",
      "sovereignty and membership of multilateral institutions ['(0, 63.2%)', '(2, 36.5%)']\n",
      "in essence  the question the country has to answer on   rd june   whether to leave or remain   is about how we maximise britain s security  prosperity and influence in the world  and how we maximise our sovereignty  that is  the control we have over our own affairs in future  ['(2, 99.9%)']\n",
      "i use the word  maximise  advisedly  because no country or empire in world history has ever been totally sovereign  completely in control of its destiny   even at the height of their power  the roman empire  imperial china  the ottomans  the british empire  the soviet union  modern day america  were never able to have everything their own way   at different points  military rivals  economic crises  diplomatic manoeuvring  competing philosophies and emerging technologies all played their part in inflicting defeats and hardships  and necessitated compromises even for states as powerful as these  ['(2, 100.0%)']\n",
      "today  those factors continue to have their effect on the sovereignty of nations large and small  rich and poor   but there is now an additional complication   international  multilateral institutions exist to try to systematise negotiations between nations  promote trade  ensure cooperation on matters like cross border crime  and create rules and norms that reduce the risk of conflict  ['(0, 99.9%)']\n",
      "these institutions invite nation states to make a trade off  to pool and therefore cede some sovereignty in a controlled way  to prevent a greater loss of sovereignty in an uncontrolled way  through for example military conflict or economic decline  ['(0, 99.8%)']\n",
      "article   of nato s washington treaty is a good example of how this principle works  nato member countries  britain included  have agreed to be bound by the principle of collective defence   an attack on any single member will  according to the treaty  be interpreted as an attack on all members  and collective defence measures   including full military action   can be triggered   britain could find itself bound to go to war because of a dispute involving a different country   a clear and dramatic loss of control of our foreign policy   but on the other hand  nato membership means we are far more secure from attack by hostile states   which increases our control of our destiny   this is an institutionalised trade off that the vast majority of the public   and most political leaders  apart from jeremy corbyn   think is worthwhile  ['(2, 100.0%)']\n",
      "looking back at history   and not very distant history at that   we know what a world without international  multilateral institutions looks like   any student of the way in which europe stumbled its way to war in      knows that the confused lines of communications between states  the ambiguity of nations  commitments to one another  and the absence of any system to de escalate tension and conflict were key factors in the origins of the first world war   the united nations may be a flawed organisation that has failed to prevent conflict on many occasions  but nobody should want an end to a rules based international system and   so long as they have the right remits   institutions that try to promote peace and trade  ['(0, 99.9%)']\n",
      "how we reconcile these institutions and their rules with democratic government   and the need for politicians to be accountable to the public   remains one of the great challenges of this century   and the organisations of which the united kingdom should become   and remain   a member will be a matter of constant judgement for our leaders and the public for many years to come  ['(2, 99.9%)']\n",
      "principles for britain s membership of international institutions ['(2, 99.4%)']\n",
      "we need  therefore  to establish clear principles for britain s membership of these institutions   does it make us more influential beyond our own shores   does it make us more secure   does it make us more prosperous   can we control or influence the direction of the organisation in question   to what extent does membership bind the hands of parliament  ['(2, 99.9%)']\n",
      "if membership of an international institution can pass these tests  then i believe it will be in our national interest to join or remain a member of it   and on this basis  the case for britain remaining a member of organisations such as nato  the world trade organisation and the united nations  for example  is clear   ['(2, 99.9%)']\n",
      "but as i have said before  the case for remaining a signatory of the european convention on human rights   which means britain is subject to the jurisdiction of the european court of human rights   is not clear   because  despite what people sometimes think  it wasn t the european union that delayed for years the extradition of abu hamza  almost stopped the deportation of abu qatada  and tried to tell parliament that   however we voted   we could not deprive prisoners of the vote   it was the european convention on human rights  ['(1, 99.9%)']\n",
      "the echr can bind the hands of parliament  adds nothing to our prosperity  makes us less secure by preventing the deportation of dangerous foreign nationals   and does nothing to change the attitudes of governments like russia s when it comes to human rights   so regardless of the eu referendum  my view is this   if we want to reform human rights laws in this country  it isn t the eu we should leave but the echr and the jurisdiction of its court  ['(1, 99.9%)']\n"
     ]
    },
    {
     "data": {
      "text/plain": [
       "<gensim.models.ldamodel.LdaModel at 0x1527b0b2b80>"
      ]
     },
     "execution_count": 66,
     "metadata": {},
     "output_type": "execute_result"
    }
   ],
   "source": [
    "may_eta = create_eta(seed_words, may_dict, 3)\n",
    "run_eta(bow_select=may_bow, eta=may_eta, corp_list=may_corp_list,dictionary=may_dict,ntopics=3)"
   ]
  },
  {
   "cell_type": "markdown",
   "metadata": {},
   "source": [
    "Next steps:\n",
    "* Visualise results using pyldavis"
   ]
  }
 ],
 "metadata": {
  "kernelspec": {
   "display_name": "snowflakes",
   "language": "python",
   "name": "python3"
  },
  "language_info": {
   "codemirror_mode": {
    "name": "ipython",
    "version": 3
   },
   "file_extension": ".py",
   "mimetype": "text/x-python",
   "name": "python",
   "nbconvert_exporter": "python",
   "pygments_lexer": "ipython3",
   "version": "3.9.17"
  },
  "orig_nbformat": 4
 },
 "nbformat": 4,
 "nbformat_minor": 2
}
